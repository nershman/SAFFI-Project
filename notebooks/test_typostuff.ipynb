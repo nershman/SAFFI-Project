{
 "cells": [
  {
   "cell_type": "code",
   "execution_count": 1,
   "metadata": {},
   "outputs": [
    {
     "data": {
      "application/javascript": [
       "if (!(\"Notification\" in window)) {\n",
       "    alert(\"This browser does not support desktop notifications, so the %%notify magic will not work.\");\n",
       "} else if (Notification.permission !== 'granted' && Notification.permission !== 'denied') {\n",
       "    Notification.requestPermission(function (permission) {\n",
       "        if(!('permission' in Notification)) {\n",
       "            Notification.permission = permission;\n",
       "        }\n",
       "    })\n",
       "}\n"
      ],
      "text/plain": [
       "<IPython.core.display.Javascript object>"
      ]
     },
     "metadata": {},
     "output_type": "display_data"
    }
   ],
   "source": [
    "#if jupyternotify is installed, we can add %notify to a cell to get an alert when it ifnished running\n",
    "%load_ext jupyternotify"
   ]
  },
  {
   "cell_type": "code",
   "execution_count": 2,
   "metadata": {},
   "outputs": [],
   "source": [
    "import metrics_helpers as indicators\n",
    "import pickle as pk\n",
    "import gc\n",
    "import numpy as np\n",
    "from matplotlib import pyplot as plt\n",
    "import seaborn as sns\n",
    "import pandas as pd"
   ]
  },
  {
   "cell_type": "markdown",
   "metadata": {},
   "source": [
    "# Create Indicators"
   ]
  },
  {
   "cell_type": "code",
   "execution_count": 3,
   "metadata": {},
   "outputs": [],
   "source": [
    "def dt_to_int(dt): #datetime to integer\n",
    "    return dt.astype('int')/(10**9)"
   ]
  },
  {
   "cell_type": "code",
   "execution_count": 4,
   "metadata": {},
   "outputs": [
    {
     "name": "stderr",
     "output_type": "stream",
     "text": [
      "/usr/local/lib/python3.8/site-packages/numpy/core/fromnumeric.py:3334: RuntimeWarning: Mean of empty slice.\n",
      "  return _methods._mean(a, axis=axis, dtype=dtype,\n",
      "/usr/local/lib/python3.8/site-packages/numpy/core/_methods.py:161: RuntimeWarning: invalid value encountered in double_scalars\n",
      "  ret = ret.dtype.type(ret / rcount)\n"
     ]
    }
   ],
   "source": [
    "#netmums\n",
    "\n",
    "\n",
    "with open('/Users/sma/Documents/INRAE internship/scrape-git/netmums/allposts_rerun.pkl', 'rb') as f:\n",
    "    netmums = pk.load(f)\n",
    "\n",
    "    \n",
    "nm_ind = indicators.indicators(netmums, fb=False)\n",
    "#this one takes long, around 20 seconds I think."
   ]
  },
  {
   "cell_type": "code",
   "execution_count": 6,
   "metadata": {},
   "outputs": [],
   "source": [
    "import pandas as pd"
   ]
  },
  {
   "cell_type": "markdown",
   "metadata": {},
   "source": [
    "## Create two term totals\n",
    "combine counts for terms which are hazards and terms which are products."
   ]
  },
  {
   "cell_type": "code",
   "execution_count": 11,
   "metadata": {},
   "outputs": [],
   "source": [
    "#choose terms to count in totals\n",
    "term_count_df = nmdf[nmdf.columns[pd.Series(nmdf.columns).str.startswith('term_counts_')]]\n",
    "\n",
    "products = term_count_df.columns[[5,12,13,17,33, 34, 35, 44,45,57, 58, 65,66,68, 69,70,78, 79,80, 85]]\n",
    "hazards = term_count_df.columns[[1,2,3,9,10,11,14,15,16,18,\n",
    "                                 19,20,21,22,23,24,25,26,27,\n",
    "                                 28,30,31,37,38,39,40,\n",
    "                                 41,42,43,46,47,48,49,50,51,\n",
    "                                 52,53,54,55,56,59,60,61,62,\n",
    "                                 63,64,67,71,72,73,74,75,76,\n",
    "                                 77,81,82,83,84]]\n"
   ]
  },
  {
   "cell_type": "code",
   "execution_count": 12,
   "metadata": {},
   "outputs": [
    {
     "data": {
      "text/plain": [
       "Index(['term_counts_acrylamid', 'term_counts_acrylamide',\n",
       "       'term_counts_additives', 'term_counts_bacteria',\n",
       "       'term_counts_biphenyls', 'term_counts_bisphenol', 'term_counts_bpa',\n",
       "       'term_counts_campylobacter', 'term_counts_carcinogen',\n",
       "       'term_counts_chemical', 'term_counts_chemicals',\n",
       "       'term_counts_contaminants', 'term_counts_contaminated',\n",
       "       'term_counts_cronobacter', 'term_counts_deoxynivalenol',\n",
       "       'term_counts_dioxin', 'term_counts_disruptor', 'term_counts_drugs',\n",
       "       'term_counts_e-coli', 'term_counts_ecoli', 'term_counts_endocrine',\n",
       "       'term_counts_estrogen', 'term_counts_fungus', 'term_counts_genetically',\n",
       "       'term_counts_gm', 'term_counts_gmo', 'term_counts_hazard',\n",
       "       'term_counts_histamine', 'term_counts_hydrocarbons',\n",
       "       'term_counts_listeria', 'term_counts_metals', 'term_counts_microbes',\n",
       "       'term_counts_microbiologic', 'term_counts_moah', 'term_counts_modified',\n",
       "       'term_counts_moh', 'term_counts_mold', 'term_counts_mould',\n",
       "       'term_counts_mycotoxin', 'term_counts_nitrates',\n",
       "       'term_counts_parasites', 'term_counts_pcb', 'term_counts_pesticides',\n",
       "       'term_counts_phthalates', 'term_counts_poisoning',\n",
       "       'term_counts_poisonous', 'term_counts_preservatives',\n",
       "       'term_counts_safety', 'term_counts_salmonella', 'term_counts_saturated',\n",
       "       'term_counts_spores', 'term_counts_sweeteners', 'term_counts_toxic',\n",
       "       'term_counts_toxin', 'term_counts_vet', 'term_counts_veterinary',\n",
       "       'term_counts_virus', 'term_counts_vomitoxin'],\n",
       "      dtype='object')"
      ]
     },
     "execution_count": 12,
     "metadata": {},
     "output_type": "execute_result"
    }
   ],
   "source": [
    "hazards"
   ]
  },
  {
   "cell_type": "code",
   "execution_count": 13,
   "metadata": {},
   "outputs": [
    {
     "data": {
      "text/plain": [
       "Index(['term_counts_applesauce', 'term_counts_bottle',\n",
       "       'term_counts_bottle-fed', 'term_counts_cereal', 'term_counts_food',\n",
       "       'term_counts_for', 'term_counts_formula', 'term_counts_jar',\n",
       "       'term_counts_jarred', 'term_counts_oatmeal', 'term_counts_oats',\n",
       "       'term_counts_porridge', 'term_counts_premade', 'term_counts_pudding',\n",
       "       'term_counts_puree', 'term_counts_purée', 'term_counts_veg',\n",
       "       'term_counts_vegetable', 'term_counts_veggie', 'term_counts_yoghurt'],\n",
       "      dtype='object')"
      ]
     },
     "execution_count": 13,
     "metadata": {},
     "output_type": "execute_result"
    }
   ],
   "source": [
    "products"
   ]
  },
  {
   "cell_type": "markdown",
   "metadata": {},
   "source": [
    "create the totals of terms in two categories."
   ]
  },
  {
   "cell_type": "code",
   "execution_count": 14,
   "metadata": {},
   "outputs": [],
   "source": [
    "#netmums\n",
    "#add totals\n",
    "term_count_df = nmdf[nmdf.columns[pd.Series(nmdf.columns).str.startswith('term_counts_')]]\n",
    "\n",
    "products = term_count_df.columns[[5,12,13,17,33, 34, 35, 44,45,57, 58, 65,66,68, 69,70,78, 79,80, 85]]\n",
    "hazards = term_count_df.columns[[1,2,3,4,6,7,8,9,10,11,14,15,16,18,19,20,21,22,23,24,25,26,27,28,29,30,31,32,36,37,38,39,40,41,42,43,46,47,48,49,50,51,52,53,54,55,56,59,60,61,62,63,64,67,71,72,73,74,75,76,77,81,82,83,84]]\n",
    "\n",
    "\n",
    "term_count_hazard_df = term_count_df[hazards]\n",
    "term_count_product_df = term_count_df[products]\n",
    "\n",
    "url_term_count_df = nmdf[nmdf.columns[pd.Series(nmdf.columns).str.startswith('url_term_counts_')]]\n",
    "\n",
    "url_term_count_hazard_df = url_term_count_df['url_' + hazards]\n",
    "url_term_count_product_df = url_term_count_df['url_' + products] \n",
    "\n",
    "\n",
    "nmdf['total_term_count'] = term_count_df.sum(axis=1) #make sure there's no s because we can easily filter the non totals then with contains.\n",
    "nmdf['total_url_term_count'] = term_count_df.sum(axis=1)\n",
    "\n",
    "nmdf['total_term_count_hazard'] = term_count_hazard_df.sum(axis=1) #make sure there's no s because we can easily filter the non totals then with contains.\n",
    "nmdf['total_url_term_count_hazard'] = url_term_count_hazard_df.sum(axis=1)\n",
    "\n",
    "nmdf['total_term_count_product'] = term_count_product_df.sum(axis=1) #make sure there's no s because we can easily filter the non totals then with contains.\n",
    "nmdf['total_url_term_count_product'] = url_term_count_product_df.sum(axis=1)"
   ]
  },
  {
   "cell_type": "markdown",
   "metadata": {},
   "source": [
    "# Make Indicators Relative so More Easily Interpreted."
   ]
  },
  {
   "cell_type": "code",
   "execution_count": 20,
   "metadata": {},
   "outputs": [],
   "source": [
    "#TODO adjust this for the new indicators...\n",
    "#will involve some playing around / investigating I guess.\n",
    "\n",
    "nmdf = nmdf.copy()\n",
    "#so we don't get an error for operating on a slice or sth"
   ]
  },
  {
   "cell_type": "code",
   "execution_count": 21,
   "metadata": {},
   "outputs": [],
   "source": [
    "nmdf['total_term_count'] = nmdf['total_term_count'] / (nmdf['avg_post_length'] + 1)\n",
    "nmdf['total_term_count_hazard'] = nmdf['total_term_count_hazard'] / (nmdf['avg_post_length'] + 1)\n",
    "nmdf['total_term_count_product'] = nmdf['total_term_count_product'] / (nmdf['avg_post_length'] + 1)\n",
    "#FIXME divide by available comments insteand of average post length (for netmums only.)\n",
    "\n",
    "nmdf['num_unique_posters'] = nmdf['num_unique_posters'] / (nmdf['available_comments'] + 1)"
   ]
  },
  {
   "cell_type": "markdown",
   "metadata": {},
   "source": [
    "## Modify Time so We can Graph It."
   ]
  },
  {
   "cell_type": "code",
   "execution_count": null,
   "metadata": {},
   "outputs": [],
   "source": [
    "from datetime import datetime\n",
    "nmdf['int_post_time'] = dt_to_int(nmdf.post_time.dropna()) "
   ]
  },
  {
   "cell_type": "markdown",
   "metadata": {},
   "source": [
    "# Pair Plots\n",
    "\n",
    "Take a sample of 500 points and plot the pair plots of our indicators.\n",
    "Datetime could not be plotted, so it's converted to int. We can estimate on the graph what the corresponding date is by looking at quantiles.\n",
    "Lexical richness uses a measure called MTLD, which should be less biased for short documents than the most common TTR (Type-Token Ratio)\n"
   ]
  },
  {
   "cell_type": "code",
   "execution_count": 23,
   "metadata": {},
   "outputs": [],
   "source": [
    "nm_indicators = \\\n",
    "['total_term_count',\n",
    "'total_term_count_hazard',\n",
    "'total_term_count_product',\n",
    "'num_unique_posters',\n",
    "'avg_post_length',\n",
    "'lexical_richness', \n",
    "'term_distance_simple']\n",
    "\n"
   ]
  },
  {
   "cell_type": "markdown",
   "metadata": {},
   "source": [
    "# Final Set of Criterion\n",
    "\n",
    " * year >= 2016\n",
    " * non-zero occurences of both a product and a hazard term\n",
    " * distance between product and hazard is below the 95th percentile.\n",
    " \n",
    " * if this approach proves not to yield results, we can instead attempt to take a subset based on the subforum which results occur in !"
   ]
  },
  {
   "cell_type": "markdown",
   "metadata": {},
   "source": [
    "# Basic Descriptive Statistics\n"
   ]
  },
  {
   "cell_type": "markdown",
   "metadata": {},
   "source": [
    "## Netmums"
   ]
  },
  {
   "cell_type": "markdown",
   "metadata": {},
   "source": [
    "### Export the Keys for our Desired Subset."
   ]
  },
  {
   "cell_type": "code",
   "execution_count": 26,
   "metadata": {},
   "outputs": [],
   "source": [
    "#export the keys #TODO\n",
    "temp = nmdf.loc[nmdf.total_term_count_hazard > 0].loc[nmdf.total_term_count_product > 0].loc[nmdf.post_time >= time_cutoff].loc[nmdf.term_distance_simple <= 491]"
   ]
  },
  {
   "cell_type": "markdown",
   "metadata": {},
   "source": [
    "# Clean Text\n",
    "We now construct our subset form the desired keys and then process the text.\n",
    "* remove typos of relevant words using Levenshtein Distances\n",
    "* replace tokens for specific foods and brands with their category, after compiling lists of these terms using word2vec\n",
    "    * replace tokens for all types of fruits with fruit\n",
    "    * replace tokens for all types of vegetable with vegetable\n",
    "    * replace tokens for all types of grains with \"cereal\" (???) should I??"
   ]
  },
  {
   "cell_type": "markdown",
   "metadata": {},
   "source": [
    "#### Initialization "
   ]
  },
  {
   "cell_type": "code",
   "execution_count": 27,
   "metadata": {},
   "outputs": [],
   "source": [
    "import fuzzy_typos\n",
    "import time"
   ]
  },
  {
   "cell_type": "code",
   "execution_count": 28,
   "metadata": {},
   "outputs": [],
   "source": [
    "foodwords = [\n",
    "#infant formula\n",
    "\"formula\",\"baby formula\", \"bottle-fed\", \"bottle\",\n",
    "#sterizlized vegetable mixed with fish\n",
    "\"veggie baby food\",\"vegetable baby food\",\n",
    "\"veg puree\", \"veg purée\",\n",
    "#fresh fruit puree mildly processed\n",
    "\"fruit puree\",\"fruit baby food\", \"fruit purée\", \"applesauce\",\n",
    "#infant cereals\n",
    "\"cereal for baby\", \"cereal\", \"porridge\", \"oats\", \"oatmeal\",\n",
    "#other\n",
    "\"jar food\", \"baby food\", \"jarred\", \"premade food\", \"puree\", \"purée\", \"jarred food\"\n",
    ",\"yoghurt\", \"pudding\"]"
   ]
  },
  {
   "cell_type": "code",
   "execution_count": 29,
   "metadata": {},
   "outputs": [],
   "source": [
    "hazardwords = [\"Chemical contaminants\",#ENDOCRINE DISRUPTOR\n",
    "\"Endocrine disruptor\",\"endocrine\",\"estrogen\",#end\n",
    "#FOOD PRESERVATIVES, SWEETENERS AND ADDITIVES\n",
    "\"preservatives\",\"sweeteners\",\"additives\", #end\n",
    "\"Pesticides\",#VETERINARY DRUGS\n",
    "\"Veterinary drugs\",\"animal drugs\",\"vet drugs\", #end\n",
    "#GMO\n",
    "\"GMO\",\"GM\",\"genetically modified\",#end\n",
    "\"Metals\",\"Mycotoxin\",#BISPHENOL A\n",
    "\"Bisphenol A\",\"BPA\", #end\n",
    "#FURAN - removed because nothing related to this returns results\n",
    "#DON (note that this acronym nobody uses and all results are from words like \"don't\")\n",
    "\"deoxynivalenol\",\"vomitoxin\",#end\n",
    "#DIOXIN AND PCB\n",
    "\"Dioxin\",\"PCB\",\"biphenyls\",#end\n",
    "#MOH\n",
    "\"MOH\",\"hydrocarbons\",\"saturated hydrocarbons\",\"MOAH\",\"aromatic hydrocarbons\",#end\n",
    "\"Nitrates\",\n",
    "#ACRYLAMID\n",
    "\"Acrylamid\",\n",
    "\"Acrylamide\",\n",
    "\"phthalates\",\n",
    "#MICROBIOLOGIC CONTAMINANTS\n",
    "\"Microbiologic contaminants\",\"spores\",\"mold\",\"mould\",\"virus\",\"microbes\",\"contaminated\",#end\n",
    "\"Salmonella\",\"Campylobacter\",\"Listeria\",\n",
    "#ECOLI\n",
    "\"EColi\",\n",
    "\"E-coli\", #end\n",
    "\"Cronobacter\",\n",
    "\"Histamine\",\n",
    "#other bacteria\n",
    "\"bacteria\",#end\n",
    "\"Virus\",\n",
    "\"Parasites\",\n",
    "#UNRELATED BUT MAYBE USEFUL?\n",
    "\"carcinogen\",\"chemicals\", \"toxic\", \"toxin\", \"poisonous\", \"fungus\", \"food poisoning\", \"hazard\",\"EFSA\",\"European Food Safety Authority\"]"
   ]
  },
  {
   "cell_type": "code",
   "execution_count": 30,
   "metadata": {},
   "outputs": [],
   "source": [
    "f = fuzzy_typos.fuzzy_typos(foodwords)\n",
    "h = fuzzy_typos.fuzzy_typos(hazardwords)"
   ]
  },
  {
   "cell_type": "markdown",
   "metadata": {},
   "source": [
    "#### Parallelization"
   ]
  },
  {
   "cell_type": "code",
   "execution_count": 31,
   "metadata": {},
   "outputs": [],
   "source": [
    "from joblib import Parallel, delayed"
   ]
  },
  {
   "cell_type": "code",
   "execution_count": 60,
   "metadata": {},
   "outputs": [],
   "source": [
    "keys = list(nm_ind.text_dict.keys())\n",
    "num_keys = len(keys)\n",
    "num_lists = 20 #how many instances will be split for parallel processing\n",
    "list_of_list_of_keys = [keys[slice(i,num_keys,num_lists)] for i in range(num_lists)]\n",
    "\n",
    "def get_small_dict(list_of_keys): #we give process small dicts because o.w. the whole dict (a global) will get duplicated in each instance\n",
    "    return {key: nm_ind.text_dict[key] for key in list_of_keys}\n",
    "\n",
    "def process(small_dict):\n",
    "    return {key: f.fix_typos(value) for key, value in small_dict.items()}"
   ]
  },
  {
   "cell_type": "code",
   "execution_count": 61,
   "metadata": {},
   "outputs": [],
   "source": [
    "list_of_small_dict = [get_small_dict(i) for i in list_of_list_of_keys]"
   ]
  },
  {
   "cell_type": "code",
   "execution_count": 34,
   "metadata": {},
   "outputs": [
    {
     "name": "stdout",
     "output_type": "stream",
     "text": [
      "default food words time: 877.6941518783569\n"
     ]
    },
    {
     "data": {
      "application/javascript": [
       "$(document).ready(\n",
       "    function() {\n",
       "        function appendUniqueDiv(){\n",
       "            // append a div with our uuid so we can check that it's already\n",
       "            // been sent and avoid duplicates on page reload\n",
       "            var notifiedDiv = document.createElement(\"div\")\n",
       "            notifiedDiv.id = \"a38286bd-a7fd-480f-ab7f-e7c69645d758\"\n",
       "            element.append(notifiedDiv)\n",
       "        }\n",
       "\n",
       "        // only send notifications if the pageload is complete; this will\n",
       "        // help stop extra notifications when a saved notebook is loaded,\n",
       "        // which during testing gives us state \"interactive\", not \"complete\"\n",
       "        if (document.readyState === 'complete') {\n",
       "            // check for the div that signifies that the notification\n",
       "            // was already sent\n",
       "            if (document.getElementById(\"a38286bd-a7fd-480f-ab7f-e7c69645d758\") === null) {\n",
       "                var notificationPayload = {\"requireInteraction\": false, \"icon\": \"/static/base/images/favicon.ico\", \"body\": \"Cell execution has finished!\"};\n",
       "                if (Notification.permission !== 'denied') {\n",
       "                    if (Notification.permission !== 'granted') { \n",
       "                        Notification.requestPermission(function (permission) {\n",
       "                            if(!('permission' in Notification)) {\n",
       "                                Notification.permission = permission\n",
       "                            }\n",
       "                        })\n",
       "                    }\n",
       "                    if (Notification.permission === 'granted') {\n",
       "                    var notification = new Notification(\"Jupyter Notebook\", notificationPayload)\n",
       "                    appendUniqueDiv()\n",
       "                    notification.onclick = function () {\n",
       "                        window.focus();\n",
       "                        this.close();\n",
       "                        };\n",
       "                    } \n",
       "                }     \n",
       "            }\n",
       "        }\n",
       "    }\n",
       ")\n"
      ],
      "text/plain": [
       "<IPython.core.display.Javascript object>"
      ]
     },
     "metadata": {},
     "output_type": "display_data"
    }
   ],
   "source": [
    "start = time.time()\n",
    "results = Parallel(n_jobs=-1)(delayed(process)(i) for i in list_of_small_dict)\n",
    "end = time.time()\n",
    "print('default food words time: ' + str(end - start),)\n",
    "%notify"
   ]
  },
  {
   "cell_type": "code",
   "execution_count": 35,
   "metadata": {},
   "outputs": [],
   "source": [
    "untypod_dict = {key:value for dictionary in results for key,value in dictionary.items()}"
   ]
  },
  {
   "cell_type": "code",
   "execution_count": 38,
   "metadata": {},
   "outputs": [
    {
     "data": {
      "text/plain": [
       "6523"
      ]
     },
     "execution_count": 38,
     "metadata": {},
     "output_type": "execute_result"
    }
   ],
   "source": [
    "len(untypod_dict.keys())"
   ]
  },
  {
   "cell_type": "code",
   "execution_count": 39,
   "metadata": {},
   "outputs": [
    {
     "data": {
      "text/plain": [
       "6523"
      ]
     },
     "execution_count": 39,
     "metadata": {},
     "output_type": "execute_result"
    }
   ],
   "source": [
    "len(nm_ind.text_dict.keys())"
   ]
  },
  {
   "cell_type": "code",
   "execution_count": null,
   "metadata": {},
   "outputs": [],
   "source": []
  },
  {
   "cell_type": "code",
   "execution_count": null,
   "metadata": {},
   "outputs": [],
   "source": []
  },
  {
   "cell_type": "code",
   "execution_count": null,
   "metadata": {},
   "outputs": [],
   "source": []
  },
  {
   "cell_type": "code",
   "execution_count": 47,
   "metadata": {},
   "outputs": [
    {
     "data": {
      "text/plain": [
       "{'query': {'https://www.netmums.com/search/chat/Chemical contaminants baby food',\n",
       "  'https://www.netmums.com/search/chat/Chemical contaminants baby formula',\n",
       "  'https://www.netmums.com/search/chat/Chemical contaminants bottle',\n",
       "  'https://www.netmums.com/search/chat/Chemical contaminants bottle-fed',\n",
       "  'https://www.netmums.com/search/chat/Chemical contaminants cereal for baby',\n",
       "  'https://www.netmums.com/search/chat/Chemical contaminants formula',\n",
       "  'https://www.netmums.com/search/chat/Chemical contaminants jar food',\n",
       "  'https://www.netmums.com/search/chat/Chemical contaminants yoghurt',\n",
       "  'https://www.netmums.com/search/chat/MOH bottle-fed',\n",
       "  'https://www.netmums.com/search/chat/Metals baby food',\n",
       "  'https://www.netmums.com/search/chat/Metals baby formula',\n",
       "  'https://www.netmums.com/search/chat/Metals bottle',\n",
       "  'https://www.netmums.com/search/chat/Metals bottle-fed',\n",
       "  'https://www.netmums.com/search/chat/Metals formula',\n",
       "  'https://www.netmums.com/search/chat/chemicals baby formula',\n",
       "  'https://www.netmums.com/search/chat/chemicals bottle',\n",
       "  'https://www.netmums.com/search/chat/chemicals bottle-fed',\n",
       "  'https://www.netmums.com/search/chat/chemicals formula',\n",
       "  'https://www.netmums.com/search/chat/contaminated baby food',\n",
       "  'https://www.netmums.com/search/chat/contaminated baby formula',\n",
       "  'https://www.netmums.com/search/chat/contaminated bottle',\n",
       "  'https://www.netmums.com/search/chat/contaminated bottle-fed',\n",
       "  'https://www.netmums.com/search/chat/contaminated formula',\n",
       "  'https://www.netmums.com/search/chat/food poisoning baby formula',\n",
       "  'https://www.netmums.com/search/chat/food poisoning bottle',\n",
       "  'https://www.netmums.com/search/chat/food poisoning bottle-fed',\n",
       "  'https://www.netmums.com/search/chat/food poisoning formula',\n",
       "  'https://www.netmums.com/search/chat/toxic baby formula',\n",
       "  'https://www.netmums.com/search/chat/toxic bottle',\n",
       "  'https://www.netmums.com/search/chat/toxic bottle-fed',\n",
       "  'https://www.netmums.com/search/chat/toxic formula',\n",
       "  'https://www.netmums.com/search/chat/toxin bottle-fed'},\n",
       " 'title': 'Aptamil Hungry Baby making LO sick??',\n",
       " 'posts': [{'username': 'Mel H(6)',\n",
       "   'likes': '0',\n",
       "   'date': '8/20/2008 at 10:25 AM',\n",
       "   'quotes_y': [],\n",
       "   'quotes_w': [],\n",
       "   'body': \"Hi all, I've been giving my LO Aptamil Hungry Baby as she is always starving! \\xa0Since I started her on it she's she's had a runny tummy - has Hungry Baby had this affect on any one else's LO? \\n I hope it isn't the way I'm making the formula - I boil the water and put it in the bottles and then put them in the fridge and then add formula when she starts yelling for food and warm it up. \\xa0Can't see how you would anticipate half an hour before your baby is hungry so you can make it up like they say on the packet!?? \\n Thinking of making up formula like they say and then putting it in the fridge ready for when she's hungry - saw that some other mums do it that way on another thread. \\n Help! \\xa0Not sure what to do!\",\n",
       "   'body_urls': []},\n",
       "  {'username': 'Anonymous',\n",
       "   'likes': '0',\n",
       "   'date': '8/20/2008 at 11:01 AM',\n",
       "   'quotes_y': [],\n",
       "   'quotes_w': [],\n",
       "   'body': 'yes its possible that a certain formula makes a child sick, hive him diarrhea etc. \\n both of mine had (one still does) aptamil 2 and never had problems. \\n i wouldnt make her bottles like that, i would much rather (since she is still so young) buy good quality bottled water, warm it up in the microwave for 20, 30 secs (depending on how much she eats and strenght of micr.) and give her it straight away. \\n when she gets a bit older you can do the same with tap water. \\n i wouldnt boil, cool down and then reheat. not even for an older child. \\n if you dont want to use bottled water or cant or whatever, you can boil a small amount approx 1/2 hr before she will eat, pour it in her bottle, put the lid on and leave to cool. if she gets hungry earlier - cool it down faster in a bowl of cold water or under running water.',\n",
       "   'body_urls': []},\n",
       "  {'username': 'Anonymous',\n",
       "   'likes': '0',\n",
       "   'date': '8/20/2008 at 11:12 AM',\n",
       "   'quotes_y': [],\n",
       "   'quotes_w': [],\n",
       "   'body': \"I wouldn't advise using bottled water as the sodium levels in it can be too much for such a young baby. \\n If I was you, I'd take her off the hungry baby milk as she's still very young. It is much more difficult for babies digestive systems to cope with and can cause a lot of tummy and digestive problems if your baby's system isn't mature enough to cope with it. Although it says from birth on the tin, many health professionals do not recommend it is given for the above reasons. \\n Why not just go back to the first stage Aptamil and just give her more? The guides on the tins are just that, guides, and if your little one needs more then feed her more. As long as she isn't bringing the extra back up then you know she isn't being overfed. Bear in mind that babies go through growth spurts where they do take more milk and feed much more often but it then evens itself out again.  \\n How much and how often is she feeding?\",\n",
       "   'body_urls': []},\n",
       "  {'username': 'Anonymous',\n",
       "   'likes': '0',\n",
       "   'date': '8/20/2008 at 11:23 AM',\n",
       "   'quotes_y': [],\n",
       "   'quotes_w': [\"Quote:I wouldn't advise using bottled water as the sodium levels in it can be too much for such a young baby.\"],\n",
       "   'body': 'high sodium level in bottled water?!?!  \\n where have you heard that?!',\n",
       "   'body_urls': []},\n",
       "  {'username': 'Anonymous',\n",
       "   'likes': '0',\n",
       "   'date': '8/20/2008 at 11:36 AM',\n",
       "   'quotes_y': [],\n",
       "   'quotes_w': ['Quote:high sodium level in bottled water?!?! where have you heard that?!'],\n",
       "   'body': \"It's quite common knowledge. As well as the sodium levels, there are also issues with the amount or uranium etc in bottled water which can be dangerous for babies.  \\n Babies and young children should not be allowed to drink mineral water, and baby formula feed should not be made up with natural mineral water. Some have high salt or high sulphur content and, in particular, a high uranium content. Uranium is a heavy metal that is toxic to the kidneys and liver. \\n  \\xa0 \\n http://www.bbc.co.uk/dna/h2g2/A13745991 \\n Water babies - tap or bottled?  \\n Dentists, health visitors and doctors all recommend that the best 'between meal' dink for children is water and the early introduction will encourage this good habit. But when it comes to water, is bottled your best option or should you opt for tap?  \\n There are three different types of bottled water, Natural Mineral Water (NMW), Spring Water and Table Water.  \\n Natural Mineral Water - This comes from a ground water source which is protected from all pollution and by law cannot be treated in any way. It undergoes two years of stringent analysis before it can be classed as an NMW. It is the purest form of water. However, NMWs contain high levels of minerals, some of which can be dangerous for your toddler. For example, the calcium levels in some mineral waters can be too high for a baby's kidneys to cope with. Similarly, the sodium levels in many NMWs are much higher than the recommended 350mg a day for year old babies. Since December 2003, NMWs suitable for making up formula will be labelled as such.  \\n Spring Water - Comes from a single non-polluted ground water source but unlike NMWs it can undergo some permitted treatments, although it must comply with the Drinking Water Regulations. Unlike NMWs, there is no legislation requiring the mineral content to be printed on the bottle and because of this it's probably best avoided for your baby as there is no way of determining the sodium or mineral content.  \\n Table Water - Is the trade name applied to other bottled drinking waters. It applies to water which may come from more than one source and may include the public water supply. You should treat this water in the same way that you would treat normal tap water if using it to prepare feeds for your baby.  \\n  \\xa0 \\n http://www.babyworld.co.uk/inf [...] /drink.asp \\n Parents who use bottled water to make up baby milk could be poisoning their children. \\n Some brands contain levels of uranium that could harm a developing child, a shock official study has found. \\n They are Buxton - one of the UK's top sellers - Caffe Nero, Radnor Hills, Rocwell, St Yorre and San Pellegrino. \\n Some have four times the amount of uranium considered the safe limit for a baby. \\n Many families have switched from tap water to bottled varieties, believing them to be better and healthier. \\n Sales have doubled in five years to around two billion litres (480million gallons), worth an estimated £1.2billion. \\n But bottled waters pick up minerals from the rock they pass through. These can include uranium, a heavy metal which is particularly toxic to the kidneys. \\n Details of the contamination came from the Government's Committee on Toxicity. \\n It said the Food Standards Agency has estimated that using some natural mineral waters to reconstitute baby formula could mean infants receiving more uranium than the daily limit set by the World Health Organisation. The report says uranium is generally found in \\n water from a granite source. It is weakly radioactive, but radioactivity levels are considered too low to be a health risk. \\n The real concern is the damage uranium can cause to the kidneys. \\n The Department of Health and the National Childbirth Trust already advise mothers to use tap water - boiled and then cooled - to make up bottle feed. \\n Research has consistently shown that breast milk is best for babies, but some women cannot breastfeed, or choose not to, while others combine it with formula milk. The FSA tested 170 samples of bottled water from 15 brands. All met the WHO guideline level for adults, which is 15 micrograms of uranium per litre. \\n But 23 samples from six brands exceeded the recommended limit for babies of 3.2 micrograms. \\n The highest level was in water sold at Caffe Nero coffee shops, although it seems unlikely that mothers would use this to make up baby formula. \\n A spokesman for the firm said its water comes from a guaranteed and respected source in Italy. He insisted it met WHO standards on uranium. \\n The owners of Buxton, Parisbased Nestle Waters, challenged the findings of the study. A spokesman said: 'We are the world leader in bottled water and experts in the field. Buxton is in line with WHO guidelines and European directives in terms of uranium.' \\n The company does not recommend Buxton for baby formula, but this is due to the high mineral and sodium content, not uranium levels. \\n Buxton is the UK's fifth biggest-selling brand, behind Volvic, Vittel, Highland Spring and Evian. Brian Quinn, boss of Northern Ireland-based Rocwell, also challenged accuracy of the FSA research. \\n He said: 'I am surprised by these findings. We test for uranium and it has never shown up as an issue. I can assure you that our water is very suitable to be used for making up baby formula and in baby foods.' \\n Radnor Hills said it does not recommend its water for babies. \\n Experts said the FSA study gives only a snapshot of the uranium in the water at a particular time. Levels could be higher or lower if the same survey was done today. \\n  \\xa0 \\n http://www.dailymail.co.uk/hea [...] water.html\",\n",
       "   'body_urls': ['http://www.bbc.co.uk/dna/h2g2/A13745991',\n",
       "    'http://www.babyworld.co.uk/information/books_food/drink.asp',\n",
       "    'http://www.dailymail.co.uk/health/article-366212/Could-babies-poisoned-bottled-water.html']},\n",
       "  {'username': 'Anonymous',\n",
       "   'likes': '0',\n",
       "   'date': '8/20/2008 at 6:17 PM',\n",
       "   'quotes_y': [],\n",
       "   'quotes_w': ['Quote:Babies and young children should not be allowed to drink mineral water',\n",
       "    \"Quote:there is no legislation requiring the mineral content to be printed on the bottle and because of this it's probably best avoided for your baby as there is no way of determining the sodium or mineral content. \",\n",
       "    'Quote:UK Legislation covering waterAlthough there is no binding legislation relating to the composition and use of bottled water, the Department of Health has indicated that (Ref.5):\"Bottled waters, other than those labelled \\'natural mineral water\\', are expected to conform to essentially the same standards as the public water supply and they are therefore suitable for giving to infants or for preparing feeds.'],\n",
       "   'body': 'your first quote says: \\n i wasnt talking about mineral water. \\n the second source says: \\n in other words: they are only guessing. \\n however: \\n   \\n so your second quote is not true. \\n as to the third quote...yes, a lot of shocking studies can be found. \\n it is, really, a personal choice. thats why i offered a second solution as well.',\n",
       "   'body_urls': []},\n",
       "  {'username': 'Anonymous',\n",
       "   'likes': '0',\n",
       "   'date': '8/20/2008 at 6:27 PM',\n",
       "   'quotes_y': [],\n",
       "   'quotes_w': ['Quote:In the event of an interruption to your supply of tap water - for example, if the water supply is interrupted, or contaminated, by a flood - you should ideally use the water from your water tank, that should be supplied by the water company. However, if this is not available, you should use bottled water to prepare a formula feed.'],\n",
       "   'body': 'nhs recommends tap water but also says this: \\n do you think they would say that if it was poisoning the babies?',\n",
       "   'body_urls': []},\n",
       "  {'username': 'Anonymous',\n",
       "   'likes': '0',\n",
       "   'date': '8/20/2008 at 8:23 PM',\n",
       "   'quotes_y': [],\n",
       "   'quotes_w': ['Quote:nhs recommends tap water but also says this:do you think they would say that if it was poisoning the babies?'],\n",
       "   'body': \"If tap water isn't available then yes, bottled water is the next best option. However, in that situation and when on holiday for example, it is a temporary measure and as a very irregular thing probably wouldn't do too much harm. Using it for every feed is a different matter though. \\n Obviously the choice is yours but as I said in my post, this is actually pretty common knowledge. I didn't have time to find lots of studies or reports earlier so to be honest, I just posted the first few examples I could find but if you do your own research you'll find plenty of information pertaining to this subject. There have been plenty of threads on the subject on here as well.\",\n",
       "   'body_urls': []},\n",
       "  {'username': 'Anonymous',\n",
       "   'likes': '0',\n",
       "   'date': '8/20/2008 at 8:54 PM',\n",
       "   'quotes_y': [],\n",
       "   'quotes_w': [],\n",
       "   'body': \"Mel, \\n Can't comment on the bottled water aspect, but I think the way you're making your bottles up sounds fine. \\xa0It's how I've done my son's for almost 10 months, and how most people I know do that. \\n If you've always done it that way (and really, I agree - it's almost impossible to make up bottles on demand - you'd never be able to go out!) and it's never caused a problem before, it could just be the change in formula. \\xa0I put my son onto Aptamil Hungry formula, and he became constipated! \\xa0I stuck with it and his issue settled down, so you could stick with it and it will probably settle down. \\xa0If you think it's uncomfortable for your baby, maybe the best thing to do is as previously suggested and go back to Aptamil 1 but give bigger bottles if possible. \\n If you're worried though, I'd speak to your HV, or even get in touch with Aptamil - they have a brilliant website, and a great helpline you can ring for advice. \\xa0 \\n Good luck!\",\n",
       "   'body_urls': []},\n",
       "  {'username': 'Anonymous',\n",
       "   'likes': '0',\n",
       "   'date': '8/20/2008 at 9:08 PM',\n",
       "   'quotes_y': [],\n",
       "   'quotes_w': [],\n",
       "   'body': 'i use aptamil but the blue one not hungry baby i empty my kettle fill with fresh boil and leave it to stand for half hour then make the bottles and put in the fridge i know they say to make one at a time but thats bull you cant,are you ment to leave the baby to cry for half hour while you wait?? so i make 2 bottles at a time once leah has had her second one i will give it about a hour and make 2 more.all my mates use to make a days worth in the morning so they would make about 6 ish and there baby would drink them thu out the day and they are all ok,leah was crying alot when she was about 6/8 weeks old and i thought that was cos she was hungry when i asked h/v bout putting her on hungry milk she said no as it can upset her tummy so i have stuck with the blue and give leah a extra bottle if she needs it \\xa0xx',\n",
       "   'body_urls': []},\n",
       "  {'username': 'Anonymous',\n",
       "   'likes': '0',\n",
       "   'date': '8/20/2008 at 9:12 PM',\n",
       "   'quotes_y': [],\n",
       "   'quotes_w': [],\n",
       "   'body': \"I too thought it was common knowledge that you're not to give babies bottled water.... \\n Mel, \\n My DD was put on Aptimil Extra Hungry at 6 weeks old. \\n She suffers from reflux, and was being sick after every feed. \\xa0The doc prescribed Gaviscon, and it was my choice to put her on the Hungry Baby milk. \\xa0She stopped being sick within a week of taking the gaviscon (she still has bouts of heartburn, maybe once or twice a week) and everything about her behaviour/feeding pattern was better after switching to the Hungry Baby milk. \\xa0She now takes regular feeds (every 3 hours) and has not been sick at all on it. \\xa0The only problem we did have was a change in her poo, it went from sunshine yellow (sma gold) to green and runny on Aptimil for about a fortnight, but has settled down now and is a mix between the two! (sorry if tmi!)  \\n Have you spoken to your HV? \\xa0Was she being sick before you changed her milk? \\n It may be that it's too rich for her little tummy at the moment, it's a curd based milk which means it's made from the creamier, thicker part \\xa0whereas sma gold is a whey based formula so its the opposite (quoted from HV!)  \\n If she's being sick I'd say try to give her some cooled boiled water during the day, just to make sure she's not getting dehydrated. \\n Oh, and I make her milk by boiling the kettle, then putting the boiling water into her bottle to cool by itself, then add the powder. (she's as regular as clockwork so its easy for me this way!) \\xa0if she wants it sooner, I cool the water by running it under the tap, then add the powder.\",\n",
       "   'body_urls': []},\n",
       "  {'username': 'Anonymous',\n",
       "   'likes': '0',\n",
       "   'date': '8/20/2008 at 11:10 PM',\n",
       "   'quotes_y': [],\n",
       "   'quotes_w': ['Quote:UK Legislation covering waterAlthough there is no binding legislation relating to the composition and use of bottled water, the Department of Health has indicated that (Ref.5):\"Bottled waters, other than those labelled \\'natural mineral water\\', are expected to conform to essentially the same standards as the public water supply and they are therefore suitable for giving to infants or for preparing feeds. '],\n",
       "   'body': 'so you\\'ve just skipped the department of health recommendation then? \\n i\\'ll repeat: \\n and as far as \"common knowledge\" is concerned, its common knowledge that tap water is full of chemicals and god forbid if you\\'ve got old pipes - you could be drinking all sorts. \\n and its also common knowledge that you are not,  \\n under any circumstances \\n , supposed to warm up an already made bottle.',\n",
       "   'body_urls': []},\n",
       "  {'username': 'Anonymous',\n",
       "   'likes': '0',\n",
       "   'date': '8/20/2008 at 11:22 PM',\n",
       "   'quotes_y': [],\n",
       "   'quotes_w': ['Quote:so you\\'ve just skipped the department of health recommendation then?i\\'ll repeat:and as far as \"common knowledge\" is concerned, its common knowledge that tap water is full of chemicals and god forbid if you\\'ve got old pipes - you could be drinking all sorts.and its also common knowledge that you are not, under any circumstances, supposed to warm up an already made bottle.'],\n",
       "   'body': \"That's why you have to boil the water first?!\",\n",
       "   'body_urls': []},\n",
       "  {'username': 'Anonymous',\n",
       "   'likes': '0',\n",
       "   'date': '8/20/2008 at 11:31 PM',\n",
       "   'quotes_y': [],\n",
       "   'quotes_w': [],\n",
       "   'body': \"Hey Mel, \\n When my LO was about three months was going to put him on the 'hungrier baby' type milks, but my HV advised me against it as apparently they aren't very good for LO's tummies in general and can cause digestive problems (according to my HV) -  \\n She said to me that they shouldn't really be on the market, but for some reason they are allowed to be!?!  \\n Hope I'm not confusing you, but basically it may be because her tummy is too immature to cope with this kind of milk - could you go back to the original milk you were giving her, and see if her tummy gets better? And if it does, maybe just up and up her feed's lots? \\n Also, boiled water (haven't read the debate going on properly) cooled a bit (so obv. it's drinkeable for LO) did world of wonders in keeping my LO's tummy fine, as he'd get constipated and cranky if he didn't have it - just as we would!!  \\n Hope your LO gets better soon, and take care x:hug:\",\n",
       "   'body_urls': []},\n",
       "  {'username': 'Mel H(6)',\n",
       "   'likes': '0',\n",
       "   'date': '8/21/2008 at 10:36 AM',\n",
       "   'quotes_y': [],\n",
       "   'quotes_w': [],\n",
       "   'body': \"Thanks all! \\n Kellie H - that is exactly wot my LOs poos look like now and was worried! \\xa0Last night tried mixing half hungry baby and half normal and worked a treat!  \\n \\xa0Went to doc (for repeat perscription for reflux as LO has that too) and she said baby being sick could just be coz she is eating too fast as she is a piggy. \\xa0Does 1 bottle in 10 mins at night - that it is why I put her on Hungry Baby ... she is REALLY hungry! \\xa0 \\n Tried making up the feed last night as per back of packet then cooled it under tap then popped it in fridge ready for next feed and it worked a treat - looked like it mixed better and I reckon making up a bottle a couple of hours before but putting it in the fridge must be ok. \\xa0LO seemed happy enough and it hasn't had any adverse effects so far!\",\n",
       "   'body_urls': []},\n",
       "  {'username': 'Anonymous',\n",
       "   'likes': '0',\n",
       "   'date': '8/21/2008 at 12:16 PM',\n",
       "   'quotes_y': [],\n",
       "   'quotes_w': ['Quote:so you\\'ve just skipped the department of health recommendation then?i\\'ll repeat:and as far as \"common knowledge\" is concerned, its common knowledge that tap water is full of chemicals and god forbid if you\\'ve got old pipes - you could be drinking all sorts.and its also common knowledge that you are not, under any circumstances, supposed to warm up an already made bottle.'],\n",
       "   'body': \"Ive been reading this post as my LO is 8 weeks and suffering with reflux. She is left upright for over an hour after a feed but whenever she is laid down she is constantly sick. She's currently on C&G 1 formula and not sure if to change her as we moved her from SMA gold originally as she had problems digesting that! \\n I would just like to comment on the below: \\n Thw World Health Organisation states the correct way to make bottles and I think that you will find they do suggest bottles should be made using boiled water (that has been left to cool down for 30 mins) to make a bottle. The reason for doing so is that formula powder has been proven to contain bacteria that only boiled water can kill, that is why adding powder to water in bottles that where boiled earlier in the day is not recommended as the water doesnt kill the bacteria in the powder. \\n The WHO say that bottles should be made up for each feed as and when but they do recognise that this may not always be possible or practical therefore bottles may be made in advance but must be made with boiled water (cooled for 30 mins) immediately cooled and kept in the rear of the fridge for no more than 24 hours. Therefore your above comment is incorrect, your are able to warm up a bottle already made.  \\n http://www.who.int/foodsafety/ [...] elines.pdf \\n This is the link to the WHO guidleines preparation of the formula starts on page 13. \\n It does also state that bottled water should be boiled first as it is not sterile. \\n I found the WHO guidlines really helpful and I now make up 3 bottles in advance by way of the recommended guidleines!!!!\",\n",
       "   'body_urls': ['http://www.who.int/foodsafety/publications/micro/pif_guidelines.pdf']},\n",
       "  {'username': 'Anonymous',\n",
       "   'likes': '0',\n",
       "   'date': '12/16/2010 at 6:36 PM',\n",
       "   'quotes_y': [],\n",
       "   'quotes_w': [],\n",
       "   'body': 'I am always bit worried about making up the milk my self .so i m still using aptamil \"ready to use \" cartons for my 6 weeks old boy.I am thinking to stick with it until he is 3 months.i know its expensive.but i have a feeling that it is more safer than making the feed myself using powder.what do u think?do u think it is a good idea.',\n",
       "   'body_urls': []},\n",
       "  {'username': 'Anonymous',\n",
       "   'likes': '0',\n",
       "   'date': '12/16/2010 at 8:25 PM',\n",
       "   'quotes_y': [],\n",
       "   'quotes_w': [],\n",
       "   'body': 'hi, my LO was always hungry- by 5 days was told to use size 2 teats by midwife and went onto 3 by 2 \\xa0months- have you changed that? \\n LO was also really sick on aptamil hungry baby and after a lot of angst OH convinced me to change milk to SMA- LO was able to go back onto normal type not hungry and was much happier ( so was i as the state of my carpet was embarrassing!) \\n good luck with whatever you decide- it is very stressful \\n To the lady who asked about the cartons- i met someone who would only use the throwaway bottles and made up milk- the cost made me gasp, but then i thought- who cares if thats what it takes for her to feel happy why not? Do what you feel secure with:)',\n",
       "   'body_urls': []},\n",
       "  {'username': 'Anonymous',\n",
       "   'likes': '0',\n",
       "   'date': '12/16/2010 at 8:43 PM',\n",
       "   'quotes_y': [],\n",
       "   'quotes_w': [],\n",
       "   'body': \"My daughter used to projectile vomit her milk after at least one of her feeds every day. \\xa0When she was about 3 - 4 months we went on holiday so I took the Aptamil cartons (ready made) with us as I didn't know what the facilities might be like for making bottles up. \\xa0She never looked back! \\xa0I have no ideas on what the difference between the powder and the cartons might be but it was like flicking a switch. \\xa0She was never sick again! \\xa0It was a bit more expensive but much cheaper than constantly getting the carpet cleaned and did wonders for my nerves about her being sick!\",\n",
       "   'body_urls': []},\n",
       "  {'username': 'Anonymous',\n",
       "   'likes': '0',\n",
       "   'date': '10/30/2011 at 8:56 AM',\n",
       "   'quotes_y': [],\n",
       "   'quotes_w': [],\n",
       "   'body': \"hello, \\n i started weaning my son about 3months old and he loved it and at the start it helped he started sleeping straight through the night but he wanted a lot of food though and it was still every 2 hours so i moved him on to hungrier milk aswel. he was fine for a bit but now he is suffering with diarrhoea really bad through the day and night and has really bad nappy rash. i know it is not because i have weaned him as he stayed on solids and his tummy was fine its only now i have moved him on to hungrier milk he has a bad tummy. he doesn't cry or anything it's just not very nice for him.  \\n Is there many more people having the same problem he is on aptamil hungrier baby?\",\n",
       "   'body_urls': []}],\n",
       " 'term_counts': {'a': 0,\n",
       "  'acrylamid': 0,\n",
       "  'acrylamide': 0,\n",
       "  'additives': 0,\n",
       "  'animal': 0,\n",
       "  'applesauce': 0,\n",
       "  'aromatic': 0,\n",
       "  'authority': 0,\n",
       "  'baby': 30,\n",
       "  'bacteria': 2,\n",
       "  'biphenyls': 0,\n",
       "  'bisphenol': 0,\n",
       "  'bottle': 10,\n",
       "  'bottle-fed': 0,\n",
       "  'bpa': 0,\n",
       "  'campylobacter': 0,\n",
       "  'carcinogen': 0,\n",
       "  'cereal': 0,\n",
       "  'chemical': 0,\n",
       "  'chemicals': 1,\n",
       "  'contaminants': 0,\n",
       "  'contaminated': 0,\n",
       "  'cronobacter': 0,\n",
       "  'deoxynivalenol': 0,\n",
       "  'dioxin': 0,\n",
       "  'disruptor': 0,\n",
       "  'drugs': 0,\n",
       "  'e-coli': 0,\n",
       "  'ecoli': 0,\n",
       "  'efsa': 0,\n",
       "  'endocrine': 0,\n",
       "  'estrogen': 0,\n",
       "  'european': 1,\n",
       "  'food': 3,\n",
       "  'for': 0,\n",
       "  'formula': 17,\n",
       "  'fruit': 0,\n",
       "  'fungus': 0,\n",
       "  'genetically': 0,\n",
       "  'gm': 0,\n",
       "  'gmo': 0,\n",
       "  'hazard': 0,\n",
       "  'histamine': 0,\n",
       "  'hydrocarbons': 0,\n",
       "  'jar': 0,\n",
       "  'jarred': 0,\n",
       "  'listeria': 0,\n",
       "  'metals': 0,\n",
       "  'microbes': 0,\n",
       "  'microbiologic': 0,\n",
       "  'moah': 0,\n",
       "  'modified': 0,\n",
       "  'moh': 0,\n",
       "  'mold': 0,\n",
       "  'mould': 0,\n",
       "  'mycotoxin': 0,\n",
       "  'nitrates': 0,\n",
       "  'oatmeal': 0,\n",
       "  'oats': 0,\n",
       "  'parasites': 0,\n",
       "  'pcb': 0,\n",
       "  'pesticides': 0,\n",
       "  'phthalates': 0,\n",
       "  'poisoning': 2,\n",
       "  'poisonous': 0,\n",
       "  'porridge': 0,\n",
       "  'premade': 0,\n",
       "  'preservatives': 0,\n",
       "  'pudding': 0,\n",
       "  'puree': 0,\n",
       "  'purée': 0,\n",
       "  'safety': 0,\n",
       "  'salmonella': 0,\n",
       "  'saturated': 0,\n",
       "  'spores': 0,\n",
       "  'sweeteners': 0,\n",
       "  'toxic': 2,\n",
       "  'toxin': 0,\n",
       "  'veg': 0,\n",
       "  'vegetable': 0,\n",
       "  'veggie': 0,\n",
       "  'vet': 0,\n",
       "  'veterinary': 0,\n",
       "  'virus': 0,\n",
       "  'vomitoxin': 0,\n",
       "  'yoghurt': 0},\n",
       " 'url_term_counts': {'a': 0,\n",
       "  'acrylamid': 0,\n",
       "  'acrylamide': 0,\n",
       "  'additives': 0,\n",
       "  'animal': 0,\n",
       "  'applesauce': 0,\n",
       "  'aromatic': 0,\n",
       "  'authority': 0,\n",
       "  'baby': 0,\n",
       "  'bacteria': 0,\n",
       "  'biphenyls': 0,\n",
       "  'bisphenol': 0,\n",
       "  'bottle': 0,\n",
       "  'bottle-fed': 0,\n",
       "  'bpa': 0,\n",
       "  'campylobacter': 0,\n",
       "  'carcinogen': 0,\n",
       "  'cereal': 0,\n",
       "  'chemical': 0,\n",
       "  'chemicals': 0,\n",
       "  'contaminants': 0,\n",
       "  'contaminated': 0,\n",
       "  'cronobacter': 0,\n",
       "  'deoxynivalenol': 0,\n",
       "  'dioxin': 0,\n",
       "  'disruptor': 0,\n",
       "  'drugs': 0,\n",
       "  'e-coli': 0,\n",
       "  'ecoli': 0,\n",
       "  'efsa': 0,\n",
       "  'endocrine': 0,\n",
       "  'estrogen': 0,\n",
       "  'european': 0,\n",
       "  'food': 0,\n",
       "  'for': 0,\n",
       "  'formula': 0,\n",
       "  'fruit': 0,\n",
       "  'fungus': 0,\n",
       "  'genetically': 0,\n",
       "  'gm': 0,\n",
       "  'gmo': 0,\n",
       "  'hazard': 0,\n",
       "  'histamine': 0,\n",
       "  'hydrocarbons': 0,\n",
       "  'jar': 0,\n",
       "  'jarred': 0,\n",
       "  'listeria': 0,\n",
       "  'metals': 0,\n",
       "  'microbes': 0,\n",
       "  'microbiologic': 0,\n",
       "  'moah': 0,\n",
       "  'modified': 0,\n",
       "  'moh': 0,\n",
       "  'mold': 0,\n",
       "  'mould': 0,\n",
       "  'mycotoxin': 0,\n",
       "  'nitrates': 0,\n",
       "  'oatmeal': 0,\n",
       "  'oats': 0,\n",
       "  'parasites': 0,\n",
       "  'pcb': 0,\n",
       "  'pesticides': 0,\n",
       "  'phthalates': 0,\n",
       "  'poisoning': 0,\n",
       "  'poisonous': 0,\n",
       "  'porridge': 0,\n",
       "  'premade': 0,\n",
       "  'preservatives': 0,\n",
       "  'pudding': 0,\n",
       "  'puree': 0,\n",
       "  'purée': 0,\n",
       "  'safety': 0,\n",
       "  'salmonella': 0,\n",
       "  'saturated': 0,\n",
       "  'spores': 0,\n",
       "  'sweeteners': 0,\n",
       "  'toxic': 0,\n",
       "  'toxin': 0,\n",
       "  'veg': 0,\n",
       "  'vegetable': 0,\n",
       "  'veggie': 0,\n",
       "  'vet': 0,\n",
       "  'veterinary': 0,\n",
       "  'virus': 0,\n",
       "  'vomitoxin': 0,\n",
       "  'yoghurt': 0},\n",
       " 'total_likes': 0,\n",
       " 'available_comments': 20,\n",
       " 'comment_activity': 20,\n",
       " 'num_unique_posters': 2,\n",
       " 'num_urls': 4,\n",
       " 'avg_post_length': 929.1,\n",
       " 'post_time': datetime.datetime(2011, 10, 30, 8, 56),\n",
       " 'lexical_richness': 141.75902856502987,\n",
       " 'term_distance_simple': 95}"
      ]
     },
     "execution_count": 47,
     "metadata": {},
     "output_type": "execute_result"
    }
   ],
   "source": [
    "netmums[blah]\n"
   ]
  },
  {
   "cell_type": "code",
   "execution_count": 58,
   "metadata": {},
   "outputs": [],
   "source": [
    "#TODO: modify process() to work on the relelvant entries in the value of a dict\n",
    "#TODO: modify get_small_dict to work on the actual dict and not text_dict.\n",
    "\n",
    "#THE RELEVANT THINGS:\n",
    "#netmums[blah]['title']\n",
    "#netmums[blah]['posts'][n]['body']\n",
    "#netmums[blah]['posts'][n]['quotes_w']\n",
    "#netmums[blah]['posts'][n]['quotes_y']['text']\n",
    "\n",
    "def get_small_dict(list_of_keys): #we give process small dicts because o.w. the whole dict (a global) will get duplicated in each instance\n",
    "    return {key: netmums[key] for key in list_of_keys}\n",
    "\n",
    "def process(typofixer,small_dict): #now process takes two objects\n",
    "    #approx 1.5x slower than the text_dict way.\n",
    "    for key, value in small_dict.items():\n",
    "        small_dict[key]['title'] = typofixer.fix_typos(small_dict[key]['title'])\n",
    "        for ind, item in enumerate(small_dict[key]['posts']): #a list of dicts\n",
    "            if item['body']:\n",
    "                small_dict[key]['posts'][ind]['body'] = typofixer.fix_typos(item['body'])\n",
    "            if item['quotes_w']:\n",
    "                for qind, quote in enumerate(item['quotes_w']):\n",
    "                    small_dict[key]['posts'][ind]['quotes_w'][qind] = typofixer.fix_typos(quote)\n",
    "            if item['quotes_y']:\n",
    "                for qind, quote in enumerate(item['quotes_y']):\n",
    "                    small_dict[key]['posts'][ind]['quotes_y'][qind]['text'] = typofixer.fix_typos(quote['text'])     \n",
    "    return small_dict"
   ]
  },
  {
   "cell_type": "code",
   "execution_count": 52,
   "metadata": {},
   "outputs": [],
   "source": [
    "list_of_small_dict = [get_small_dict(i) for i in list_of_list_of_keys]"
   ]
  },
  {
   "cell_type": "code",
   "execution_count": 59,
   "metadata": {},
   "outputs": [
    {
     "name": "stdout",
     "output_type": "stream",
     "text": [
      "default food words time: 93.44288301467896\n"
     ]
    },
    {
     "data": {
      "application/javascript": [
       "$(document).ready(\n",
       "    function() {\n",
       "        function appendUniqueDiv(){\n",
       "            // append a div with our uuid so we can check that it's already\n",
       "            // been sent and avoid duplicates on page reload\n",
       "            var notifiedDiv = document.createElement(\"div\")\n",
       "            notifiedDiv.id = \"a748abc7-6251-45da-8107-2503512b822f\"\n",
       "            element.append(notifiedDiv)\n",
       "        }\n",
       "\n",
       "        // only send notifications if the pageload is complete; this will\n",
       "        // help stop extra notifications when a saved notebook is loaded,\n",
       "        // which during testing gives us state \"interactive\", not \"complete\"\n",
       "        if (document.readyState === 'complete') {\n",
       "            // check for the div that signifies that the notification\n",
       "            // was already sent\n",
       "            if (document.getElementById(\"a748abc7-6251-45da-8107-2503512b822f\") === null) {\n",
       "                var notificationPayload = {\"requireInteraction\": false, \"icon\": \"/static/base/images/favicon.ico\", \"body\": \"Cell execution has finished!\"};\n",
       "                if (Notification.permission !== 'denied') {\n",
       "                    if (Notification.permission !== 'granted') { \n",
       "                        Notification.requestPermission(function (permission) {\n",
       "                            if(!('permission' in Notification)) {\n",
       "                                Notification.permission = permission\n",
       "                            }\n",
       "                        })\n",
       "                    }\n",
       "                    if (Notification.permission === 'granted') {\n",
       "                    var notification = new Notification(\"Jupyter Notebook\", notificationPayload)\n",
       "                    appendUniqueDiv()\n",
       "                    notification.onclick = function () {\n",
       "                        window.focus();\n",
       "                        this.close();\n",
       "                        };\n",
       "                    } \n",
       "                }     \n",
       "            }\n",
       "        }\n",
       "    }\n",
       ")\n"
      ],
      "text/plain": [
       "<IPython.core.display.Javascript object>"
      ]
     },
     "metadata": {},
     "output_type": "display_data"
    }
   ],
   "source": [
    "start = time.time()\n",
    "one_fixed_dict = process(f, list_of_small_dict[0])\n",
    "end = time.time()\n",
    "print('default food words time: ' + str(end - start),)\n",
    "%notify"
   ]
  },
  {
   "cell_type": "code",
   "execution_count": null,
   "metadata": {},
   "outputs": [],
   "source": []
  },
  {
   "cell_type": "code",
   "execution_count": null,
   "metadata": {},
   "outputs": [],
   "source": [
    "#TODO: define three different set of values and their corresponding fuzzy_typo objects\n",
    "#single_token_words_to_replace = {}\n",
    "#phrases_to_replace {}\n",
    "#remaining_words = all - single_token_words_to_replace - phrases_to_replace\n",
    "\n",
    "def process(small_dict):\n",
    "    temp = {key: typoreplacer.fix_typos(value) for key, value in small_dict.items()}\n",
    "    temp = {key: h.fix_typos(value) for key, value in small_dict.items()}\n",
    "    return "
   ]
  },
  {
   "cell_type": "code",
   "execution_count": null,
   "metadata": {},
   "outputs": [],
   "source": []
  },
  {
   "cell_type": "code",
   "execution_count": null,
   "metadata": {},
   "outputs": [],
   "source": []
  },
  {
   "cell_type": "code",
   "execution_count": null,
   "metadata": {},
   "outputs": [],
   "source": []
  },
  {
   "cell_type": "code",
   "execution_count": null,
   "metadata": {},
   "outputs": [],
   "source": []
  },
  {
   "cell_type": "code",
   "execution_count": null,
   "metadata": {},
   "outputs": [],
   "source": []
  },
  {
   "cell_type": "code",
   "execution_count": null,
   "metadata": {},
   "outputs": [],
   "source": []
  },
  {
   "cell_type": "code",
   "execution_count": null,
   "metadata": {},
   "outputs": [],
   "source": []
  },
  {
   "cell_type": "code",
   "execution_count": null,
   "metadata": {},
   "outputs": [],
   "source": []
  },
  {
   "cell_type": "markdown",
   "metadata": {},
   "source": [
    "## trying to do threading and the thign agian....\n",
    "# update: this is useless we dont need multithrading. I THINK? it is only slower or the same but maybe its useful when we adapt it.\n"
   ]
  },
  {
   "cell_type": "code",
   "execution_count": 322,
   "metadata": {},
   "outputs": [
    {
     "data": {
      "text/plain": [
       "190"
      ]
     },
     "execution_count": 322,
     "metadata": {},
     "output_type": "execute_result"
    }
   ],
   "source": [
    "len(problematic)"
   ]
  },
  {
   "cell_type": "code",
   "execution_count": 323,
   "metadata": {},
   "outputs": [
    {
     "data": {
      "text/plain": [
       "190"
      ]
     },
     "execution_count": 323,
     "metadata": {},
     "output_type": "execute_result"
    }
   ],
   "source": [
    "len({j:val for i in results for j,val in i.items()})"
   ]
  },
  {
   "cell_type": "code",
   "execution_count": 58,
   "metadata": {},
   "outputs": [],
   "source": [
    "def run_multithread(thing):\n",
    "    return Parallel(n_jobs=-1, prefer='threads')(delayed(process)(i) for i in thing)"
   ]
  },
  {
   "cell_type": "code",
   "execution_count": 68,
   "metadata": {},
   "outputs": [],
   "source": [
    "keys = list(nm_ind.text_dict.keys())\n",
    "num_keys = len(keys)\n",
    "num_lists = 20\n",
    "num_lol = 10 #same as number of cores\n",
    "list_of_list_of_keys = [keys[slice(i,num_keys,num_lists*num_lol)] for i in range(num_lists*num_lol)]\n",
    "#note that num_keys == len(list_of_list_of_keys) by definition..\n",
    "list_of_lol_of_keys = [list_of_list_of_keys[slice(i,num_keys,num_lol)] for i in range(num_lol)]"
   ]
  },
  {
   "cell_type": "code",
   "execution_count": 69,
   "metadata": {},
   "outputs": [],
   "source": [
    "#create dicts\n",
    "lol_of_small_dicts = [[get_small_dict(keys) for keys in list_of_list] for list_of_list in list_of_lol_of_keys]"
   ]
  },
  {
   "cell_type": "code",
   "execution_count": 70,
   "metadata": {},
   "outputs": [
    {
     "name": "stdout",
     "output_type": "stream",
     "text": [
      "default food words time: 732.8989160060883\n"
     ]
    },
    {
     "data": {
      "application/javascript": [
       "$(document).ready(\n",
       "    function() {\n",
       "        function appendUniqueDiv(){\n",
       "            // append a div with our uuid so we can check that it's already\n",
       "            // been sent and avoid duplicates on page reload\n",
       "            var notifiedDiv = document.createElement(\"div\")\n",
       "            notifiedDiv.id = \"9889d2cc-4160-46f3-b4ea-501459ebc5a6\"\n",
       "            element.append(notifiedDiv)\n",
       "        }\n",
       "\n",
       "        // only send notifications if the pageload is complete; this will\n",
       "        // help stop extra notifications when a saved notebook is loaded,\n",
       "        // which during testing gives us state \"interactive\", not \"complete\"\n",
       "        if (document.readyState === 'complete') {\n",
       "            // check for the div that signifies that the notification\n",
       "            // was already sent\n",
       "            if (document.getElementById(\"9889d2cc-4160-46f3-b4ea-501459ebc5a6\") === null) {\n",
       "                var notificationPayload = {\"requireInteraction\": false, \"icon\": \"/static/base/images/favicon.ico\", \"body\": \"Cell execution has finished!\"};\n",
       "                if (Notification.permission !== 'denied') {\n",
       "                    if (Notification.permission !== 'granted') { \n",
       "                        Notification.requestPermission(function (permission) {\n",
       "                            if(!('permission' in Notification)) {\n",
       "                                Notification.permission = permission\n",
       "                            }\n",
       "                        })\n",
       "                    }\n",
       "                    if (Notification.permission === 'granted') {\n",
       "                    var notification = new Notification(\"Jupyter Notebook\", notificationPayload)\n",
       "                    appendUniqueDiv()\n",
       "                    notification.onclick = function () {\n",
       "                        window.focus();\n",
       "                        this.close();\n",
       "                        };\n",
       "                    } \n",
       "                }     \n",
       "            }\n",
       "        }\n",
       "    }\n",
       ")\n"
      ],
      "text/plain": [
       "<IPython.core.display.Javascript object>"
      ]
     },
     "metadata": {},
     "output_type": "display_data"
    }
   ],
   "source": [
    "start = time.time()\n",
    "results = Parallel(n_jobs=-1, prefer='processes')(delayed(run_multithread)(i) for i in lol_of_small_dicts)\n",
    "end = time.time()\n",
    "print('default food words time: ' + str(end - start),)\n",
    "%notify"
   ]
  },
  {
   "cell_type": "code",
   "execution_count": null,
   "metadata": {},
   "outputs": [],
   "source": []
  },
  {
   "cell_type": "code",
   "execution_count": null,
   "metadata": {},
   "outputs": [],
   "source": []
  },
  {
   "cell_type": "code",
   "execution_count": null,
   "metadata": {},
   "outputs": [],
   "source": []
  },
  {
   "cell_type": "markdown",
   "metadata": {},
   "source": [
    "### Plan of use:\n",
    "* 2 Passes:\n",
    "    * 1) correct all typos in words we care about (no phrase tokens allowed)\n",
    "    * 2) replace words with relevant word."
   ]
  },
  {
   "cell_type": "code",
   "execution_count": null,
   "metadata": {},
   "outputs": [],
   "source": [
    "PLAN for dealing with PHRASES:\n",
    "    list_of_words = [i.split() or i in list_of_phrase]\n",
    "    fixtypos = insitalize(list_of_words)\n",
    "    replacestuff = insitiliaize(list_of_phrase)\n",
    "    for i in blah:\n",
    "        i = fixtypos(i)\n",
    "        i = replacestuff(i)\n",
    "        \n",
    "PLAN for dealing with non-phrases(it's all just words):\n",
    "        for i in blah:\n",
    "            i = fixtypos(i, replace=fruit)\n",
    "        "
   ]
  },
  {
   "cell_type": "code",
   "execution_count": 35,
   "metadata": {},
   "outputs": [],
   "source": [
    "f = fuzzy_typos.fuzzy_typos(hazardwords)"
   ]
  },
  {
   "cell_type": "code",
   "execution_count": 36,
   "metadata": {},
   "outputs": [],
   "source": [
    "start = time.time()\n",
    "for key in nm_ind.text_dict.keys():\n",
    "    nm_ind.text_dict[key] = f.fix_typos(nm_ind.text_dict[key])\n",
    "end = time.time()"
   ]
  },
  {
   "cell_type": "code",
   "execution_count": 37,
   "metadata": {},
   "outputs": [
    {
     "name": "stdout",
     "output_type": "stream",
     "text": [
      "default hazard words time: 2382.689493894577\n"
     ]
    }
   ],
   "source": [
    "print('default hazard words time: ' + str(end - start), )\n"
   ]
  },
  {
   "cell_type": "markdown",
   "metadata": {},
   "source": [
    "40 minutes! "
   ]
  },
  {
   "cell_type": "code",
   "execution_count": null,
   "metadata": {},
   "outputs": [],
   "source": []
  },
  {
   "cell_type": "code",
   "execution_count": null,
   "metadata": {},
   "outputs": [],
   "source": [
    "formula = \n",
    "#TODO"
   ]
  },
  {
   "cell_type": "code",
   "execution_count": null,
   "metadata": {},
   "outputs": [],
   "source": [
    "\n",
    "'nutramigen'\n",
    " ('neocate', 0.6790235042572021)\n",
    " cartons\n",
    "('powdered_milk', 0.6593323945999146),\n",
    "infasoy\n",
    " ('comfort_milk', 0.6825845837593079), #brand name which people dont write formula alongside"
   ]
  },
  {
   "cell_type": "code",
   "execution_count": null,
   "metadata": {},
   "outputs": [],
   "source": [
    "cereal = "
   ]
  },
  {
   "cell_type": "code",
   "execution_count": null,
   "metadata": {},
   "outputs": [],
   "source": [
    "baby_rice #this one is really useful / important. idk how exactly to handle it.\n",
    " ('rusk', 0.7649476528167725),\n",
    " ('rusks', 0.7439418435096741),\n",
    " ('weetabix', 0.7281665802001953),\n",
    " ('ready_brek', 0.6686376929283142),\n",
    " ('rice', 0.6519530415534973),\n",
    "\n",
    " ('readybrek', 0.6332829594612122),\n",
    "cornflakes\n",
    "muesli\n",
    "'bran_flakes'\n",
    "'cheerios'\n",
    "'shreddies'\n",
    "'rice_cakes'\n",
    "'rice_pudding'\n",
    "\n",
    "\n",
    " ('babyrice', 0.648690402507782),"
   ]
  },
  {
   "cell_type": "code",
   "execution_count": null,
   "metadata": {},
   "outputs": [],
   "source": [
    "puree_things = "
   ]
  },
  {
   "cell_type": "code",
   "execution_count": null,
   "metadata": {},
   "outputs": [],
   "source": [
    "mashed\n"
   ]
  },
  {
   "cell_type": "code",
   "execution_count": null,
   "metadata": {},
   "outputs": [],
   "source": [
    "fruit = \\\n",
    "['mashed_banana',\n",
    "'berries',\n",
    "'blueberries',\n",
    "'raisins',\n",
    "'apples',\n",
    "'pear',\n",
    "'strawberries',\n",
    "'pineapple', \n",
    "'raspberries',\n",
    "'mango', \n",
    "'prunes', \n",
    "'fruit_pots']\n",
    "grapefruit\n",
    "plum"
   ]
  },
  {
   "cell_type": "code",
   "execution_count": null,
   "metadata": {},
   "outputs": [],
   "source": [
    "veg = \\\n",
    "['mushroom', \n",
    "'red_pepper',\n",
    "'green_beans', \n",
    "'courgette', \n",
    "'broccoli', \n",
    "'tomato',\n",
    "'parsnips', \n",
    "'greens', \n",
    "'potato', \n",
    "'carrots',\n",
    "'broccoli',\n",
    "'cucumber', \n",
    "'peas', \n",
    "'tomatoes', \n",
    "'sweet_potato',\n",
    "'sweetcorn', \n",
    "'corn', \n",
    "'spinach', \n",
    "'cauliflower',\n",
    "'butternut_squash', \n",
    "'beetroot']\n",
    " ('squash', 0.5779417157173157),"
   ]
  },
  {
   "cell_type": "code",
   "execution_count": null,
   "metadata": {},
   "outputs": [],
   "source": [
    "tinned premade canned jarred pouches\n",
    " ('ready_made', 0.6789427995681763),\n",
    "     ('ellas_kitchen', 0.8299736976623535), # only sells baby food. many varieties. replace w \"baby food\"\n",
    "    "
   ]
  },
  {
   "cell_type": "code",
   "execution_count": null,
   "metadata": {},
   "outputs": [],
   "source": []
  }
 ],
 "metadata": {
  "kernelspec": {
   "display_name": "Python 3",
   "language": "python",
   "name": "python3"
  },
  "language_info": {
   "codemirror_mode": {
    "name": "ipython",
    "version": 3
   },
   "file_extension": ".py",
   "mimetype": "text/x-python",
   "name": "python",
   "nbconvert_exporter": "python",
   "pygments_lexer": "ipython3",
   "version": "3.8.5"
  }
 },
 "nbformat": 4,
 "nbformat_minor": 4
}
