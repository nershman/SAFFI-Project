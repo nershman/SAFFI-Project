{
 "cells": [
  {
   "cell_type": "markdown",
   "metadata": {},
   "source": [
    "This notebook is used for examining word2vec similairties"
   ]
  },
  {
   "cell_type": "code",
   "execution_count": 1,
   "metadata": {},
   "outputs": [
    {
     "data": {
      "application/javascript": [
       "if (!(\"Notification\" in window)) {\n",
       "    alert(\"This browser does not support desktop notifications, so the %%notify magic will not work.\");\n",
       "} else if (Notification.permission !== 'granted' && Notification.permission !== 'denied') {\n",
       "    Notification.requestPermission(function (permission) {\n",
       "        if(!('permission' in Notification)) {\n",
       "            Notification.permission = permission;\n",
       "        }\n",
       "    })\n",
       "}\n"
      ],
      "text/plain": [
       "<IPython.core.display.Javascript object>"
      ]
     },
     "metadata": {},
     "output_type": "display_data"
    }
   ],
   "source": [
    "#if jupyternotify is installed, we can add %notify to a cell to get an alert when it ifnished running\n",
    "\n",
    "%load_ext jupyternotify\n",
    "import metrics_helpers as indicators\n",
    "import pickle as pk\n",
    "import gc\n",
    "import numpy as np\n",
    "from matplotlib import pyplot as plt\n",
    "import seaborn as sns\n",
    "import pandas as pd\n",
    "\n",
    "\n",
    "def dt_to_int(dt): #datetime to integer\n",
    "    return dt.astype('int')/(10**9)\n",
    "with open('/Users/sma/Documents/INRAE internship/scrape-git/netmums/allposts_rerun.pkl', 'rb') as f:\n",
    "    netmums = pk.load(f)\n",
    "with open('/Users/sma/Documents/INRAE internship/scrape-git/netmums/netmums_subset_keys.txt', 'r') as f:\n",
    "    keys = [url.strip() for url in f.readlines()]\n",
    "    \n",
    "    \n",
    "netmums = {key:netmums[key] for key in keys}"
   ]
  },
  {
   "cell_type": "code",
   "execution_count": 2,
   "metadata": {},
   "outputs": [],
   "source": [
    "#netmums\n",
    "nm_ind = indicators.indicators(netmums, fb=False)\n",
    "#this one takes long, around 20 seconds I think.\n",
    "\n",
    "nm_ind.add_available_comments()\n",
    "nm_ind.add_num_unique_posters()\n",
    "nm_ind.add_num_urls()\n",
    "nm_ind.add_post_time()\n",
    "nm_ind.add_lexical_richness()\n",
    "nm_ind.add_term_distance_simple()\n",
    "\n",
    "netmums = nm_ind.results_dict"
   ]
  },
  {
   "cell_type": "markdown",
   "metadata": {},
   "source": [
    "# GenSim / Word2Vec Implementation on Threads"
   ]
  },
  {
   "cell_type": "markdown",
   "metadata": {},
   "source": [
    "https://radimrehurek.com/gensim/models/word2vec.html"
   ]
  },
  {
   "cell_type": "code",
   "execution_count": 3,
   "metadata": {},
   "outputs": [
    {
     "name": "stderr",
     "output_type": "stream",
     "text": [
      "/usr/local/lib/python3.8/site-packages/gensim/similarities/__init__.py:15: UserWarning: The gensim.similarities.levenshtein submodule is disabled, because the optional Levenshtein package <https://pypi.org/project/python-Levenshtein/> is unavailable. Install Levenhstein (e.g. `pip install python-Levenshtein`) to suppress this warning.\n",
      "  warnings.warn(msg)\n"
     ]
    }
   ],
   "source": [
    "from gensim.models import Word2Vec, Phrases\n",
    "from gensim.models.phrases import ENGLISH_CONNECTOR_WORDS"
   ]
  },
  {
   "cell_type": "markdown",
   "metadata": {},
   "source": [
    "we can try running the model on only our subset and see how long it takes.\n",
    "\n",
    "Then maybe we can run it on the entire dataset.\n",
    "\n",
    "The end goal of this is to determine which words are related to ngrams like \"baby food\""
   ]
  },
  {
   "cell_type": "code",
   "execution_count": 4,
   "metadata": {},
   "outputs": [],
   "source": [
    "#Process our data to the right format for feeding into the model\n",
    "keys = list(nm_ind.text_dict.keys())\n",
    "text_list = list(nm_ind.text_dict.values())\n"
   ]
  },
  {
   "cell_type": "code",
   "execution_count": 5,
   "metadata": {},
   "outputs": [],
   "source": [
    "import re"
   ]
  },
  {
   "cell_type": "code",
   "execution_count": 6,
   "metadata": {},
   "outputs": [],
   "source": [
    "#define functions\n",
    "def deEmojify(text):\n",
    "    #remove emoji (FIXME: doesnt remove all of them.)\n",
    "    regrex_pattern = re.compile(pattern = \"[\"\n",
    "        u\"\\U0001F600-\\U0001F64F\"  # emoticons\n",
    "        u\"\\U0001F300-\\U0001F5FF\"  # symbols & pictographs\n",
    "        u\"\\U0001F680-\\U0001F6FF\"  # transport & map symbols\n",
    "        u\"\\U0001F1E0-\\U0001F1FF\"  # flags (iOS)\n",
    "                           \"]+\", flags = re.UNICODE)\n",
    "    return regrex_pattern.sub(r'',text)\n",
    "\n",
    "def clean(text):\n",
    "    #remove URLs\n",
    "    pdf_regex='http[\\S]+pdf[\\S]*'\n",
    "    regex = r'http\\S+'\n",
    "    text = re.sub(regex, 'urlpostedtopdf', text)\n",
    "    text = re.sub(regex, 'urlpostedtosomething', text)\n",
    "    #TODO: remove emails\n",
    "\n",
    "    #replace commas and semicolons with spaces.\n",
    "    text = re.sub('[;,&\\+]+', ' ', text)\n",
    "    #remove hyphens\n",
    "    text = re.sub('[-]+', ' ', text)\n",
    "    return text"
   ]
  },
  {
   "cell_type": "code",
   "execution_count": 7,
   "metadata": {},
   "outputs": [],
   "source": [
    "#CLEAN TEXT\n",
    "text_list = [deEmojify(i) for i in text_list]\n",
    "\n",
    "text_list = [clean(item) for item in text_list]\n",
    "\n",
    "\n",
    "#split sentences, new lines\n",
    "text_list = [j for i in text_list for j in re.split('[\\n?!.]+', i)]\n",
    "\n",
    "#remove empty items\n",
    "text_list = [i for i in text_list if i]\n",
    "#strip reamining elements from text\n",
    "text_list = [re.sub(r'[^A-Za-z0-9 ]+', '', i) for i in text_list]\n",
    "#remove extra spaces\n",
    "text_list = [re.sub(r'\\s+', ' ', i) for i in text_list]"
   ]
  },
  {
   "cell_type": "code",
   "execution_count": 8,
   "metadata": {},
   "outputs": [],
   "source": [
    "from gensim.utils import tokenize"
   ]
  },
  {
   "cell_type": "code",
   "execution_count": 9,
   "metadata": {},
   "outputs": [],
   "source": [
    "#we need to transform list of sentence to LoL of words\n",
    "tokens = [list(tokenize(doc, lower=True)) for doc in text_list]"
   ]
  },
  {
   "cell_type": "code",
   "execution_count": 10,
   "metadata": {},
   "outputs": [
    {
     "data": {
      "application/javascript": [
       "$(document).ready(\n",
       "    function() {\n",
       "        function appendUniqueDiv(){\n",
       "            // append a div with our uuid so we can check that it's already\n",
       "            // been sent and avoid duplicates on page reload\n",
       "            var notifiedDiv = document.createElement(\"div\")\n",
       "            notifiedDiv.id = \"a1eb705c-dc3e-4e17-a1b9-214a56536763\"\n",
       "            element.append(notifiedDiv)\n",
       "        }\n",
       "\n",
       "        // only send notifications if the pageload is complete; this will\n",
       "        // help stop extra notifications when a saved notebook is loaded,\n",
       "        // which during testing gives us state \"interactive\", not \"complete\"\n",
       "        if (document.readyState === 'complete') {\n",
       "            // check for the div that signifies that the notification\n",
       "            // was already sent\n",
       "            if (document.getElementById(\"a1eb705c-dc3e-4e17-a1b9-214a56536763\") === null) {\n",
       "                var notificationPayload = {\"requireInteraction\": false, \"icon\": \"/static/base/images/favicon.ico\", \"body\": \"Cell execution has finished!\"};\n",
       "                if (Notification.permission !== 'denied') {\n",
       "                    if (Notification.permission !== 'granted') { \n",
       "                        Notification.requestPermission(function (permission) {\n",
       "                            if(!('permission' in Notification)) {\n",
       "                                Notification.permission = permission\n",
       "                            }\n",
       "                        })\n",
       "                    }\n",
       "                    if (Notification.permission === 'granted') {\n",
       "                    var notification = new Notification(\"Jupyter Notebook\", notificationPayload)\n",
       "                    appendUniqueDiv()\n",
       "                    notification.onclick = function () {\n",
       "                        window.focus();\n",
       "                        this.close();\n",
       "                        };\n",
       "                    } \n",
       "                }     \n",
       "            }\n",
       "        }\n",
       "    }\n",
       ")\n"
      ],
      "text/plain": [
       "<IPython.core.display.Javascript object>"
      ]
     },
     "metadata": {},
     "output_type": "display_data"
    }
   ],
   "source": [
    "# Train a bigram detector.\n",
    "#this detects bigrams and converts them to single tokens simply by relplacing space w underscore\n",
    "#check the google paper for more info on how it's done.\n",
    "#https://datascience.stackexchange.com/questions/25524/how-does-phrases-in-gensim-work\n",
    "\n",
    "#Detect phrases based on collocation counts.\n",
    "bigram_transformer = Phrases(tokens, threshold = 2, connector_words=phrases.ENGLISH_CONNECTOR_WORDS)\n",
    "#moving the threshhold a bit higher.. about 12, will get rid of a lot\n",
    "#of non-phrase bigrams (what_brand, an_email) but I'm not sure how this would be beneficial.\n",
    "#TODO: read how the word similarity is calculated.\n",
    "\n",
    "# Apply the trained MWE detector to a corpus, using the result to train a Word2vec model.\n",
    "model = Word2Vec(bigram_transformer[tokens], min_count=1)\n",
    "\n",
    "%notify"
   ]
  },
  {
   "cell_type": "code",
   "execution_count": 11,
   "metadata": {},
   "outputs": [],
   "source": [
    "#bigram_transformer = Phrases(tokens, threshold = 10) \n",
    "temp = sorted(bigram_transformer.export_phrases().items(), key= lambda x:x[1] * -1 )"
   ]
  },
  {
   "cell_type": "code",
   "execution_count": 12,
   "metadata": {},
   "outputs": [
    {
     "data": {
      "text/plain": [
       "[('baby_food', 18.980015343965896),\n",
       " ('baby_arrived', 14.238439978954187),\n",
       " ('baby_massage', 10.228430352228312),\n",
       " ('baby_rice', 15.396495339628856),\n",
       " ('baby_led', 36.9429794048541),\n",
       " ('baby_arrives', 10.848335222060332),\n",
       " ('baby_dermexa', 61.74061109227475),\n",
       " ('baby_dermexarange', 59.06315843121736),\n",
       " ('ismamiababy_food', 48.40609198169997),\n",
       " ('aldimamiababy_food', 48.40609198169997)]"
      ]
     },
     "execution_count": 12,
     "metadata": {},
     "output_type": "execute_result"
    }
   ],
   "source": [
    "baby_ = [item for item in bigram_transformer.export_phrases().items() if 'baby_' in item[0]]\n",
    "baby_"
   ]
  },
  {
   "cell_type": "code",
   "execution_count": 13,
   "metadata": {},
   "outputs": [
    {
     "data": {
      "text/plain": [
       "[('finger_food', 23.58245506800768),\n",
       " ('baby_food', 18.980015343965896),\n",
       " ('processed_food', 16.305209930677886),\n",
       " ('junk_food', 26.403322899109078),\n",
       " ('processed_foods', 97.29243799153055),\n",
       " ('junk_foods', 15.56023839931886),\n",
       " ('certain_foods', 57.79517119747005),\n",
       " ('solid_food', 21.355628815455873),\n",
       " ('sugary_foods', 18.017118146579733),\n",
       " ('mamia_food', 25.00981419054499),\n",
       " ('branded_food', 73.92930411750542),\n",
       " ('finger_foods', 200.78692242197988),\n",
       " ('farm_foods', 10.068389552500438),\n",
       " ('ismamiababy_food', 48.40609198169997),\n",
       " ('aldimamiababy_food', 48.40609198169997)]"
      ]
     },
     "execution_count": 13,
     "metadata": {},
     "output_type": "execute_result"
    }
   ],
   "source": [
    "_food = [item for item in bigram_transformer.export_phrases().items() if '_food' in item[0]]\n",
    "_food"
   ]
  },
  {
   "cell_type": "code",
   "execution_count": 14,
   "metadata": {},
   "outputs": [
    {
     "data": {
      "text/plain": [
       "[('soy_formula', 14.778394471807689),\n",
       " ('add_formula', 11.188607162166461),\n",
       " ('formula_powder', 14.468230637214194),\n",
       " ('infant_formula', 27.31763826606876),\n",
       " ('powdered_formula', 48.466777568831674),\n",
       " ('formula_feeding', 16.382072791957125),\n",
       " ('hydrolysed_formula', 45.07410313901345),\n",
       " ('formula_fed', 16.00694542466983),\n",
       " ('prescription_formula', 10.451965945278483)]"
      ]
     },
     "execution_count": 14,
     "metadata": {},
     "output_type": "execute_result"
    }
   ],
   "source": [
    "formula = [item for item in bigram_transformer.export_phrases().items() if 'formula' in item[0]]\n",
    "formula"
   ]
  },
  {
   "cell_type": "code",
   "execution_count": 15,
   "metadata": {},
   "outputs": [
    {
     "data": {
      "text/plain": [
       "[('bottle_feeding', 22.856322623189396),\n",
       " ('bottle_fed', 30.200230642795283),\n",
       " ('making_bottles', 11.023101133946),\n",
       " ('bottled_water', 66.63258203513423),\n",
       " ('sterile_bottle', 19.409734291121154),\n",
       " ('sterilised_bottles', 49.55219445395413),\n",
       " ('oz_bottles', 20.945975916526503),\n",
       " ('oz_bottle', 22.190940074234543),\n",
       " ('insulated_bottle', 45.28938001261602),\n",
       " ('bottle_warmer', 104.23981891428343),\n",
       " ('sterilised_bottle', 31.899476356712153),\n",
       " ('empty_bottle', 31.354186162580323),\n",
       " ('mam_bottles', 107.51891249442876),\n",
       " ('tippee_bottles', 24.668841394825648),\n",
       " ('plastic_bottles', 18.745073559883963),\n",
       " ('pump_bottle', 10.633158785570718),\n",
       " ('sterilise_bottles', 15.49709267110842),\n",
       " ('avent_bottles', 23.893091665428614),\n",
       " ('sterilising_bottles', 41.15585039370078),\n",
       " ('glass_bottles', 25.326677165354333),\n",
       " ('browns_bottles', 36.52886129618413),\n",
       " ('brown_bottles', 14.522177273712346)]"
      ]
     },
     "execution_count": 15,
     "metadata": {},
     "output_type": "execute_result"
    }
   ],
   "source": [
    "bottle = [item for item in bigram_transformer.export_phrases().items() if 'bottle' in item[0]]\n",
    "bottle"
   ]
  },
  {
   "cell_type": "code",
   "execution_count": 94,
   "metadata": {},
   "outputs": [
    {
     "data": {
      "text/plain": [
       "[]"
      ]
     },
     "execution_count": 94,
     "metadata": {},
     "output_type": "execute_result"
    }
   ],
   "source": [
    "jarred = [item for item in bigram_transformer.export_phrases().items() if 'jarred' in item[0]]\n",
    "jarred"
   ]
  },
  {
   "cell_type": "code",
   "execution_count": 16,
   "metadata": {},
   "outputs": [
    {
     "data": {
      "text/plain": [
       "[('milk_allergy', 15.004515599343184),\n",
       " ('breast_milk', 27.512780772052597),\n",
       " ('soya_milk', 21.9982425961429),\n",
       " ('expressed_milk', 43.129495631143705),\n",
       " ('cows_milk', 123.60759149763705),\n",
       " ('soy_milk', 10.926995912510327),\n",
       " ('milk_protein', 16.90377926753759),\n",
       " ('milk_powder', 11.355981677964436),\n",
       " ('goats_milk', 77.35233896584471),\n",
       " ('almond_milk', 65.8885293758956),\n",
       " ('skimmed_milk', 81.7057307264482),\n",
       " ('oat_milk', 29.81919674019266),\n",
       " ('coconut_milk', 15.899280291047136),\n",
       " ('semiskimmed_milk', 13.330935013262598),\n",
       " ('reflux_milk', 16.568083668490804),\n",
       " ('milk_supply', 21.764791858387916),\n",
       " ('milk_intolerance', 13.112395095012394),\n",
       " ('comfort_milk', 14.70323714698081),\n",
       " ('powdered_milk', 12.900904851544452)]"
      ]
     },
     "execution_count": 16,
     "metadata": {},
     "output_type": "execute_result"
    }
   ],
   "source": [
    "milk = [item for item in bigram_transformer.export_phrases().items() if 'milk' in item[0]]\n",
    "milk"
   ]
  },
  {
   "cell_type": "code",
   "execution_count": 17,
   "metadata": {},
   "outputs": [
    {
     "data": {
      "text/plain": [
       "[('kill_bacteria', 80.807835160948),\n",
       " ('harmful_bacteria', 103.14986958566726),\n",
       " ('anti_bacterial', 175.31729651162792),\n",
       " ('friendly_bacteria', 29.333244163424123),\n",
       " ('bacterial_growth', 104.70338541666666),\n",
       " ('kills_bacteria', 15.042689314576474),\n",
       " ('bacteria_growth', 16.296246757457848),\n",
       " ('bacterial_vaginosis', 1435.9321428571427)]"
      ]
     },
     "execution_count": 17,
     "metadata": {},
     "output_type": "execute_result"
    }
   ],
   "source": [
    "bacteria = [item for item in bigram_transformer.export_phrases().items() if 'bacteria' in item[0]]\n",
    "bacteria"
   ]
  },
  {
   "cell_type": "code",
   "execution_count": 18,
   "metadata": {},
   "outputs": [
    {
     "data": {
      "text/plain": [
       "[('cereal_bars', 200.44532895900676), ('snacker_cereal', 1418.2045855379188)]"
      ]
     },
     "execution_count": 18,
     "metadata": {},
     "output_type": "execute_result"
    }
   ],
   "source": [
    "cereal = [item for item in bigram_transformer.export_phrases().items() if 'cereal' in item[0]]\n",
    "cereal"
   ]
  },
  {
   "cell_type": "code",
   "execution_count": 19,
   "metadata": {},
   "outputs": [
    {
     "data": {
      "text/plain": [
       "[('porridge_pouches', 229.9516295379538),\n",
       " ('recommend_porridge', 58.926345101615425),\n",
       " ('fruity_porridge', 314.2738405419489),\n",
       " ('creamy_porridge', 34.31725844998293),\n",
       " ('porridge_oats', 154.01912423385195)]"
      ]
     },
     "execution_count": 19,
     "metadata": {},
     "output_type": "execute_result"
    }
   ],
   "source": [
    "porridge = [item for item in bigram_transformer.export_phrases().items() if 'porridge' in item[0]]\n",
    "porridge"
   ]
  },
  {
   "cell_type": "code",
   "execution_count": 20,
   "metadata": {},
   "outputs": [
    {
     "data": {
      "text/plain": [
       "[('goats_milk', 77.35233896584471),\n",
       " ('goats_cheese', 88.75970927369369),\n",
       " ('porridge_oats', 154.01912423385195)]"
      ]
     },
     "execution_count": 20,
     "metadata": {},
     "output_type": "execute_result"
    }
   ],
   "source": [
    "oats = [item for item in bigram_transformer.export_phrases().items() if 'oats' in item[0]]\n",
    "oats"
   ]
  },
  {
   "cell_type": "code",
   "execution_count": 21,
   "metadata": {},
   "outputs": [
    {
     "data": {
      "text/plain": [
       "[('fruit_veg', 13.74195588088694),\n",
       " ('fresh_fruit', 38.762435629129726),\n",
       " ('dried_fruit', 27.844716539468397),\n",
       " ('fruit_juice', 14.294404411963384),\n",
       " ('citrus_fruits', 150.75403074615673),\n",
       " ('fruit_pouches', 29.25804684866869),\n",
       " ('fruit_pots', 62.2913255487785),\n",
       " ('fruity_porridge', 314.2738405419489),\n",
       " ('fruit_puree', 41.84897103431868),\n",
       " ('fruit_purees', 16.593178019438312),\n",
       " ('fruit_shoot', 22.585158970902146),\n",
       " ('dried_fruits', 43.367597885880706),\n",
       " ('salad_grapefruit', 30.76918956149078),\n",
       " ('breakfast_grapefruit', 17.969608259402445),\n",
       " ('grapefruit_boiled', 10.03221298999426),\n",
       " ('grapefruit_juice', 69.7175307785677)]"
      ]
     },
     "execution_count": 21,
     "metadata": {},
     "output_type": "execute_result"
    }
   ],
   "source": [
    "fruit = [item for item in bigram_transformer.export_phrases().items() if 'fruit' in item[0]]\n",
    "fruit"
   ]
  },
  {
   "cell_type": "code",
   "execution_count": 22,
   "metadata": {},
   "outputs": [
    {
     "data": {
      "text/plain": [
       "[('fruit_veg', 13.74195588088694),\n",
       " ('vegan_diet', 12.614027608607389),\n",
       " ('veg_purees', 11.556797930439782),\n",
       " ('vegetable_oil', 51.48028169014084),\n",
       " ('green_veg', 25.561389866979656),\n",
       " ('pureed_veg', 53.93172367538565),\n",
       " ('pured_veg', 73.86301285976731),\n",
       " ('green_vegetables', 19.525106837606838),\n",
       " ('carb_veg', 12.221937379673726),\n",
       " ('veganuary_challenge', 558.4180555555556),\n",
       " ('vegan_butter', 23.09699842022117),\n",
       " ('quorn_veganuary', 26.28536872384937),\n",
       " ('quorn_vegan', 38.23326359832636),\n",
       " ('vegan_pieces', 31.24017094017094),\n",
       " ('vegetarian_option', 119.92870991797166),\n",
       " ('veggie_option', 82.72860082304527)]"
      ]
     },
     "execution_count": 22,
     "metadata": {},
     "output_type": "execute_result"
    }
   ],
   "source": [
    "veg = [item for item in bigram_transformer.export_phrases().items() if 'veg' in item[0]]\n",
    "veg"
   ]
  },
  {
   "cell_type": "code",
   "execution_count": 23,
   "metadata": {
    "scrolled": true
   },
   "outputs": [
    {
     "data": {
      "text/plain": [
       "[('veg_purees', 11.556797930439782),\n",
       " ('purely_because', 10.130032753842277),\n",
       " ('fruit_puree', 41.84897103431868),\n",
       " ('fruit_purees', 16.593178019438312),\n",
       " ('pureed_veg', 53.93172367538565),\n",
       " ('pured_veg', 73.86301285976731)]"
      ]
     },
     "execution_count": 23,
     "metadata": {},
     "output_type": "execute_result"
    }
   ],
   "source": [
    "pure = [item for item in bigram_transformer.export_phrases().items() if 'pure' in item[0]]\n",
    "#search pure rather than puree because the cleaning may have removed accented e.\n",
    "pure"
   ]
  },
  {
   "cell_type": "code",
   "execution_count": 24,
   "metadata": {},
   "outputs": [
    {
     "data": {
      "text/plain": [
       "[('for_ages', 10.572040860416791),\n",
       " ('for_example', 16.256043523787596),\n",
       " ('for_replying', 11.572098779645406),\n",
       " ('for_choosing', 11.068964050095605),\n",
       " ('for_instance', 12.252810472565724),\n",
       " ('for_brekkie', 12.18115661015306)]"
      ]
     },
     "execution_count": 24,
     "metadata": {},
     "output_type": "execute_result"
    }
   ],
   "source": [
    "for_ = [item for item in bigram_transformer.export_phrases().items() if 'for_' in item[0]]\n",
    "for_"
   ]
  },
  {
   "cell_type": "code",
   "execution_count": 25,
   "metadata": {},
   "outputs": [
    {
     "data": {
      "text/plain": [
       "[('suitable_for', 14.136726076756009),\n",
       " ('opt_for', 13.018611127101083),\n",
       " ('responsible_for', 10.160867221152065),\n",
       " ('catered_for', 14.7281257195487),\n",
       " ('cater_for', 12.85788753293934)]"
      ]
     },
     "execution_count": 25,
     "metadata": {},
     "output_type": "execute_result"
    }
   ],
   "source": [
    "_for = [item for item in bigram_transformer.export_phrases().items() if item[0].endswith('_for')]\n",
    "_for"
   ]
  },
  {
   "cell_type": "code",
   "execution_count": 26,
   "metadata": {},
   "outputs": [
    {
     "data": {
      "text/plain": [
       "[('fish_oil', 19.47105210056903),\n",
       " ('fish_fingers', 18.681685123518935),\n",
       " ('fish_pie', 25.88847751199253)]"
      ]
     },
     "execution_count": 26,
     "metadata": {},
     "output_type": "execute_result"
    }
   ],
   "source": [
    "fish = [item for item in bigram_transformer.export_phrases().items() if 'fish' in item[0]]\n",
    "fish"
   ]
  },
  {
   "cell_type": "code",
   "execution_count": 60,
   "metadata": {},
   "outputs": [
    {
     "data": {
      "text/plain": [
       "[('civil', 0.484002947807312),\n",
       " ('behalf', 0.4821856915950775),\n",
       " ('veganso', 0.4752374291419983),\n",
       " ('baby', 0.4699704945087433),\n",
       " ('tootsies', 0.46447181701660156),\n",
       " ('mealday', 0.46278780698776245),\n",
       " ('leavingclaire', 0.4603457450866699),\n",
       " ('child', 0.46033722162246704),\n",
       " ('pander', 0.4473734498023987),\n",
       " ('lber', 0.44080352783203125),\n",
       " ('climber', 0.4336532652378082),\n",
       " ('consumedx', 0.43335485458374023),\n",
       " ('choice', 0.42924654483795166),\n",
       " ('visitorgp', 0.42922401428222656),\n",
       " ('dog', 0.4282580614089966),\n",
       " ('dunk', 0.4268827438354492),\n",
       " ('do', 0.42445674538612366),\n",
       " ('newhv', 0.42384371161460876),\n",
       " ('juiceplusers', 0.4192289113998413),\n",
       " ('rountine', 0.4146220088005066),\n",
       " ('designs', 0.4119214415550232),\n",
       " ('tortured', 0.4094381034374237),\n",
       " ('go', 0.40819084644317627),\n",
       " ('dispersible', 0.4074210822582245),\n",
       " ('unsocial', 0.40705984830856323),\n",
       " ('whomis', 0.40534287691116333),\n",
       " ('pleasantto', 0.40413957834243774),\n",
       " ('ovalating', 0.40285322070121765),\n",
       " ('ask', 0.3986044228076935),\n",
       " ('maddness', 0.39720338582992554),\n",
       " ('consumehow', 0.39534544944763184),\n",
       " ('roundworst', 0.39188501238822937),\n",
       " ('treat', 0.3900790810585022),\n",
       " ('admins', 0.3821539580821991),\n",
       " ('answer', 0.38092049956321716),\n",
       " ('godare', 0.3790540099143982),\n",
       " ('parent', 0.3771587312221527),\n",
       " ('little_one', 0.3761642575263977),\n",
       " ('consulant', 0.3751508295536041),\n",
       " ('why', 0.37482666969299316),\n",
       " ('srgemoji', 0.3736101984977722),\n",
       " ('bigwigs', 0.37191805243492126),\n",
       " ('tobias', 0.37185776233673096),\n",
       " ('decidesbut', 0.370695561170578),\n",
       " ('tmw', 0.36929720640182495),\n",
       " ('quell', 0.3681112825870514),\n",
       " ('doit', 0.367463082075119),\n",
       " ('see', 0.3672237992286682),\n",
       " ('works', 0.366842657327652),\n",
       " ('converation', 0.36531874537467957),\n",
       " ('blepharits', 0.3643897771835327),\n",
       " ('selfsettle', 0.3631971776485443),\n",
       " ('attiahows', 0.3628768026828766),\n",
       " ('mother', 0.3628174960613251),\n",
       " ('discretion', 0.36280858516693115),\n",
       " ('change', 0.36009377241134644),\n",
       " ('baconbriecranberry', 0.3594493269920349),\n",
       " ('stockpiled', 0.3592032492160797),\n",
       " ('interrupt', 0.3575812578201294),\n",
       " ('important', 0.3563321828842163),\n",
       " ('joyous', 0.3558611273765564),\n",
       " ('whateveras', 0.3551367521286011),\n",
       " ('neightbour', 0.3551093339920044),\n",
       " ('dermatolgist', 0.3550846576690674),\n",
       " ('lashes', 0.35371237993240356),\n",
       " ('say', 0.3526994585990906),\n",
       " ('helpedps', 0.3521471619606018),\n",
       " ('doi', 0.35208383202552795),\n",
       " ('question', 0.3512512743473053),\n",
       " ('yank', 0.35050541162490845)]"
      ]
     },
     "execution_count": 60,
     "metadata": {},
     "output_type": "execute_result"
    }
   ],
   "source": [
    "model.wv.most_similar(positive=['baby_food'], negative=['what_brand'], topn=70)"
   ]
  },
  {
   "cell_type": "code",
   "execution_count": 27,
   "metadata": {},
   "outputs": [
    {
     "data": {
      "text/plain": [
       "[('wrongwhat', 0.7251508831977844),\n",
       " ('what_brand', 0.711052417755127),\n",
       " ('aveeno_baby', 0.7100450992584229),\n",
       " ('brands', 0.7007764577865601),\n",
       " ('when_selecting', 0.6926984190940857),\n",
       " ('price', 0.6922866106033325),\n",
       " ('dermexa_range', 0.6908367872238159),\n",
       " ('decide', 0.6845329403877258),\n",
       " ('key_factor', 0.6760783791542053),\n",
       " ('normally_purchase', 0.6741558909416199),\n",
       " ('choose', 0.6740629076957703),\n",
       " ('google', 0.6653648018836975),\n",
       " ('other_retailers', 0.6646943688392639),\n",
       " ('link', 0.6637616753578186),\n",
       " ('copy', 0.6614897847175598),\n",
       " ('switch', 0.6613793969154358),\n",
       " ('practitioner', 0.6609077453613281),\n",
       " ('possible', 0.6600980162620544),\n",
       " ('solution', 0.6596598625183105),\n",
       " ('optician', 0.6588265895843506),\n",
       " ('suggest', 0.6545343995094299),\n",
       " ('buy_other', 0.6544627547264099),\n",
       " ('feel_comfortable', 0.6531235575675964),\n",
       " ('question', 0.6505260467529297),\n",
       " ('planlike', 0.6497359275817871),\n",
       " ('follow', 0.6489999294281006),\n",
       " ('best_way', 0.6484217047691345),\n",
       " ('answer', 0.6434546113014221),\n",
       " ('currently_use', 0.64310622215271),\n",
       " ('fromx', 0.6403494477272034),\n",
       " ('feel_guilty', 0.6390833854675293),\n",
       " ('look_at', 0.6372290849685669),\n",
       " ('state', 0.6356646418571472),\n",
       " ('why', 0.6324995756149292),\n",
       " ('most_often', 0.6316530108451843),\n",
       " ('deserve', 0.6316268444061279),\n",
       " ('brand', 0.6305857300758362),\n",
       " ('aldi_mamia', 0.6287938356399536),\n",
       " ('mean', 0.6287374496459961),\n",
       " ('yourself', 0.6280096769332886),\n",
       " ('basher', 0.6265056133270264),\n",
       " ('aldimamiaand_why', 0.6259897351264954),\n",
       " ('important_thing', 0.6252883076667786),\n",
       " ('price_range', 0.6247768402099609),\n",
       " ('perhaps', 0.6238986253738403),\n",
       " ('tailor', 0.6230141520500183),\n",
       " ('how_much', 0.6209136247634888),\n",
       " ('wean_early', 0.6207329034805298),\n",
       " ('outcome', 0.6199136972427368),\n",
       " ('please_explain', 0.6169071197509766),\n",
       " ('aldi', 0.6168849468231201),\n",
       " ('understand_how', 0.6165786981582642),\n",
       " ('hipp_organic', 0.6152647137641907),\n",
       " ('your_decision', 0.6150021553039551),\n",
       " ('rrp', 0.6122081279754639),\n",
       " ('comment', 0.6120386123657227),\n",
       " ('phases', 0.6120126247406006),\n",
       " ('support_group', 0.607026219367981),\n",
       " ('respect', 0.6033143997192383),\n",
       " ('religion', 0.602815568447113),\n",
       " ('on_offermultibuy', 0.6019994616508484),\n",
       " ('choice', 0.6003131866455078),\n",
       " ('satisfies', 0.5986141562461853),\n",
       " ('can_afford', 0.5982733964920044),\n",
       " ('buy_organic', 0.5976935625076294),\n",
       " ('stimulants', 0.5968564748764038),\n",
       " ('parent', 0.5964181423187256),\n",
       " ('temporary_housing', 0.5954757332801819),\n",
       " ('alan', 0.5954591631889343),\n",
       " ('person', 0.5950216054916382)]"
      ]
     },
     "execution_count": 27,
     "metadata": {},
     "output_type": "execute_result"
    }
   ],
   "source": [
    "model.wv.most_similar('baby_food', topn=70)"
   ]
  },
  {
   "cell_type": "code",
   "execution_count": 28,
   "metadata": {},
   "outputs": [
    {
     "data": {
      "text/plain": [
       "[('fruitveg', 0.8857777118682861),\n",
       " ('jacket_potatoes', 0.8788002729415894),\n",
       " ('pure', 0.8766114711761475),\n",
       " ('lunch_poached', 0.8760175704956055),\n",
       " ('dinner_grilled', 0.8757866024971008),\n",
       " ('roast_chicken', 0.8725905418395996),\n",
       " ('crumpets', 0.8716704845428467),\n",
       " ('mediterranean', 0.870742917060852),\n",
       " ('sesame', 0.869845986366272),\n",
       " ('undercooked', 0.8686826825141907),\n",
       " ('leftover', 0.8685581684112549),\n",
       " ('special_fried', 0.867859959602356),\n",
       " ('blueberries', 0.8649089336395264),\n",
       " ('quorn_vegan', 0.8640193343162537),\n",
       " ('battered', 0.8638033270835876),\n",
       " ('puddings', 0.8636474013328552),\n",
       " ('sweetened', 0.8630293011665344),\n",
       " ('various', 0.8617982864379883),\n",
       " ('fruit_veg', 0.8612055778503418),\n",
       " ('tortillas', 0.8594556450843811),\n",
       " ('kebabs', 0.859329879283905),\n",
       " ('macaroni', 0.8592596650123596),\n",
       " ('smoothies', 0.858727216720581),\n",
       " ('grapes', 0.8587201833724976),\n",
       " ('packed', 0.8586691617965698),\n",
       " ('eg', 0.8583951592445374),\n",
       " ('birds_eye', 0.8580885529518127),\n",
       " ('containing', 0.8580421805381775),\n",
       " ('low_fat', 0.8576465845108032),\n",
       " ('lunch_fresh', 0.8575614094734192),\n",
       " ('dried', 0.8573529124259949),\n",
       " ('for_brekkie', 0.8563762903213501),\n",
       " ('roll_ups', 0.8557730317115784),\n",
       " ('hipp', 0.8555351495742798),\n",
       " ('slice', 0.85506671667099),\n",
       " ('sienna', 0.8544152975082397),\n",
       " ('cereals', 0.854132890701294),\n",
       " ('scrambled_egg', 0.8538820743560791),\n",
       " ('flakes', 0.8538463711738586),\n",
       " ('crackers', 0.8536007404327393),\n",
       " ('pured', 0.8535012602806091),\n",
       " ('blended', 0.8533421754837036),\n",
       " ('roasted', 0.8528933525085449),\n",
       " ('nut', 0.8526180386543274),\n",
       " ('cakes_biscuits', 0.8524050712585449),\n",
       " ('jarspouches', 0.8523794412612915),\n",
       " ('pineapple', 0.8523280620574951),\n",
       " ('free_dippers', 0.8518112897872925),\n",
       " ('quinoa', 0.8517974615097046),\n",
       " ('defrosted', 0.8517093658447266),\n",
       " ('tiger', 0.8515983819961548),\n",
       " ('finger_foods', 0.851158857345581),\n",
       " ('crisp', 0.8507907390594482),\n",
       " ('mashed', 0.8503270149230957),\n",
       " ('fruit_pots', 0.8500866889953613),\n",
       " ('tinned', 0.849852442741394),\n",
       " ('shoots', 0.8497268557548523),\n",
       " ('avocados', 0.8493192195892334),\n",
       " ('rice_cakes', 0.8492070436477661),\n",
       " ('breadsticks', 0.8481993079185486),\n",
       " ('loaf', 0.8481173515319824),\n",
       " ('beef_stew', 0.848086953163147),\n",
       " ('dried_fruits', 0.8479276299476624),\n",
       " ('deviled', 0.8475536704063416),\n",
       " ('seeded', 0.8471679091453552),\n",
       " ('citrus', 0.8466371297836304),\n",
       " ('cereal', 0.8464612364768982),\n",
       " ('melon', 0.8464406132698059),\n",
       " ('biscotti', 0.8463732004165649),\n",
       " ('parsnip', 0.8463451266288757)]"
      ]
     },
     "execution_count": 28,
     "metadata": {},
     "output_type": "execute_result"
    }
   ],
   "source": [
    "model.wv.most_similar('pureed', topn=70)\n",
    "#there are specific fruits and veggies in here.\n",
    "#TODO: make a list of all english fruits and veggies\n",
    "#sweet_corn\n",
    "#steamed (x)\n",
    "#peach\n"
   ]
  },
  {
   "cell_type": "code",
   "execution_count": 29,
   "metadata": {},
   "outputs": [
    {
     "data": {
      "text/plain": [
       "[('butternut_squash', 0.9555217027664185),\n",
       " ('tomato', 0.9467798471450806),\n",
       " ('flour', 0.9451279044151306),\n",
       " ('sweetcorn', 0.9449006915092468),\n",
       " ('hummus', 0.9441614747047424),\n",
       " ('avocado', 0.9436941742897034),\n",
       " ('potato', 0.9415420889854431),\n",
       " ('ham', 0.9406529664993286),\n",
       " ('apple', 0.9398086667060852),\n",
       " ('sliced', 0.9396859407424927),\n",
       " ('beetroot', 0.9391085505485535),\n",
       " ('green_beans', 0.9390202164649963),\n",
       " ('sweet_potato', 0.9383134245872498),\n",
       " ('red_wine', 0.9367283582687378),\n",
       " ('roasted', 0.9355555772781372),\n",
       " ('baked', 0.9354897141456604),\n",
       " ('stirfry', 0.9345808625221252),\n",
       " ('scrambled_egg', 0.933868408203125),\n",
       " ('crackers', 0.932793378829956),\n",
       " ('steamed', 0.9323605895042419),\n",
       " ('mushrooms', 0.9317981600761414),\n",
       " ('rice_cakes', 0.9313735365867615),\n",
       " ('herbs', 0.9300234317779541),\n",
       " ('sweet_corn', 0.929861843585968),\n",
       " ('tomatos', 0.9297149777412415),\n",
       " ('lettuce', 0.9291954040527344),\n",
       " ('meatballs', 0.92864590883255),\n",
       " ('tomato_sauce', 0.9286206960678101),\n",
       " ('lamb', 0.928398072719574),\n",
       " ('dinner_grilled', 0.9283058047294617),\n",
       " ('fried', 0.9282986521720886),\n",
       " ('salads', 0.9282021522521973),\n",
       " ('chopped', 0.9272062182426453),\n",
       " ('blueberries', 0.9263830780982971),\n",
       " ('kebabs', 0.9258489608764648),\n",
       " ('chicken_balls', 0.9257065653800964),\n",
       " ('pie', 0.9256957769393921),\n",
       " ('salt_pepper', 0.9254800081253052),\n",
       " ('raspberries', 0.9250277876853943),\n",
       " ('greek_yoghurt', 0.9247168302536011),\n",
       " ('mackerel', 0.9246351718902588),\n",
       " ('pesto', 0.9243561625480652),\n",
       " ('cayenne', 0.9243167638778687),\n",
       " ('cucumber', 0.9242300987243652),\n",
       " ('sticks', 0.9241378307342529),\n",
       " ('chicken_breast', 0.9237923622131348),\n",
       " ('brown_rice', 0.923790454864502),\n",
       " ('boiled_egg', 0.9234319925308228),\n",
       " ('peas', 0.923389732837677),\n",
       " ('celery', 0.9232813715934753),\n",
       " ('chickpea_salad', 0.9232190251350403),\n",
       " ('for_brekkie', 0.9228397607803345),\n",
       " ('omelette', 0.9227168560028076),\n",
       " ('grilled', 0.9226049184799194),\n",
       " ('grapes', 0.9225702881813049),\n",
       " ('burger', 0.9220197200775146),\n",
       " ('drizzle', 0.9219539761543274),\n",
       " ('mashed', 0.921528160572052),\n",
       " ('slices', 0.9214757084846497),\n",
       " ('cabbage', 0.9213455319404602),\n",
       " ('olives', 0.9211823344230652),\n",
       " ('onions', 0.9211307764053345),\n",
       " ('beef', 0.9210361838340759),\n",
       " ('fruit_veg', 0.9208492636680603),\n",
       " ('leftover', 0.9208484888076782),\n",
       " ('roast_chicken', 0.9207456111907959),\n",
       " ('peppers', 0.9206331372261047),\n",
       " ('onion', 0.9203786253929138),\n",
       " ('an_apple', 0.9203136563301086),\n",
       " ('cod', 0.9201400876045227)]"
      ]
     },
     "execution_count": 29,
     "metadata": {},
     "output_type": "execute_result"
    }
   ],
   "source": [
    "model.wv.most_similar('puree', topn=70)"
   ]
  },
  {
   "cell_type": "code",
   "execution_count": 30,
   "metadata": {},
   "outputs": [
    {
     "data": {
      "text/plain": [
       "[('blended', 0.9270418286323547),\n",
       " ('flour', 0.9254921078681946),\n",
       " ('red_wine', 0.9250652194023132),\n",
       " ('nut', 0.9217947721481323),\n",
       " ('sweet_corn', 0.9198572039604187),\n",
       " ('fruit_veg', 0.9197940826416016),\n",
       " ('kebabs', 0.9166755080223083),\n",
       " ('sweetened', 0.9158961176872253),\n",
       " ('fruit_juice', 0.9154179692268372),\n",
       " ('chicken_balls', 0.9147155284881592),\n",
       " ('puree', 0.9141282439231873),\n",
       " ('crumpets', 0.9119455814361572),\n",
       " ('squash', 0.9106736779212952),\n",
       " ('raisins', 0.9106623530387878),\n",
       " ('orange', 0.9106507897377014),\n",
       " ('pesto', 0.9096901416778564),\n",
       " ('cherry_tomatoes', 0.9087192416191101),\n",
       " ('roasted', 0.9078137874603271),\n",
       " ('teas', 0.9071935415267944),\n",
       " ('drizzle', 0.9064682722091675),\n",
       " ('chunks', 0.9054614305496216),\n",
       " ('greek_yoghurt', 0.9049233198165894),\n",
       " ('oat', 0.9046118855476379),\n",
       " ('grapes', 0.9043022394180298),\n",
       " ('salads', 0.9040697813034058),\n",
       " ('salt_pepper', 0.9040598273277283),\n",
       " ('apricot', 0.9037516713142395),\n",
       " ('pudding', 0.9037010669708252),\n",
       " ('served', 0.9036158919334412),\n",
       " ('gravy', 0.9033734798431396),\n",
       " ('fruitveg', 0.9032426476478577),\n",
       " ('sliced', 0.9032379984855652),\n",
       " ('yeast', 0.9026880860328674),\n",
       " ('cod', 0.9026166796684265),\n",
       " ('oats', 0.9025518894195557),\n",
       " ('avocado', 0.9019044041633606),\n",
       " ('mango', 0.9011546969413757),\n",
       " ('rice_cakes', 0.9010454416275024),\n",
       " ('mustard', 0.9008289575576782),\n",
       " ('peanut_butter', 0.9008194804191589),\n",
       " ('seeds', 0.9005889296531677),\n",
       " ('sweet_potato', 0.9000139236450195),\n",
       " ('pizzas', 0.8999534845352173),\n",
       " ('cabbage', 0.8998410105705261),\n",
       " ('loaf', 0.8998215198516846),\n",
       " ('toms', 0.8998003602027893),\n",
       " ('dried', 0.8997939229011536),\n",
       " ('egg_fried', 0.8992912173271179),\n",
       " ('herbs', 0.8987929224967957),\n",
       " ('butternut_squash', 0.8987739682197571),\n",
       " ('spaghetti', 0.898071825504303),\n",
       " ('apple', 0.8980594873428345),\n",
       " ('flakes', 0.8978644609451294),\n",
       " ('fried', 0.8977091312408447),\n",
       " ('topped_with', 0.8967481255531311),\n",
       " ('olives', 0.8964343667030334),\n",
       " ('tomato_sauce', 0.8962953090667725),\n",
       " ('mixed', 0.8960557579994202),\n",
       " ('dairy_wheat', 0.8960505723953247),\n",
       " ('powdered', 0.8956657648086548),\n",
       " ('butter', 0.8956479430198669),\n",
       " ('omelette', 0.8949643969535828),\n",
       " ('hummus', 0.8947816491127014),\n",
       " ('egg_salad', 0.8947117328643799),\n",
       " ('tomato', 0.8946419954299927),\n",
       " ('rice_crispies', 0.8945802450180054),\n",
       " ('almond_milk', 0.8943471312522888),\n",
       " ('tomatos', 0.8941495418548584),\n",
       " ('peach', 0.8940401077270508),\n",
       " ('chopped', 0.8940234184265137),\n",
       " ('celery', 0.8940191864967346),\n",
       " ('green_beans', 0.8938550353050232),\n",
       " ('ready_meals', 0.8936472535133362),\n",
       " ('eg', 0.8936454653739929),\n",
       " ('lemon_juice', 0.893561065196991),\n",
       " ('dinner_grilled', 0.8934178948402405),\n",
       " ('jam', 0.8932850956916809),\n",
       " ('soups', 0.8932834267616272),\n",
       " ('green_veg', 0.8930633664131165),\n",
       " ('vegetable', 0.892890989780426),\n",
       " ('chilli', 0.8927270174026489),\n",
       " ('beetroot', 0.8926805257797241),\n",
       " ('noodles', 0.8924432396888733),\n",
       " ('fibre', 0.8922551274299622),\n",
       " ('sweet_potatoes', 0.8920091986656189),\n",
       " ('baked', 0.8919058442115784),\n",
       " ('potato', 0.8917546272277832),\n",
       " ('baking', 0.8914664387702942),\n",
       " ('cheddar', 0.8909431099891663),\n",
       " ('smoothies', 0.8909246921539307),\n",
       " ('containing', 0.890751302242279),\n",
       " ('home_made', 0.8906927108764648),\n",
       " ('lentils', 0.890588104724884),\n",
       " ('parsnips', 0.8904102444648743),\n",
       " ('special_fried', 0.8904017806053162),\n",
       " ('packed', 0.8903287053108215),\n",
       " ('cmp', 0.890118420124054),\n",
       " ('blueberries', 0.8900287747383118),\n",
       " ('tortilla', 0.8894813656806946),\n",
       " ('stuffed', 0.889477014541626)]"
      ]
     },
     "execution_count": 30,
     "metadata": {},
     "output_type": "execute_result"
    }
   ],
   "source": [
    "model.wv.most_similar('pure', topn=100)"
   ]
  },
  {
   "cell_type": "code",
   "execution_count": 31,
   "metadata": {},
   "outputs": [
    {
     "data": {
      "text/plain": [
       "[('cereal', 0.9096716046333313),\n",
       " ('weetabix', 0.872613787651062),\n",
       " ('yoghurt', 0.8670910596847534),\n",
       " ('mixed', 0.8652952909469604),\n",
       " ('tea', 0.8603147864341736),\n",
       " ('baby_rice', 0.8596265912055969),\n",
       " ('banana', 0.8580417633056641),\n",
       " ('salad', 0.8570737838745117),\n",
       " ('toast', 0.8526354432106018),\n",
       " ('cheese', 0.8458250761032104),\n",
       " ('egg', 0.8378180861473083),\n",
       " ('yogurt', 0.836993396282196),\n",
       " ('bacon', 0.836723804473877),\n",
       " ('mince', 0.8357442617416382),\n",
       " ('spoon', 0.8348868489265442),\n",
       " ('pasta', 0.8290421366691589),\n",
       " ('rice', 0.828012228012085),\n",
       " ('apple', 0.8262617588043213),\n",
       " ('cow', 0.8201343417167664),\n",
       " ('pure', 0.8133713603019714),\n",
       " ('greek_yoghurt', 0.8127124309539795),\n",
       " ('chicken', 0.8112149834632874),\n",
       " ('berries', 0.8105810880661011),\n",
       " ('blueberries', 0.8062143921852112),\n",
       " ('chips', 0.8044428825378418),\n",
       " ('chocolate', 0.8037696480751038),\n",
       " ('veg', 0.8026527762413025),\n",
       " ('omelette', 0.8002580404281616),\n",
       " ('pieces', 0.7988482713699341),\n",
       " ('puree', 0.7972151637077332),\n",
       " ('breakfast', 0.7966957688331604),\n",
       " ('gate', 0.7963354587554932),\n",
       " ('loaf', 0.7957572340965271),\n",
       " ('soup', 0.7954435348510742),\n",
       " ('sandwich', 0.7953834533691406),\n",
       " ('cake', 0.7952754497528076),\n",
       " ('mash', 0.7951327562332153),\n",
       " ('home_made', 0.7946817278862),\n",
       " ('cup', 0.7943516373634338),\n",
       " ('green', 0.7941988706588745),\n",
       " ('tomatoes', 0.7939112782478333),\n",
       " ('strawberries', 0.7927454710006714),\n",
       " ('broccoli', 0.7910975813865662),\n",
       " ('protein_shake', 0.7906701564788818),\n",
       " ('choc', 0.7905318140983582),\n",
       " ('finger_foods', 0.7895539402961731),\n",
       " ('tomato', 0.7894290089607239),\n",
       " ('pot', 0.7894036173820496),\n",
       " ('sandwhiches', 0.7885840535163879),\n",
       " ('slice_of', 0.788341224193573),\n",
       " ('chilli', 0.7878660559654236),\n",
       " ('grilled', 0.786757230758667),\n",
       " ('nuts', 0.7864030003547668),\n",
       " ('jar', 0.7851728200912476),\n",
       " ('ham', 0.7849467396736145),\n",
       " ('fruit', 0.7847320437431335),\n",
       " ('crackers', 0.7845949530601501),\n",
       " ('roast', 0.782270073890686),\n",
       " ('crumpets', 0.7812170386314392),\n",
       " ('homemade', 0.7807751297950745),\n",
       " ('peanut_butter', 0.779880166053772),\n",
       " ('slices', 0.7796655297279358),\n",
       " ('butter', 0.7795383930206299),\n",
       " ('decaff', 0.7784026861190796),\n",
       " ('mushrooms', 0.777990460395813),\n",
       " ('oats', 0.7766152620315552),\n",
       " ('juice', 0.776506781578064),\n",
       " ('baths', 0.7755996584892273),\n",
       " ('wine', 0.7753556966781616),\n",
       " ('decaf_tea', 0.7741218209266663)]"
      ]
     },
     "execution_count": 31,
     "metadata": {},
     "output_type": "execute_result"
    }
   ],
   "source": [
    "model.wv.most_similar('porridge', topn=70)"
   ]
  },
  {
   "cell_type": "code",
   "execution_count": 32,
   "metadata": {},
   "outputs": [
    {
     "data": {
      "text/plain": [
       "[('yoghurt', 0.9225842952728271),\n",
       " ('porridge', 0.9096714854240417),\n",
       " ('yogurt', 0.9023225903511047),\n",
       " ('egg', 0.900385856628418),\n",
       " ('berries', 0.8927662372589111),\n",
       " ('bacon', 0.889761745929718),\n",
       " ('toast', 0.8895549774169922),\n",
       " ('apple', 0.8893502950668335),\n",
       " ('weetabix', 0.8882739543914795),\n",
       " ('pasta', 0.8869725465774536),\n",
       " ('squash', 0.882042646408081),\n",
       " ('mixed', 0.8796114325523376),\n",
       " ('pure', 0.8771076202392578),\n",
       " ('banana', 0.8758437633514404),\n",
       " ('blueberries', 0.8723114132881165),\n",
       " ('mince', 0.8713884949684143),\n",
       " ('chips', 0.8703944087028503),\n",
       " ('cake', 0.8692929744720459),\n",
       " ('salad', 0.8663114309310913),\n",
       " ('mashed', 0.86626797914505),\n",
       " ('crackers', 0.8661465048789978),\n",
       " ('oats', 0.8660684823989868),\n",
       " ('rice', 0.8655409216880798),\n",
       " ('omelette', 0.864896833896637),\n",
       " ('broccoli', 0.8638949394226074),\n",
       " ('puree', 0.8628878593444824),\n",
       " ('greek_yoghurt', 0.861759603023529),\n",
       " ('butter', 0.8609000444412231),\n",
       " ('loaf', 0.8607364892959595),\n",
       " ('brown_rice', 0.8604463338851929),\n",
       " ('jar', 0.8599679470062256),\n",
       " ('spag_bol', 0.8598207235336304),\n",
       " ('home_made', 0.8596570491790771),\n",
       " ('tomato', 0.8595361709594727),\n",
       " ('sandwhiches', 0.8587079644203186),\n",
       " ('scrambled_egg', 0.8583042621612549),\n",
       " ('soup', 0.8582892417907715),\n",
       " ('orange', 0.8576361536979675),\n",
       " ('nuts', 0.8572702407836914),\n",
       " ('peanut_butter', 0.8571205735206604),\n",
       " ('potato', 0.8571147322654724),\n",
       " ('ham', 0.8568587899208069),\n",
       " ('chicken', 0.8558192849159241),\n",
       " ('choc', 0.8555623292922974),\n",
       " ('veg', 0.8548818230628967),\n",
       " ('sweet_potato', 0.8544476628303528),\n",
       " ('roast', 0.854427695274353),\n",
       " ('slice_of', 0.8543171286582947),\n",
       " ('fruit_veg', 0.8536777496337891),\n",
       " ('decaf_tea', 0.8530706167221069),\n",
       " ('chocolate', 0.853037416934967),\n",
       " ('protein_shake', 0.8526010513305664),\n",
       " ('mushrooms', 0.8524165749549866),\n",
       " ('fruit_juice', 0.8516137599945068),\n",
       " ('cheese', 0.8514171838760376),\n",
       " ('green_veg', 0.851222813129425),\n",
       " ('sandwich', 0.8501697182655334),\n",
       " ('chilli', 0.8498865962028503),\n",
       " ('tomatoes', 0.8493854403495789),\n",
       " ('dish', 0.8493309617042542),\n",
       " ('oat_milk', 0.8492470383644104),\n",
       " ('curry', 0.8492342233657837),\n",
       " ('plain', 0.8478578329086304),\n",
       " ('vegetables', 0.8478277325630188),\n",
       " ('spoon', 0.8476883172988892),\n",
       " ('roast_chicken', 0.8475492000579834),\n",
       " ('strawberries', 0.8472668528556824),\n",
       " ('tomato_sauce', 0.847098708152771),\n",
       " ('mash', 0.8465401530265808),\n",
       " ('pureed', 0.8464612364768982)]"
      ]
     },
     "execution_count": 32,
     "metadata": {},
     "output_type": "execute_result"
    }
   ],
   "source": [
    "model.wv.most_similar('cereal', topn=70)"
   ]
  },
  {
   "cell_type": "code",
   "execution_count": 33,
   "metadata": {},
   "outputs": [
    {
     "data": {
      "text/plain": [
       "[('sterile', 0.8604623675346375),\n",
       " ('sterilising', 0.8569244742393494),\n",
       " ('stored', 0.8375067710876465),\n",
       " ('thoroughly', 0.8341736793518066),\n",
       " ('sealed', 0.8286930322647095),\n",
       " ('cooled_down', 0.8198946118354797),\n",
       " ('pre_boiled', 0.8178366422653198),\n",
       " ('right_temp', 0.816007673740387),\n",
       " ('cooled', 0.8113749027252197),\n",
       " ('defrost', 0.8105139136314392),\n",
       " ('boiled', 0.8101609349250793),\n",
       " ('freshly_boiled', 0.8049793839454651),\n",
       " ('boiling_hot', 0.803260862827301),\n",
       " ('preparing', 0.8025395274162292),\n",
       " ('teats', 0.8014493584632874),\n",
       " ('seal', 0.8007925748825073),\n",
       " ('add_oz', 0.800717294216156),\n",
       " ('measure_out', 0.8002644777297974),\n",
       " ('lids', 0.7989292144775391),\n",
       " ('cooling', 0.7986111640930176),\n",
       " ('add_formula', 0.79707932472229),\n",
       " ('containers', 0.7939073443412781),\n",
       " ('tray', 0.7925753593444824),\n",
       " ('destination', 0.7921411991119385),\n",
       " ('lactofree_organic', 0.7911903858184814),\n",
       " ('cooled_boiled', 0.7910804152488708),\n",
       " ('piping_hot', 0.7906176447868347),\n",
       " ('hot_enough', 0.7898123264312744),\n",
       " ('required', 0.7893862128257751),\n",
       " ('closer', 0.7885848879814148),\n",
       " ('porridges', 0.7883228063583374),\n",
       " ('born_free', 0.7876012325286865),\n",
       " ('ounce', 0.7874309420585632),\n",
       " ('separate', 0.7869303226470947),\n",
       " ('investigating', 0.786889374256134),\n",
       " ('recomended', 0.7866633534431458),\n",
       " ('boiling', 0.7862056493759155),\n",
       " ('pre_made', 0.7841328978538513),\n",
       " ('formula_powder', 0.7822734117507935),\n",
       " ('travel', 0.7822473645210266),\n",
       " ('rapidly_cool', 0.7820018529891968),\n",
       " ('sufficient', 0.7808815836906433),\n",
       " ('pool', 0.7798342704772949),\n",
       " ('add_powder', 0.7798000574111938),\n",
       " ('powered', 0.7788662910461426),\n",
       " ('pre_measured', 0.7786163687705994),\n",
       " ('placed', 0.7775457501411438),\n",
       " ('serving', 0.777441680431366),\n",
       " ('sterilizing', 0.7773255705833435),\n",
       " ('cleaned', 0.7768296599388123),\n",
       " ('jug', 0.7766457200050354),\n",
       " ('straight_after', 0.7753996253013611),\n",
       " ('assemble', 0.7749703526496887),\n",
       " ('upto', 0.7749243974685669),\n",
       " ('warming', 0.7738327383995056),\n",
       " ('endless', 0.7737972140312195),\n",
       " ('pump', 0.7735114693641663),\n",
       " ('cool_boiled', 0.7719288468360901),\n",
       " ('empty', 0.7715999484062195),\n",
       " ('between_feeds', 0.7715490460395813),\n",
       " ('thickened', 0.7708505392074585),\n",
       " ('abrahamic', 0.7699184417724609),\n",
       " ('atleast', 0.7696302533149719),\n",
       " ('skimmed_milk', 0.7693440914154053),\n",
       " ('cartons', 0.7688525915145874),\n",
       " ('storage', 0.7686377763748169),\n",
       " ('topping_up', 0.7685037851333618),\n",
       " ('cooled_water', 0.7674066424369812),\n",
       " ('lasgna', 0.7673112154006958),\n",
       " ('separately', 0.7671947479248047)]"
      ]
     },
     "execution_count": 33,
     "metadata": {},
     "output_type": "execute_result"
    }
   ],
   "source": [
    "model.wv.most_similar('sterilised', topn=70)"
   ]
  },
  {
   "cell_type": "code",
   "execution_count": 34,
   "metadata": {},
   "outputs": [
    {
     "data": {
      "text/plain": [
       "[('amino_acid', 0.8787685632705688),\n",
       " ('undigested', 0.8708703517913818),\n",
       " ('replaced', 0.8681244254112244),\n",
       " ('chemically', 0.8647598624229431),\n",
       " ('kills_bacteria', 0.8576038479804993),\n",
       " ('hot_enough', 0.8486086130142212),\n",
       " ('kill_off', 0.8482731580734253),\n",
       " ('enfamil', 0.8471897840499878),\n",
       " ('thicker', 0.8456480503082275),\n",
       " ('hotter', 0.843415379524231),\n",
       " ('semi_skimmed', 0.8415979146957397),\n",
       " ('sterile', 0.8404847383499146),\n",
       " ('breast_milk', 0.837358295917511),\n",
       " ('dissolves', 0.8371875286102295),\n",
       " ('encourages', 0.8358727097511292),\n",
       " ('after_brushing', 0.8289915919303894),\n",
       " ('mimics', 0.82891446352005),\n",
       " ('uts', 0.8245932459831238),\n",
       " ('pre_boiled', 0.8239516019821167),\n",
       " ('ebm', 0.8237350583076477),\n",
       " ('tonic', 0.8236982822418213),\n",
       " ('cooler_water', 0.8233959078788757),\n",
       " ('casein', 0.8223336935043335),\n",
       " ('membrane', 0.8222814202308655),\n",
       " ('lactofree_organic', 0.8215860724449158),\n",
       " ('most_likely', 0.8213858604431152),\n",
       " ('gels', 0.8213514089584351),\n",
       " ('sterilized', 0.820012092590332),\n",
       " ('sparkling', 0.8198179602622986),\n",
       " ('vacuum', 0.8197619318962097),\n",
       " ('diluted', 0.8196584582328796),\n",
       " ('promoted', 0.819420337677002),\n",
       " ('formula_powder', 0.8181170225143433),\n",
       " ('moist', 0.8180627226829529),\n",
       " ('maker', 0.8176388144493103),\n",
       " ('drink_plain', 0.8172912001609802),\n",
       " ('minimal', 0.8164027333259583),\n",
       " ('allergenic', 0.8158125281333923),\n",
       " ('kills', 0.8156324028968811),\n",
       " ('hypo', 0.8155980110168457),\n",
       " ('cooled_down', 0.8151527643203735),\n",
       " ('stinks', 0.8147832751274109),\n",
       " ('nourishing', 0.814775824546814),\n",
       " ('antibacterial', 0.8143985271453857),\n",
       " ('anti_reflux', 0.8141614198684692),\n",
       " ('secondary', 0.814098060131073),\n",
       " ('betnovate', 0.8135994672775269),\n",
       " ('boiling_hot', 0.813498318195343),\n",
       " ('instant', 0.8133934140205383),\n",
       " ('produces', 0.8130404949188232),\n",
       " ('required', 0.8129488825798035),\n",
       " ('pouring', 0.812454879283905),\n",
       " ('cools', 0.8121666312217712),\n",
       " ('previously_boiled', 0.8120667338371277),\n",
       " ('effectively', 0.8119550943374634),\n",
       " ('harbours', 0.8110242486000061),\n",
       " ('powdered', 0.8103808760643005),\n",
       " ('soothes', 0.8097293972969055),\n",
       " ('acidic', 0.8094717860221863),\n",
       " ('chlorinated', 0.8087310791015625),\n",
       " ('pasteurized', 0.8086715340614319),\n",
       " ('moisturise', 0.8081511855125427),\n",
       " ('softened', 0.8078362345695496),\n",
       " ('gently', 0.8077703714370728),\n",
       " ('burns', 0.8077115416526794),\n",
       " ('regular', 0.8074589371681213),\n",
       " ('pm_oz', 0.8072941303253174),\n",
       " ('warmer', 0.8071788549423218),\n",
       " ('moisturing', 0.8070858716964722),\n",
       " ('sharp', 0.8070357441902161)]"
      ]
     },
     "execution_count": 34,
     "metadata": {},
     "output_type": "execute_result"
    }
   ],
   "source": [
    "model.wv.most_similar('isnt_sterile', topn=70)"
   ]
  },
  {
   "cell_type": "code",
   "execution_count": 35,
   "metadata": {},
   "outputs": [
    {
     "data": {
      "text/plain": [
       "[('harmful_bacteria', 0.755519688129425),\n",
       " ('grow', 0.7553578019142151),\n",
       " ('kill_any', 0.7417506575584412),\n",
       " ('kill', 0.7399042248725891),\n",
       " ('tap_water', 0.7360357046127319),\n",
       " ('multiply', 0.7234299778938293),\n",
       " ('nutrients', 0.7074774503707886),\n",
       " ('increase', 0.7036154866218567),\n",
       " ('animal', 0.7004827857017517),\n",
       " ('clumping', 0.6982685327529907),\n",
       " ('temperature', 0.6959445476531982),\n",
       " ('chemicals', 0.6955853700637817),\n",
       " ('above_degrees', 0.6727638840675354),\n",
       " ('degrees', 0.6647493839263916),\n",
       " ('formula_powder', 0.6603744626045227),\n",
       " ('sugar', 0.6603702306747437),\n",
       " ('higher', 0.6558517813682556),\n",
       " ('killing', 0.6518559455871582),\n",
       " ('milk', 0.6497973203659058),\n",
       " ('filter', 0.6480246186256409),\n",
       " ('sterile', 0.6456055045127869),\n",
       " ('kill_off', 0.645601749420166),\n",
       " ('your_body', 0.6436924934387207),\n",
       " ('hot_shot', 0.6427913308143616),\n",
       " ('product', 0.6422889828681946),\n",
       " ('water', 0.6408628821372986),\n",
       " ('formula', 0.6405421495437622),\n",
       " ('amount_of', 0.6372060179710388),\n",
       " ('powder', 0.6370040774345398),\n",
       " ('kills', 0.6361147165298462),\n",
       " ('hot_enough', 0.6315539479255676),\n",
       " ('itself', 0.6227650046348572),\n",
       " ('reduce', 0.6195750832557678),\n",
       " ('halal', 0.6187186241149902),\n",
       " ('nasties', 0.6186128854751587),\n",
       " ('calories', 0.6179637908935547),\n",
       " ('build_up', 0.6172763109207153),\n",
       " ('breastmilk', 0.6170860528945923),\n",
       " ('absence', 0.6162357330322266),\n",
       " ('temp', 0.6160990595817566),\n",
       " ('risk', 0.6160890460014343),\n",
       " ('uk', 0.6151236295700073),\n",
       " ('nutrition', 0.6121501922607422),\n",
       " ('cause', 0.6117604374885559),\n",
       " ('tempway', 0.6104264259338379),\n",
       " ('nonalcoholic', 0.6102792620658875),\n",
       " ('potentially_harmful', 0.6098021864891052),\n",
       " ('vitamins', 0.6083046197891235),\n",
       " ('chlorine', 0.6079166531562805),\n",
       " ('thicker', 0.6069508790969849),\n",
       " ('infection', 0.6045542359352112),\n",
       " ('breast_milk', 0.6036149859428406),\n",
       " ('activates', 0.601679801940918),\n",
       " ('victory', 0.599320113658905),\n",
       " ('added', 0.5991840958595276),\n",
       " ('food', 0.5977315306663513),\n",
       " ('ingredients', 0.5961487889289856),\n",
       " ('protein', 0.5960032343864441),\n",
       " ('fat', 0.5946899652481079),\n",
       " ('retained', 0.5932061672210693),\n",
       " ('form', 0.5927039980888367),\n",
       " ('burn', 0.5922203660011292),\n",
       " ('minerals', 0.5920979380607605),\n",
       " ('correct', 0.5913034081459045),\n",
       " ('companies', 0.5896276831626892),\n",
       " ('level', 0.5895553827285767),\n",
       " ('salt', 0.588445246219635),\n",
       " ('killed', 0.5879806280136108),\n",
       " ('bacterias', 0.5876393914222717),\n",
       " ('bacteria_growth', 0.5873605608940125)]"
      ]
     },
     "execution_count": 35,
     "metadata": {},
     "output_type": "execute_result"
    }
   ],
   "source": [
    "model.wv.most_similar('bacteria', topn=70)"
   ]
  },
  {
   "cell_type": "code",
   "execution_count": 36,
   "metadata": {},
   "outputs": [
    {
     "data": {
      "text/plain": [
       "[('carotid', 0.9036102890968323),\n",
       " ('bull', 0.8879947662353516),\n",
       " ('andrex', 0.8850195407867432),\n",
       " ('haram', 0.8833096623420715),\n",
       " ('shop_bought', 0.8780310153961182),\n",
       " ('physically', 0.8767325282096863),\n",
       " ('bn', 0.8766710758209229),\n",
       " ('burned', 0.8750360012054443),\n",
       " ('maitah', 0.8729749321937561),\n",
       " ('derivatives', 0.8725080490112305),\n",
       " ('compromised', 0.8719992637634277),\n",
       " ('haraam', 0.8710669279098511),\n",
       " ('marijuana', 0.8708672523498535),\n",
       " ('versa', 0.8705627918243408),\n",
       " ('naturally', 0.8688403964042664),\n",
       " ('delayed', 0.8683784008026123),\n",
       " ('whey', 0.8680708408355713),\n",
       " ('equal', 0.8670787811279297),\n",
       " ('watercress', 0.8670054078102112),\n",
       " ('reactive', 0.8659793138504028),\n",
       " ('sticky', 0.8658289313316345),\n",
       " ('okhrejat', 0.8656802773475647),\n",
       " ('lightly', 0.8656524419784546),\n",
       " ('values', 0.8654999136924744),\n",
       " ('cartilage', 0.8650272488594055),\n",
       " ('mondays', 0.864654004573822),\n",
       " ('dense', 0.864473819732666),\n",
       " ('esp', 0.8642118573188782),\n",
       " ('tooti', 0.8640950322151184),\n",
       " ('minced', 0.8640220165252686),\n",
       " ('thirdhand', 0.8638367652893066),\n",
       " ('sneaky', 0.8636322617530823),\n",
       " ('gentle_effective', 0.8635981678962708),\n",
       " ('west', 0.8635197877883911),\n",
       " ('broken_down', 0.8634950518608093),\n",
       " ('absorbed', 0.8631532788276672),\n",
       " ('ty', 0.8625704050064087),\n",
       " ('gelatin', 0.8623517751693726),\n",
       " ('membrane', 0.8622870445251465),\n",
       " ('paddling', 0.8622134327888489),\n",
       " ('kosher', 0.8616555333137512),\n",
       " ('theirs', 0.8615700006484985),\n",
       " ('skycom', 0.8607745170593262),\n",
       " ('hunger', 0.8604920506477356),\n",
       " ('hoisin', 0.8603478074073792),\n",
       " ('john', 0.8596504330635071),\n",
       " ('andrex_toilet', 0.8595892190933228),\n",
       " ('mixtures', 0.8594649434089661),\n",
       " ('o', 0.8593944311141968),\n",
       " ('natl', 0.8593688607215881),\n",
       " ('scented', 0.8593556880950928),\n",
       " ('lush', 0.8591606616973877),\n",
       " ('non_muslim', 0.8589814901351929),\n",
       " ('creative', 0.8587276339530945),\n",
       " ('thoid', 0.858654260635376),\n",
       " ('cadburys', 0.8584455251693726),\n",
       " ('dont_forget', 0.8584127426147461),\n",
       " ('associated_with', 0.858275830745697),\n",
       " ('sausage_casserole', 0.8577430248260498),\n",
       " ('bacterial_growth', 0.8577109575271606),\n",
       " ('tj', 0.8574174642562866),\n",
       " ('thus', 0.857165515422821),\n",
       " ('practically', 0.8571075797080994),\n",
       " ('vice', 0.8568179607391357),\n",
       " ('unscented', 0.8566603660583496),\n",
       " ('timing', 0.8564260601997375),\n",
       " ('granules', 0.8563640117645264),\n",
       " ('booze', 0.855771005153656),\n",
       " ('non_greasy', 0.8556890487670898),\n",
       " ('softened', 0.8554604053497314)]"
      ]
     },
     "execution_count": 36,
     "metadata": {},
     "output_type": "execute_result"
    }
   ],
   "source": [
    "model.wv.most_similar('contaminated', topn=70)"
   ]
  },
  {
   "cell_type": "code",
   "execution_count": 37,
   "metadata": {},
   "outputs": [
    {
     "data": {
      "text/plain": [
       "[('carotid', 0.9036102890968323),\n",
       " ('bull', 0.8879947662353516),\n",
       " ('andrex', 0.8850195407867432),\n",
       " ('haram', 0.8833096623420715),\n",
       " ('shop_bought', 0.8780310153961182),\n",
       " ('physically', 0.8767325282096863),\n",
       " ('bn', 0.8766710758209229),\n",
       " ('burned', 0.8750360012054443),\n",
       " ('maitah', 0.8729749321937561),\n",
       " ('derivatives', 0.8725080490112305),\n",
       " ('compromised', 0.8719992637634277),\n",
       " ('haraam', 0.8710669279098511),\n",
       " ('marijuana', 0.8708672523498535),\n",
       " ('versa', 0.8705627918243408),\n",
       " ('naturally', 0.8688403964042664),\n",
       " ('delayed', 0.8683784008026123),\n",
       " ('whey', 0.8680708408355713),\n",
       " ('equal', 0.8670787811279297),\n",
       " ('watercress', 0.8670054078102112),\n",
       " ('reactive', 0.8659793138504028),\n",
       " ('sticky', 0.8658289313316345),\n",
       " ('okhrejat', 0.8656802773475647),\n",
       " ('lightly', 0.8656524419784546),\n",
       " ('values', 0.8654999136924744),\n",
       " ('cartilage', 0.8650272488594055),\n",
       " ('mondays', 0.864654004573822),\n",
       " ('dense', 0.864473819732666),\n",
       " ('esp', 0.8642118573188782),\n",
       " ('tooti', 0.8640950322151184),\n",
       " ('minced', 0.8640220165252686),\n",
       " ('thirdhand', 0.8638367652893066),\n",
       " ('sneaky', 0.8636322617530823),\n",
       " ('gentle_effective', 0.8635981678962708),\n",
       " ('west', 0.8635197877883911),\n",
       " ('broken_down', 0.8634950518608093),\n",
       " ('absorbed', 0.8631532788276672),\n",
       " ('ty', 0.8625704050064087),\n",
       " ('gelatin', 0.8623517751693726),\n",
       " ('membrane', 0.8622870445251465),\n",
       " ('paddling', 0.8622134327888489),\n",
       " ('kosher', 0.8616555333137512),\n",
       " ('theirs', 0.8615700006484985),\n",
       " ('skycom', 0.8607745170593262),\n",
       " ('hunger', 0.8604920506477356),\n",
       " ('hoisin', 0.8603478074073792),\n",
       " ('john', 0.8596504330635071),\n",
       " ('andrex_toilet', 0.8595892190933228),\n",
       " ('mixtures', 0.8594649434089661),\n",
       " ('o', 0.8593944311141968),\n",
       " ('natl', 0.8593688607215881),\n",
       " ('scented', 0.8593556880950928),\n",
       " ('lush', 0.8591606616973877),\n",
       " ('non_muslim', 0.8589814901351929),\n",
       " ('creative', 0.8587276339530945),\n",
       " ('thoid', 0.858654260635376),\n",
       " ('cadburys', 0.8584455251693726),\n",
       " ('dont_forget', 0.8584127426147461),\n",
       " ('associated_with', 0.858275830745697),\n",
       " ('sausage_casserole', 0.8577430248260498),\n",
       " ('bacterial_growth', 0.8577109575271606),\n",
       " ('tj', 0.8574174642562866),\n",
       " ('thus', 0.857165515422821),\n",
       " ('practically', 0.8571075797080994),\n",
       " ('vice', 0.8568179607391357),\n",
       " ('unscented', 0.8566603660583496),\n",
       " ('timing', 0.8564260601997375),\n",
       " ('granules', 0.8563640117645264),\n",
       " ('booze', 0.855771005153656),\n",
       " ('non_greasy', 0.8556890487670898),\n",
       " ('softened', 0.8554604053497314)]"
      ]
     },
     "execution_count": 37,
     "metadata": {},
     "output_type": "execute_result"
    }
   ],
   "source": [
    "model.wv.most_similar('contaminated', topn=70)"
   ]
  },
  {
   "cell_type": "markdown",
   "metadata": {},
   "source": [
    "## We can find words that are close to a set of words as well."
   ]
  },
  {
   "cell_type": "code",
   "execution_count": 38,
   "metadata": {},
   "outputs": [
    {
     "data": {
      "text/plain": [
       "[('yoghurt', 0.9599322080612183),\n",
       " ('rice', 0.9475286602973938),\n",
       " ('pasta', 0.9446308612823486),\n",
       " ('berries', 0.943392276763916),\n",
       " ('yogurt', 0.9397631883621216),\n",
       " ('apple', 0.9385702013969421),\n",
       " ('chips', 0.9367427825927734),\n",
       " ('vegetables', 0.9332002997398376),\n",
       " ('potatoes', 0.931500256061554),\n",
       " ('nuts', 0.9311074018478394)]"
      ]
     },
     "execution_count": 38,
     "metadata": {},
     "output_type": "execute_result"
    }
   ],
   "source": [
    "model.wv.most_similar(['veg','puree'], topn=10)"
   ]
  },
  {
   "cell_type": "code",
   "execution_count": 39,
   "metadata": {},
   "outputs": [
    {
     "data": {
      "text/plain": [
       "[('berries', 0.8825225234031677),\n",
       " ('frozen', 0.8815217018127441),\n",
       " ('juice', 0.8767626881599426),\n",
       " ('fruit_juice', 0.8671960830688477),\n",
       " ('homemade', 0.8662259578704834),\n",
       " ('cooked', 0.8638995289802551),\n",
       " ('fresh_fruit', 0.8608234524726868),\n",
       " ('swede', 0.8593836426734924),\n",
       " ('pure', 0.8575620055198669),\n",
       " ('yoghurt', 0.856556236743927),\n",
       " ('salt', 0.8560191988945007),\n",
       " ('cereal', 0.8532764911651611),\n",
       " ('mixed', 0.847929060459137),\n",
       " ('rice', 0.8442897200584412),\n",
       " ('blended', 0.84423828125),\n",
       " ('squash', 0.8434914350509644),\n",
       " ('pasta', 0.8407372832298279),\n",
       " ('mince', 0.8394392728805542),\n",
       " ('boiled', 0.8384739756584167),\n",
       " ('blend', 0.8375955820083618)]"
      ]
     },
     "execution_count": 39,
     "metadata": {},
     "output_type": "execute_result"
    }
   ],
   "source": [
    "model.wv.most_similar(['veg','sterilised'], topn=20)"
   ]
  },
  {
   "cell_type": "code",
   "execution_count": 40,
   "metadata": {},
   "outputs": [
    {
     "data": {
      "text/plain": [
       "[('fresh_fruit', 0.9279460310935974),\n",
       " ('potatoes', 0.9189800024032593),\n",
       " ('berries', 0.9184004068374634),\n",
       " ('veggies', 0.9114029407501221),\n",
       " ('fruits', 0.9086521863937378),\n",
       " ('biscuits', 0.907930314540863),\n",
       " ('green_veg', 0.9065358638763428),\n",
       " ('homemade', 0.9049237966537476),\n",
       " ('gluten', 0.9043185710906982),\n",
       " ('squash', 0.9036874771118164),\n",
       " ('cake', 0.9022833108901978),\n",
       " ('low_fat', 0.901229977607727),\n",
       " ('wheat', 0.9008134007453918),\n",
       " ('vegtables', 0.8981442451477051),\n",
       " ('gluten_free', 0.8949791789054871),\n",
       " ('plain', 0.8946621417999268),\n",
       " ('fruit_juice', 0.893598735332489),\n",
       " ('deli_meats', 0.8930169939994812),\n",
       " ('sweet_potatoes', 0.8917573690414429),\n",
       " ('greek_yoghurt', 0.8893910050392151)]"
      ]
     },
     "execution_count": 40,
     "metadata": {},
     "output_type": "execute_result"
    }
   ],
   "source": [
    "model.wv.most_similar(['veg','baby_food', 'veggie','vegetable','vegetables'], topn=20)"
   ]
  },
  {
   "cell_type": "code",
   "execution_count": 41,
   "metadata": {},
   "outputs": [
    {
     "data": {
      "text/plain": [
       "[('potato', 0.9632910490036011),\n",
       " ('sweet_potato', 0.9618076086044312),\n",
       " ('hummus', 0.9585307836532593),\n",
       " ('tomato', 0.9575111269950867),\n",
       " ('yogurt', 0.9571416974067688),\n",
       " ('flour', 0.9567456841468811),\n",
       " ('herbs', 0.9565636515617371),\n",
       " ('butternut_squash', 0.956193208694458),\n",
       " ('greek_yoghurt', 0.9556903839111328),\n",
       " ('beans', 0.9537001848220825),\n",
       " ('carrots', 0.9530507922172546),\n",
       " ('rice_cakes', 0.950581967830658),\n",
       " ('vegetable', 0.9504945874214172),\n",
       " ('ham', 0.9498361349105835),\n",
       " ('sliced', 0.9497528076171875),\n",
       " ('fruit_juice', 0.9492877721786499),\n",
       " ('pancakes', 0.9491723775863647),\n",
       " ('chilli', 0.9490878582000732),\n",
       " ('lentils', 0.9485553503036499),\n",
       " ('sweetcorn', 0.948227047920227)]"
      ]
     },
     "execution_count": 41,
     "metadata": {},
     "output_type": "execute_result"
    }
   ],
   "source": [
    "model.wv.most_similar(['home_made','homemade','puree'], topn=20)"
   ]
  },
  {
   "cell_type": "code",
   "execution_count": 42,
   "metadata": {},
   "outputs": [
    {
     "data": {
      "text/plain": [
       "[('yogurt', 0.9504057765007019),\n",
       " ('carrots', 0.9476836323738098),\n",
       " ('chilli', 0.9470958709716797),\n",
       " ('potato', 0.945925772190094),\n",
       " ('sweet_potato', 0.9453811645507812),\n",
       " ('beans', 0.9449406266212463),\n",
       " ('sauces', 0.9444630742073059),\n",
       " ('greek_yoghurt', 0.9432798624038696),\n",
       " ('vegetable', 0.9419602155685425),\n",
       " ('lentils', 0.9418543577194214),\n",
       " ('herbs', 0.9418541789054871),\n",
       " ('fruit_juice', 0.9402953386306763),\n",
       " ('berries', 0.9401469230651855),\n",
       " ('pancakes', 0.9384273290634155),\n",
       " ('potatoes', 0.9379295110702515),\n",
       " ('squash', 0.9377852082252502),\n",
       " ('biscuits', 0.9376203417778015),\n",
       " ('hummus', 0.9375230073928833),\n",
       " ('tomato', 0.9346681833267212),\n",
       " ('flour', 0.9343798756599426)]"
      ]
     },
     "execution_count": 42,
     "metadata": {},
     "output_type": "execute_result"
    }
   ],
   "source": [
    "model.wv.most_similar(['home_made','homemade'], topn=20)"
   ]
  },
  {
   "cell_type": "code",
   "execution_count": 43,
   "metadata": {},
   "outputs": [
    {
     "data": {
      "text/plain": [
       "[('breastmilk', 0.8380216956138611),\n",
       " ('tap_water', 0.8195614218711853),\n",
       " ('squash', 0.8030567169189453),\n",
       " ('breast_milk', 0.8019712567329407),\n",
       " ('allowance', 0.7960947155952454),\n",
       " ('nutrition', 0.7902892231941223),\n",
       " ('gluten', 0.7862802743911743),\n",
       " ('calories', 0.7795446515083313),\n",
       " ('animals_killed', 0.7774341106414795),\n",
       " ('espresso', 0.7719815373420715),\n",
       " ('unhealthy', 0.7719286680221558),\n",
       " ('space', 0.7717061042785645),\n",
       " ('protein', 0.7711865901947021),\n",
       " ('clothing', 0.7703192830085754),\n",
       " ('spirits', 0.7693000435829163),\n",
       " ('stunned', 0.7671787738800049),\n",
       " ('decaf_tea', 0.7661231756210327),\n",
       " ('coating', 0.7660806179046631),\n",
       " ('nutritional', 0.7660027742385864),\n",
       " ('vegsalad', 0.7659919857978821)]"
      ]
     },
     "execution_count": 43,
     "metadata": {},
     "output_type": "execute_result"
    }
   ],
   "source": [
    "model.wv.most_similar(['pure','puree','baby','food','baby_food'], topn=20)"
   ]
  },
  {
   "cell_type": "code",
   "execution_count": 44,
   "metadata": {},
   "outputs": [
    {
     "data": {
      "text/plain": [
       "[('squash', 0.8281688094139099),\n",
       " ('cereal', 0.8257655501365662),\n",
       " ('breast_milk', 0.8113999962806702),\n",
       " ('breastmilk', 0.8111817240715027),\n",
       " ('gluten', 0.8069900274276733),\n",
       " ('yoghurt', 0.8068694472312927),\n",
       " ('decaf_tea', 0.8058289885520935),\n",
       " ('tap_water', 0.7950810194015503),\n",
       " ('whereas', 0.792306125164032),\n",
       " ('berries', 0.7917108535766602),\n",
       " ('protein', 0.7910234928131104),\n",
       " ('unlimited', 0.7903717160224915),\n",
       " ('fruitveg', 0.7895777225494385),\n",
       " ('intake', 0.7843006253242493),\n",
       " ('dish', 0.7801832556724548),\n",
       " ('spirits', 0.7800820469856262),\n",
       " ('juice', 0.7800807356834412),\n",
       " ('saturated', 0.7791770696640015),\n",
       " ('soya_milk', 0.7789856791496277),\n",
       " ('oats', 0.7785203456878662)]"
      ]
     },
     "execution_count": 44,
     "metadata": {},
     "output_type": "execute_result"
    }
   ],
   "source": [
    "model.wv.most_similar(['pure','puree','baby','food'], topn=20)"
   ]
  },
  {
   "cell_type": "code",
   "execution_count": 58,
   "metadata": {},
   "outputs": [
    {
     "data": {
      "text/plain": [
       "[('solids', 0.7143822908401489),\n",
       " ('child', 0.711353063583374),\n",
       " ('cat', 0.7087991833686829),\n",
       " ('eatingdrinking', 0.7014023065567017),\n",
       " ('digestive_system', 0.6856018900871277),\n",
       " ('suitable', 0.6828093528747559),\n",
       " ('dog', 0.6707337498664856),\n",
       " ('growing', 0.6684055924415588),\n",
       " ('babys', 0.6638669967651367),\n",
       " ('especially', 0.6559197306632996),\n",
       " ('son', 0.6554298400878906),\n",
       " ('heart_burn', 0.6536500453948975),\n",
       " ('my_lg', 0.652366578578949),\n",
       " ('babies', 0.6520152688026428),\n",
       " ('graph', 0.6512534022331238),\n",
       " ('kid', 0.6499610543251038),\n",
       " ('behaviour', 0.64906907081604),\n",
       " ('little_one', 0.6482453346252441),\n",
       " ('daddy', 0.6475297808647156),\n",
       " ('poo', 0.646476686000824)]"
      ]
     },
     "execution_count": 58,
     "metadata": {},
     "output_type": "execute_result"
    }
   ],
   "source": [
    "model.wv.most_similar(positive = ['pure','puree','baby','food','weaning'], negative=['spirits', 'tea'], topn=20)"
   ]
  },
  {
   "cell_type": "code",
   "execution_count": 59,
   "metadata": {},
   "outputs": [
    {
     "data": {
      "text/plain": [
       "[('immence', 0.6761588454246521),\n",
       " ('right', 0.6039339900016785),\n",
       " ('lashes', 0.5697875618934631),\n",
       " ('morethan', 0.5484611988067627),\n",
       " ('worrynerves', 0.5394238829612732),\n",
       " ('infectious', 0.5344986915588379),\n",
       " ('everyone', 0.5343134999275208),\n",
       " ('dont_know', 0.5280071496963501),\n",
       " ('why', 0.524859607219696),\n",
       " ('people', 0.5246093273162842),\n",
       " ('livebut', 0.5197388529777527),\n",
       " ('know', 0.5173550844192505),\n",
       " ('wrong', 0.5148544907569885),\n",
       " ('clarehope', 0.5036625862121582),\n",
       " ('best', 0.5028817057609558),\n",
       " ('parents', 0.4999096095561981),\n",
       " ('tag', 0.4980241358280182),\n",
       " ('what', 0.4946640133857727),\n",
       " ('advice', 0.4920639991760254),\n",
       " ('optician', 0.4883507788181305)]"
      ]
     },
     "execution_count": 59,
     "metadata": {},
     "output_type": "execute_result"
    }
   ],
   "source": [
    "model.wv.most_similar(positive = ['baby_food','food','weaning'], negative=['spirits', 'tea'], topn=20)"
   ]
  },
  {
   "cell_type": "code",
   "execution_count": 45,
   "metadata": {},
   "outputs": [
    {
     "data": {
      "text/plain": [
       "[('soups', 0.9558199048042297),\n",
       " ('oils', 0.9550164937973022),\n",
       " ('sweet_corn', 0.948668360710144),\n",
       " ('sweet_potatoes', 0.9461427330970764),\n",
       " ('parsnips', 0.946140706539154),\n",
       " ('salads', 0.9448376297950745),\n",
       " ('raisins', 0.9444329738616943),\n",
       " ('meats', 0.9412325024604797),\n",
       " ('nut', 0.9409106373786926),\n",
       " ('rye', 0.9403590559959412),\n",
       " ('corn', 0.9401417970657349),\n",
       " ('jam', 0.937225878238678),\n",
       " ('baked_beans', 0.936769962310791),\n",
       " ('vegetable', 0.9366881847381592),\n",
       " ('lentils', 0.9359491467475891),\n",
       " ('barley', 0.9353379011154175),\n",
       " ('honey', 0.9337289333343506),\n",
       " ('herbs', 0.9336785674095154),\n",
       " ('carbohydrates', 0.9336708784103394),\n",
       " ('kale', 0.9330786466598511)]"
      ]
     },
     "execution_count": 45,
     "metadata": {},
     "output_type": "execute_result"
    }
   ],
   "source": [
    "model.wv.most_similar(['preservatives'], topn=20)"
   ]
  },
  {
   "cell_type": "code",
   "execution_count": 46,
   "metadata": {},
   "outputs": [
    {
     "data": {
      "text/plain": [
       "[('currently_use', 0.9230327010154724),\n",
       " ('most_often', 0.9132694602012634),\n",
       " ('tommee', 0.8120124340057373),\n",
       " ('brands', 0.8014540076255798),\n",
       " ('aspects', 0.7974790930747986),\n",
       " ('ratings', 0.7944238185882568),\n",
       " ('articles', 0.7941250205039978),\n",
       " ('gadgets', 0.7898600697517395),\n",
       " ('penis', 0.7896952629089355),\n",
       " ('some_kind', 0.7843093276023865),\n",
       " ('slaughter', 0.7731927633285522),\n",
       " ('awareness', 0.7708163261413574),\n",
       " ('ou', 0.7699427008628845),\n",
       " ('lesser', 0.7673109173774719),\n",
       " ('wrongwhat', 0.7654685974121094),\n",
       " ('currently_buy', 0.7619627118110657),\n",
       " ('buy_other', 0.7618476748466492),\n",
       " ('quantity', 0.7614060044288635),\n",
       " ('bunch', 0.7581350207328796),\n",
       " ('bisphenola', 0.7554386854171753),\n",
       " ('phytic', 0.753519594669342),\n",
       " ('spiral', 0.7495668530464172),\n",
       " ('jungle', 0.7483108639717102),\n",
       " ('citric_acid', 0.7482093572616577),\n",
       " ('breakfast_products', 0.7475633025169373),\n",
       " ('your_current', 0.7471222877502441),\n",
       " ('about_theaveeno', 0.7448669075965881),\n",
       " ('scullcap', 0.7438331246376038),\n",
       " ('dangers', 0.7433015704154968),\n",
       " ('supermarket_own', 0.7429808378219604),\n",
       " ('alzheimers', 0.7429090738296509),\n",
       " ('importance', 0.7409869432449341),\n",
       " ('any_kind', 0.7409165501594543),\n",
       " ('surrey', 0.7407052516937256),\n",
       " ('walker', 0.7406456470489502),\n",
       " ('meatas', 0.7398734092712402),\n",
       " ('ingredient_list', 0.7396392822265625),\n",
       " ('lidls', 0.7393999099731445),\n",
       " ('all_kinds', 0.7376622557640076),\n",
       " ('google', 0.7375339269638062),\n",
       " ('african', 0.7365757822990417),\n",
       " ('hmmmm', 0.7364699840545654),\n",
       " ('some_sort', 0.7350482940673828),\n",
       " ('regardless', 0.7346914410591125),\n",
       " ('high_levels', 0.734563410282135),\n",
       " ('preaching', 0.7335203289985657),\n",
       " ('succea', 0.7330832481384277),\n",
       " ('aroma', 0.7327690124511719),\n",
       " ('certain_things', 0.7325521111488342),\n",
       " ('statistically', 0.731192409992218)]"
      ]
     },
     "execution_count": 46,
     "metadata": {},
     "output_type": "execute_result"
    }
   ],
   "source": [
    "model.wv.most_similar(['what_brand'], topn=50)"
   ]
  },
  {
   "cell_type": "code",
   "execution_count": 47,
   "metadata": {},
   "outputs": [
    {
     "data": {
      "text/plain": [
       "[('extremes', 0.7006442546844482),\n",
       " ('fraction', 0.6556109189987183),\n",
       " ('spirit', 0.6544153690338135),\n",
       " ('fair_bit', 0.6454771757125854),\n",
       " ('multitude', 0.6427399516105652),\n",
       " ('never_heard', 0.6383461356163025),\n",
       " ('bongo', 0.6374942064285278),\n",
       " ('disconnects', 0.6334449052810669),\n",
       " ('caravans', 0.6330868601799011),\n",
       " ('fair_amount', 0.6302483081817627),\n",
       " ('measuresperhaps', 0.6256277561187744),\n",
       " ('combination', 0.6232194900512695),\n",
       " ('infront', 0.620303750038147),\n",
       " ('bug', 0.6200685501098633),\n",
       " ('teaspoons', 0.6199474334716797),\n",
       " ('small_piece', 0.6184102296829224),\n",
       " ('huge_bag', 0.6183731555938721),\n",
       " ('wide_variety', 0.6178988814353943),\n",
       " ('photo', 0.616966724395752),\n",
       " ('in_front', 0.6164197325706482),\n",
       " ('aftermath', 0.6162249445915222),\n",
       " ('in_terms', 0.6135082840919495),\n",
       " ('vast_majority', 0.6130695939064026),\n",
       " ('matchbox', 0.6128855347633362),\n",
       " ('bootcamp', 0.6100156903266907),\n",
       " ('phobia', 0.6093139052391052),\n",
       " ('wide_range', 0.6069177985191345),\n",
       " ('outsider', 0.6066805124282837),\n",
       " ('getting_rid', 0.6044015884399414),\n",
       " ('heshes', 0.6034242510795593),\n",
       " ('tiny_bit', 0.6033657193183899),\n",
       " ('stocks', 0.6017335653305054),\n",
       " ('increased_risk', 0.6015122532844543),\n",
       " ('fetuses', 0.598783016204834),\n",
       " ('bottlebut', 0.5979257225990295),\n",
       " ('got_rid', 0.5978319644927979),\n",
       " ('avent_bottles', 0.5967801809310913),\n",
       " ('snackshealthy', 0.59613037109375),\n",
       " ('comprised', 0.5958484411239624),\n",
       " ('small_glass', 0.5919925570487976),\n",
       " ('bunch', 0.5915257930755615),\n",
       " ('array', 0.5910629034042358),\n",
       " ('upbringing', 0.5907924771308899),\n",
       " ('population', 0.5876933932304382),\n",
       " ('bith', 0.5875176787376404),\n",
       " ('luxury', 0.5873555541038513),\n",
       " ('consiatancey', 0.585583508014679),\n",
       " ('ruthabit', 0.5836039781570435),\n",
       " ('different_types', 0.5824891328811646),\n",
       " ('side_effect', 0.58180832862854)]"
      ]
     },
     "execution_count": 47,
     "metadata": {},
     "output_type": "execute_result"
    }
   ],
   "source": [
    "model.wv.most_similar(['posioning'], topn=50)"
   ]
  },
  {
   "cell_type": "code",
   "execution_count": 48,
   "metadata": {},
   "outputs": [
    {
     "data": {
      "text/plain": [
       "[('mail', 0.890352189540863),\n",
       " ('manufacturer', 0.8798248171806335),\n",
       " ('any_further', 0.8770080208778381),\n",
       " ('hahahaha', 0.8742119669914246),\n",
       " ('yahoocouk', 0.8723781108856201),\n",
       " ('sponsored', 0.8715806603431702),\n",
       " ('your_bodys', 0.870268702507019),\n",
       " ('conspiracy', 0.8686214089393616),\n",
       " ('someone_please', 0.8668290972709656),\n",
       " ('marston', 0.8667101860046387),\n",
       " ('nux_vomica', 0.8634548783302307),\n",
       " ('requirements', 0.8621602654457092),\n",
       " ('safest', 0.8621189594268799),\n",
       " ('x_hiya', 0.861880898475647),\n",
       " ('click', 0.8609533905982971),\n",
       " ('investigate', 0.8609200119972229),\n",
       " ('tobacco', 0.8599651455879211),\n",
       " ('jesus', 0.859541118144989),\n",
       " ('attitudes', 0.8592957258224487),\n",
       " ('pts', 0.8592854142189026),\n",
       " ('greatly', 0.8590477108955383),\n",
       " ('gibson', 0.8590438961982727),\n",
       " ('knitting', 0.8584678769111633),\n",
       " ('repair', 0.8580302596092224),\n",
       " ('vera', 0.8573964834213257),\n",
       " ('nyreen', 0.8573287725448608),\n",
       " ('anyhoo', 0.857321560382843),\n",
       " ('tasksthey', 0.8572642803192139),\n",
       " ('magazine', 0.8570613861083984),\n",
       " ('players', 0.8559509515762329),\n",
       " ('moretaine', 0.8555577397346497),\n",
       " ('ph', 0.8554865121841431),\n",
       " ('reference', 0.8551566004753113),\n",
       " ('smith', 0.8546499013900757),\n",
       " ('fitter', 0.8540388345718384),\n",
       " ('could_someone', 0.8540204167366028),\n",
       " ('anna', 0.8539897203445435),\n",
       " ('sikhs', 0.8538811206817627),\n",
       " ('biopsy', 0.8537902235984802),\n",
       " ('zoe', 0.8537182807922363),\n",
       " ('organisation', 0.8536787629127502),\n",
       " ('some_info', 0.8534183502197266),\n",
       " ('ra', 0.8532906174659729),\n",
       " ('dung', 0.8532654643058777),\n",
       " ('fb', 0.8531726598739624),\n",
       " ('alternatively', 0.8517434000968933),\n",
       " ('hmmmmm', 0.850746214389801),\n",
       " ('answering', 0.8499910235404968),\n",
       " ('garleac', 0.849918007850647),\n",
       " ('hotmailcouk', 0.8497395515441895)]"
      ]
     },
     "execution_count": 48,
     "metadata": {},
     "output_type": "execute_result"
    }
   ],
   "source": [
    "model.wv.most_similar(['address'], topn=50)"
   ]
  },
  {
   "cell_type": "code",
   "execution_count": 56,
   "metadata": {},
   "outputs": [
    {
     "data": {
      "text/plain": [
       "[('an_email', 0.9250348210334778),\n",
       " ('x_hiya', 0.9094042778015137),\n",
       " ('laura', 0.9080759286880493),\n",
       " ('melanie', 0.9058457016944885),\n",
       " ('kelly', 0.9058345556259155),\n",
       " ('any_info', 0.9046316742897034),\n",
       " ('hun_xx', 0.9034294486045837),\n",
       " ('jess', 0.9030999541282654),\n",
       " ('ive_pmd', 0.9027352333068848),\n",
       " ('xx_hey', 0.9001736044883728),\n",
       " ('karen', 0.8999698758125305),\n",
       " ('could_someone', 0.8972940444946289),\n",
       " ('diane', 0.8957549929618835),\n",
       " ('jodie', 0.8956050872802734),\n",
       " ('amanda', 0.8905532956123352),\n",
       " ('stacey', 0.8903585076332092),\n",
       " ('rosie', 0.8888223171234131),\n",
       " ('kerry', 0.8887797594070435),\n",
       " ('ya', 0.8873005509376526),\n",
       " ('any_further', 0.88695228099823),\n",
       " ('yahoocouk', 0.8860926032066345),\n",
       " ('sian', 0.8856438398361206),\n",
       " ('firstly', 0.8850079774856567),\n",
       " ('hayley', 0.8830459713935852),\n",
       " ('hotmailcouk', 0.8819030523300171),\n",
       " ('ill_send', 0.8811845779418945),\n",
       " ('natalie', 0.8808896541595459),\n",
       " ('more_information', 0.8807965517044067),\n",
       " ('lm', 0.8805987238883972),\n",
       " ('thanks_sarah', 0.8786115050315857),\n",
       " ('lisa', 0.8774855136871338),\n",
       " ('sbentley', 0.877470076084137),\n",
       " ('sara', 0.8771041631698608),\n",
       " ('lauren', 0.8765527606010437),\n",
       " ('nikki', 0.8762654066085815),\n",
       " ('yes_definitely', 0.8759411573410034),\n",
       " ('clare', 0.8759042024612427),\n",
       " ('gemma', 0.8756609559059143),\n",
       " ('holly', 0.8752829432487488),\n",
       " ('charleycarpenterhotmailcouk', 0.8747191429138184),\n",
       " ('any_questions', 0.8745848536491394),\n",
       " ('shelley', 0.8742643594741821),\n",
       " ('hiya', 0.874121904373169),\n",
       " ('lynne', 0.8737633228302002),\n",
       " ('hows_things', 0.873678982257843),\n",
       " ('carly', 0.873224139213562),\n",
       " ('email_me', 0.8730388283729553),\n",
       " ('chloe', 0.8729330897331238),\n",
       " ('andrea', 0.8723154067993164),\n",
       " ('xxxxx', 0.8722850680351257)]"
      ]
     },
     "execution_count": 56,
     "metadata": {},
     "output_type": "execute_result"
    }
   ],
   "source": [
    "#this one is strange, it returns a bunch of \n",
    "#names and email addresses and stuff\n",
    "model.wv.most_similar(['some_info'], topn=50)"
   ]
  },
  {
   "cell_type": "code",
   "execution_count": 62,
   "metadata": {},
   "outputs": [
    {
     "ename": "KeyError",
     "evalue": "\"Key 'urlpostedtosomething' not present\"",
     "output_type": "error",
     "traceback": [
      "\u001b[0;31m---------------------------------------------------------------------------\u001b[0m",
      "\u001b[0;31mKeyError\u001b[0m                                  Traceback (most recent call last)",
      "\u001b[0;32m<ipython-input-62-5e6e6e2bd7ef>\u001b[0m in \u001b[0;36m<module>\u001b[0;34m\u001b[0m\n\u001b[0;32m----> 1\u001b[0;31m \u001b[0mmodel\u001b[0m\u001b[0;34m.\u001b[0m\u001b[0mwv\u001b[0m\u001b[0;34m.\u001b[0m\u001b[0mmost_similar\u001b[0m\u001b[0;34m(\u001b[0m\u001b[0;34m'urlpostedtosomething'\u001b[0m\u001b[0;34m,\u001b[0m \u001b[0mtopn\u001b[0m\u001b[0;34m=\u001b[0m\u001b[0;36m20\u001b[0m\u001b[0;34m)\u001b[0m\u001b[0;34m\u001b[0m\u001b[0;34m\u001b[0m\u001b[0m\n\u001b[0m",
      "\u001b[0;32m/usr/local/lib/python3.8/site-packages/gensim/models/keyedvectors.py\u001b[0m in \u001b[0;36mmost_similar\u001b[0;34m(self, positive, negative, topn, clip_start, clip_end, restrict_vocab, indexer)\u001b[0m\n\u001b[1;32m    760\u001b[0m                 \u001b[0mmean\u001b[0m\u001b[0;34m.\u001b[0m\u001b[0mappend\u001b[0m\u001b[0;34m(\u001b[0m\u001b[0mweight\u001b[0m \u001b[0;34m*\u001b[0m \u001b[0mkey\u001b[0m\u001b[0;34m)\u001b[0m\u001b[0;34m\u001b[0m\u001b[0;34m\u001b[0m\u001b[0m\n\u001b[1;32m    761\u001b[0m             \u001b[0;32melse\u001b[0m\u001b[0;34m:\u001b[0m\u001b[0;34m\u001b[0m\u001b[0;34m\u001b[0m\u001b[0m\n\u001b[0;32m--> 762\u001b[0;31m                 \u001b[0mmean\u001b[0m\u001b[0;34m.\u001b[0m\u001b[0mappend\u001b[0m\u001b[0;34m(\u001b[0m\u001b[0mweight\u001b[0m \u001b[0;34m*\u001b[0m \u001b[0mself\u001b[0m\u001b[0;34m.\u001b[0m\u001b[0mget_vector\u001b[0m\u001b[0;34m(\u001b[0m\u001b[0mkey\u001b[0m\u001b[0;34m,\u001b[0m \u001b[0mnorm\u001b[0m\u001b[0;34m=\u001b[0m\u001b[0;32mTrue\u001b[0m\u001b[0;34m)\u001b[0m\u001b[0;34m)\u001b[0m\u001b[0;34m\u001b[0m\u001b[0;34m\u001b[0m\u001b[0m\n\u001b[0m\u001b[1;32m    763\u001b[0m                 \u001b[0;32mif\u001b[0m \u001b[0mself\u001b[0m\u001b[0;34m.\u001b[0m\u001b[0mhas_index_for\u001b[0m\u001b[0;34m(\u001b[0m\u001b[0mkey\u001b[0m\u001b[0;34m)\u001b[0m\u001b[0;34m:\u001b[0m\u001b[0;34m\u001b[0m\u001b[0;34m\u001b[0m\u001b[0m\n\u001b[1;32m    764\u001b[0m                     \u001b[0mall_keys\u001b[0m\u001b[0;34m.\u001b[0m\u001b[0madd\u001b[0m\u001b[0;34m(\u001b[0m\u001b[0mself\u001b[0m\u001b[0;34m.\u001b[0m\u001b[0mget_index\u001b[0m\u001b[0;34m(\u001b[0m\u001b[0mkey\u001b[0m\u001b[0;34m)\u001b[0m\u001b[0;34m)\u001b[0m\u001b[0;34m\u001b[0m\u001b[0;34m\u001b[0m\u001b[0m\n",
      "\u001b[0;32m/usr/local/lib/python3.8/site-packages/gensim/models/keyedvectors.py\u001b[0m in \u001b[0;36mget_vector\u001b[0;34m(self, key, norm)\u001b[0m\n\u001b[1;32m    420\u001b[0m \u001b[0;34m\u001b[0m\u001b[0m\n\u001b[1;32m    421\u001b[0m         \"\"\"\n\u001b[0;32m--> 422\u001b[0;31m         \u001b[0mindex\u001b[0m \u001b[0;34m=\u001b[0m \u001b[0mself\u001b[0m\u001b[0;34m.\u001b[0m\u001b[0mget_index\u001b[0m\u001b[0;34m(\u001b[0m\u001b[0mkey\u001b[0m\u001b[0;34m)\u001b[0m\u001b[0;34m\u001b[0m\u001b[0;34m\u001b[0m\u001b[0m\n\u001b[0m\u001b[1;32m    423\u001b[0m         \u001b[0;32mif\u001b[0m \u001b[0mnorm\u001b[0m\u001b[0;34m:\u001b[0m\u001b[0;34m\u001b[0m\u001b[0;34m\u001b[0m\u001b[0m\n\u001b[1;32m    424\u001b[0m             \u001b[0mself\u001b[0m\u001b[0;34m.\u001b[0m\u001b[0mfill_norms\u001b[0m\u001b[0;34m(\u001b[0m\u001b[0;34m)\u001b[0m\u001b[0;34m\u001b[0m\u001b[0;34m\u001b[0m\u001b[0m\n",
      "\u001b[0;32m/usr/local/lib/python3.8/site-packages/gensim/models/keyedvectors.py\u001b[0m in \u001b[0;36mget_index\u001b[0;34m(self, key, default)\u001b[0m\n\u001b[1;32m    394\u001b[0m             \u001b[0;32mreturn\u001b[0m \u001b[0mdefault\u001b[0m\u001b[0;34m\u001b[0m\u001b[0;34m\u001b[0m\u001b[0m\n\u001b[1;32m    395\u001b[0m         \u001b[0;32melse\u001b[0m\u001b[0;34m:\u001b[0m\u001b[0;34m\u001b[0m\u001b[0;34m\u001b[0m\u001b[0m\n\u001b[0;32m--> 396\u001b[0;31m             \u001b[0;32mraise\u001b[0m \u001b[0mKeyError\u001b[0m\u001b[0;34m(\u001b[0m\u001b[0;34mf\"Key '{key}' not present\"\u001b[0m\u001b[0;34m)\u001b[0m\u001b[0;34m\u001b[0m\u001b[0;34m\u001b[0m\u001b[0m\n\u001b[0m\u001b[1;32m    397\u001b[0m \u001b[0;34m\u001b[0m\u001b[0m\n\u001b[1;32m    398\u001b[0m     \u001b[0;32mdef\u001b[0m \u001b[0mget_vector\u001b[0m\u001b[0;34m(\u001b[0m\u001b[0mself\u001b[0m\u001b[0;34m,\u001b[0m \u001b[0mkey\u001b[0m\u001b[0;34m,\u001b[0m \u001b[0mnorm\u001b[0m\u001b[0;34m=\u001b[0m\u001b[0;32mFalse\u001b[0m\u001b[0;34m)\u001b[0m\u001b[0;34m:\u001b[0m\u001b[0;34m\u001b[0m\u001b[0;34m\u001b[0m\u001b[0m\n",
      "\u001b[0;31mKeyError\u001b[0m: \"Key 'urlpostedtosomething' not present\""
     ]
    }
   ],
   "source": [
    "model.wv.most_similar('urlpostedtosomething', topn=20)"
   ]
  },
  {
   "cell_type": "code",
   "execution_count": 67,
   "metadata": {},
   "outputs": [
    {
     "data": {
      "text/plain": [
       "[('porridge', 0.8596265316009521),\n",
       " ('finger_foods', 0.8506186008453369),\n",
       " ('roll', 0.8383837938308716),\n",
       " ('spoon', 0.8347414135932922),\n",
       " ('cereal', 0.8274294137954712),\n",
       " ('baths', 0.8164702653884888),\n",
       " ('leftovers', 0.8130574226379395),\n",
       " ('weetabix', 0.8125248551368713),\n",
       " ('brekky', 0.8098934888839722),\n",
       " ('onz', 0.8058479428291321),\n",
       " ('purees', 0.8053804636001587),\n",
       " ('pureed_veg', 0.8026633858680725),\n",
       " ('toast', 0.8020657896995544),\n",
       " ('cow', 0.8008295893669128),\n",
       " ('gaviscon', 0.7969177961349487),\n",
       " ('sachets', 0.7941731214523315),\n",
       " ('wiping', 0.79375159740448),\n",
       " ('poached_egg', 0.792059600353241),\n",
       " ('spoons', 0.7917876839637756),\n",
       " ('film', 0.7901484370231628),\n",
       " ('beaker', 0.78279048204422),\n",
       " ('rusk', 0.7819617390632629),\n",
       " ('tail', 0.7818548679351807),\n",
       " ('mince', 0.7814681529998779),\n",
       " ('piriton', 0.781239926815033),\n",
       " ('nibble', 0.78065425157547),\n",
       " ('ice_lollies', 0.7772060036659241),\n",
       " ('school_run', 0.777184009552002),\n",
       " ('chippy', 0.7764370441436768),\n",
       " ('dish', 0.7738562822341919),\n",
       " ('olive_oil', 0.7728891372680664),\n",
       " ('baguette', 0.7707552313804626),\n",
       " ('left_over', 0.7707241177558899),\n",
       " ('movicol', 0.7697111368179321),\n",
       " ('quarters', 0.7694753408432007),\n",
       " ('ounces', 0.7693946361541748),\n",
       " ('meds', 0.7680292725563049),\n",
       " ('tooth', 0.7678627967834473),\n",
       " ('drops', 0.7673752903938293),\n",
       " ('tea', 0.7670108079910278),\n",
       " ('tv', 0.7669931054115295),\n",
       " ('bacon', 0.7663772106170654),\n",
       " ('bladder', 0.766303300857544),\n",
       " ('dummy', 0.7651442289352417),\n",
       " ('paw', 0.7641093730926514),\n",
       " ('blueberries', 0.7635411620140076),\n",
       " ('soya_milk', 0.7623451352119446),\n",
       " ('roast', 0.7620768547058105),\n",
       " ('yogurt', 0.7613736391067505),\n",
       " ('sweats', 0.7611718773841858),\n",
       " ('nutramigen', 0.7603366374969482),\n",
       " ('flaxseed', 0.7601320743560791),\n",
       " ('his_head', 0.7591939568519592),\n",
       " ('cuddles', 0.7588077783584595),\n",
       " ('friday_night', 0.7587597370147705),\n",
       " ('sausage_roll', 0.7579100131988525),\n",
       " ('avo', 0.7578031420707703),\n",
       " ('red_patches', 0.7576112151145935),\n",
       " ('bits', 0.7574363946914673),\n",
       " ('sippy_cup', 0.7570726275444031),\n",
       " ('neocate_lcp', 0.7568884491920471),\n",
       " ('froze', 0.7567878365516663),\n",
       " ('decaf_tea', 0.7565680146217346),\n",
       " ('decaf_coffee', 0.7559227347373962),\n",
       " ('solids', 0.7550162076950073),\n",
       " ('spag', 0.7549956440925598),\n",
       " ('football', 0.7546936869621277),\n",
       " ('gate', 0.7545541524887085),\n",
       " ('kfc', 0.753463089466095),\n",
       " ('omelette', 0.7534350752830505)]"
      ]
     },
     "execution_count": 67,
     "metadata": {},
     "output_type": "execute_result"
    }
   ],
   "source": [
    "model.wv.most_similar(['baby_rice'], topn=70)"
   ]
  },
  {
   "cell_type": "code",
   "execution_count": 75,
   "metadata": {},
   "outputs": [
    {
     "data": {
      "text/plain": [
       "[('green_beans', 0.8987311124801636),\n",
       " ('tomato_sauce', 0.8979843258857727),\n",
       " ('pesto', 0.895997166633606),\n",
       " ('fried', 0.8957321643829346),\n",
       " ('blended', 0.8954463005065918),\n",
       " ('grilled', 0.8952873349189758),\n",
       " ('avocado', 0.8914393782615662),\n",
       " ('apricot', 0.8884199857711792),\n",
       " ('salt_pepper', 0.8882951140403748),\n",
       " ('red_wine', 0.8859628438949585),\n",
       " ('stirfry', 0.8858291506767273),\n",
       " ('covered_in', 0.8852866291999817),\n",
       " ('filled_with', 0.8844092488288879),\n",
       " ('pure', 0.8831825256347656),\n",
       " ('mushrooms', 0.882717490196228),\n",
       " ('pumped', 0.8824294805526733),\n",
       " ('cabbage', 0.8792598843574524),\n",
       " ('stilton', 0.8786580562591553),\n",
       " ('roast_chicken', 0.8784634470939636),\n",
       " ('cod', 0.8774142861366272),\n",
       " ('green', 0.8773579001426697),\n",
       " ('onion', 0.8769024610519409),\n",
       " ('yellow', 0.8765391111373901),\n",
       " ('tomato', 0.8751411437988281),\n",
       " ('decaff', 0.8749994039535522),\n",
       " ('beetroot', 0.8741223216056824),\n",
       " ('for_brekkie', 0.8740686774253845),\n",
       " ('mustard', 0.8738999962806702),\n",
       " ('flour', 0.8738195300102234),\n",
       " ('deviled', 0.8730879426002502),\n",
       " ('tomatos', 0.8730332851409912),\n",
       " ('oyster', 0.8729405403137207),\n",
       " ('applesauce', 0.8728457093238831),\n",
       " ('flakes', 0.8724139928817749),\n",
       " ('roasted', 0.8723840713500977),\n",
       " ('squid', 0.8718210458755493),\n",
       " ('boiled_egg', 0.8716474771499634),\n",
       " ('sweetened', 0.8714169263839722),\n",
       " ('peices', 0.8710219264030457),\n",
       " ('sticks', 0.8709855675697327),\n",
       " ('steamed', 0.8709479570388794),\n",
       " ('fruit_veg', 0.8708664178848267),\n",
       " ('sarny', 0.870591938495636),\n",
       " ('topped_with', 0.8705371618270874),\n",
       " ('leaf', 0.8691312074661255),\n",
       " ('chicken_balls', 0.8687857389450073),\n",
       " ('crumpets', 0.8686541318893433),\n",
       " ('strawberries', 0.866984486579895),\n",
       " ('oxo', 0.8667355179786682),\n",
       " ('grapefruit_juice', 0.8666408061981201),\n",
       " ('spinach', 0.866163969039917),\n",
       " ('bake', 0.866083562374115),\n",
       " ('baked', 0.8659844994544983),\n",
       " ('yeo', 0.8654153347015381),\n",
       " ('dinner_grilled', 0.8653472065925598),\n",
       " ('bolognaise', 0.8651508688926697),\n",
       " ('fry', 0.864921510219574),\n",
       " ('coated', 0.864827036857605),\n",
       " ('celery', 0.8646222949028015),\n",
       " ('cayenne', 0.8645240664482117),\n",
       " ('asparagus', 0.8644301891326904),\n",
       " ('leftover', 0.8641809821128845),\n",
       " ('cauli', 0.8639677166938782),\n",
       " ('grill', 0.8638898730278015),\n",
       " ('olives', 0.8637674450874329),\n",
       " ('orange', 0.8635678291320801),\n",
       " ('salmon_fillet', 0.8635149598121643),\n",
       " ('mashed', 0.8632984757423401),\n",
       " ('black_coffee', 0.8632503151893616),\n",
       " ('basil', 0.863131582736969)]"
      ]
     },
     "execution_count": 75,
     "metadata": {},
     "output_type": "execute_result"
    }
   ],
   "source": [
    "model.wv.most_similar(['fruit','puree', 'infant', 'contamination'], negative=['recipe', 'meat'], topn=70)"
   ]
  },
  {
   "cell_type": "code",
   "execution_count": 77,
   "metadata": {},
   "outputs": [
    {
     "data": {
      "text/plain": [
       "[('propley', 0.5634233355522156),\n",
       " ('roundworst', 0.5558487176895142),\n",
       " ('cmht', 0.5219064354896545),\n",
       " ('newhv', 0.5163677930831909),\n",
       " ('fromhow', 0.4897284209728241),\n",
       " ('mebut', 0.4865596890449524),\n",
       " ('hindz', 0.4550108015537262),\n",
       " ('teatstops', 0.4431160092353821),\n",
       " ('reasonbly', 0.440399169921875),\n",
       " ('doit', 0.4339812099933624),\n",
       " ('habing', 0.4273872375488281),\n",
       " ('whomis', 0.4264635443687439),\n",
       " ('thunders', 0.4228471517562866),\n",
       " ('dlapip', 0.42256826162338257),\n",
       " ('askdo', 0.4183881878852844),\n",
       " ('turmoili', 0.4167611300945282),\n",
       " ('rountine', 0.4052369296550751),\n",
       " ('monstersome', 0.404615193605423),\n",
       " ('proprietor', 0.40206775069236755),\n",
       " ('starti', 0.3983546495437622),\n",
       " ('daymeal', 0.3969991207122803),\n",
       " ('posession', 0.3916724920272827),\n",
       " ('aboutbut', 0.38531622290611267),\n",
       " ('hihiya', 0.37732937932014465),\n",
       " ('glitcing', 0.37648606300354004),\n",
       " ('organicnatural', 0.3728504180908203),\n",
       " ('tortured', 0.36474308371543884),\n",
       " ('strived', 0.3642115294933319),\n",
       " ('consumehow', 0.3632415533065796),\n",
       " ('hewell', 0.3623785972595215),\n",
       " ('reeducating', 0.3613904118537903),\n",
       " ('srgemoji', 0.361156702041626),\n",
       " ('cansadhug', 0.35992756485939026),\n",
       " ('peep', 0.3595986068248749),\n",
       " ('ovalating', 0.3571193814277649),\n",
       " ('todaybut', 0.35336869955062866),\n",
       " ('havethanks', 0.3528727889060974),\n",
       " ('dunk', 0.3495553433895111),\n",
       " ('nonislamic', 0.3441324234008789),\n",
       " ('exactlylike', 0.34330445528030396),\n",
       " ('thisx', 0.34328582882881165),\n",
       " ('bex', 0.3424556851387024),\n",
       " ('challanges', 0.33826127648353577),\n",
       " ('eczemadry', 0.337375670671463),\n",
       " ('jn', 0.3346169888973236),\n",
       " ('ally', 0.3342231512069702),\n",
       " ('vegetarianis', 0.32915887236595154),\n",
       " ('itfreaky', 0.32858946919441223),\n",
       " ('himy', 0.3264632523059845),\n",
       " ('reswallow', 0.32618018984794617),\n",
       " ('soninfact', 0.32492583990097046),\n",
       " ('gruppy', 0.3246954679489136),\n",
       " ('consulant', 0.32432821393013),\n",
       " ('instinctively', 0.32393699884414673),\n",
       " ('mades', 0.32274532318115234),\n",
       " ('dishearteneddoes', 0.3213191032409668),\n",
       " ('adultand', 0.31736665964126587),\n",
       " ('interrupt', 0.3155852258205414),\n",
       " ('tootsies', 0.3148772120475769),\n",
       " ('imperative', 0.3135700225830078),\n",
       " ('feelingyou', 0.312679648399353),\n",
       " ('onece', 0.3123183846473694),\n",
       " ('breasfeeding', 0.30922964215278625),\n",
       " ('offercoupons', 0.30666589736938477),\n",
       " ('sothe', 0.3066577911376953),\n",
       " ('apsolutely', 0.3054044246673584),\n",
       " ('plotter', 0.3039875030517578),\n",
       " ('childhealthsafetywordpresscom', 0.30295529961586),\n",
       " ('airlifted', 0.30274200439453125),\n",
       " ('leavingclaire', 0.301837682723999)]"
      ]
     },
     "execution_count": 77,
     "metadata": {},
     "output_type": "execute_result"
    }
   ],
   "source": [
    "model.wv.most_similar(['baby_food'], negative=['recipe', 'diy'], topn=70)"
   ]
  },
  {
   "cell_type": "code",
   "execution_count": 86,
   "metadata": {},
   "outputs": [
    {
     "data": {
      "text/plain": [
       "[('post', 0.6090183854103088),\n",
       " ('havethanks', 0.5585094690322876),\n",
       " ('dlapip', 0.5539392232894897),\n",
       " ('askdo', 0.5503668189048767),\n",
       " ('turmoili', 0.5423431992530823),\n",
       " ('why', 0.5393729209899902),\n",
       " ('optician', 0.5355606079101562),\n",
       " ('question', 0.5337581038475037),\n",
       " ('how', 0.5182285904884338),\n",
       " ('livebut', 0.5163639187812805),\n",
       " ('immence', 0.51068115234375),\n",
       " ('representatives', 0.5103675723075867),\n",
       " ('temporary_housing', 0.5055130124092102),\n",
       " ('right', 0.5045444369316101),\n",
       " ('anticipation', 0.49955061078071594),\n",
       " ('ask', 0.4971388578414917),\n",
       " ('infectious', 0.4937967360019684),\n",
       " ('noroviris', 0.49344688653945923),\n",
       " ('understand', 0.4931699335575104),\n",
       " ('thread', 0.4930281341075897),\n",
       " ('please', 0.49186018109321594),\n",
       " ('morethan', 0.4916702210903168),\n",
       " ('whats', 0.4912470579147339),\n",
       " ('asains', 0.4900318682193756),\n",
       " ('leavingclaire', 0.4892365634441376),\n",
       " ('muntaha', 0.4888818562030792),\n",
       " ('passlasted', 0.48478153347969055),\n",
       " ('dont_know', 0.48454126715660095),\n",
       " ('read', 0.4839933216571808),\n",
       " ('mts', 0.4834757149219513),\n",
       " ('ahere', 0.48254093527793884),\n",
       " ('hear', 0.471318781375885),\n",
       " ('say', 0.47073838114738464),\n",
       " ('thisx', 0.470645010471344),\n",
       " ('placewhy', 0.46790775656700134),\n",
       " ('see', 0.46716389060020447),\n",
       " ('reasonbly', 0.46675971150398254),\n",
       " ('themalmost', 0.46658363938331604),\n",
       " ('lashes', 0.46654289960861206),\n",
       " ('practitioner', 0.46477556228637695),\n",
       " ('godare', 0.45972728729248047),\n",
       " ('sorry', 0.4587022662162781),\n",
       " ('havehad', 0.4583616852760315),\n",
       " ('springs', 0.45731285214424133),\n",
       " ('u', 0.4571990966796875),\n",
       " ('decide', 0.45650696754455566),\n",
       " ('know', 0.4561668932437897),\n",
       " ('ken', 0.45582178235054016),\n",
       " ('sal', 0.4552709758281708),\n",
       " ('rountine', 0.45506319403648376),\n",
       " ('cheryl', 0.454230397939682),\n",
       " ('doit', 0.45399025082588196),\n",
       " ('answer', 0.45366841554641724),\n",
       " ('betterhealthier', 0.45312318205833435),\n",
       " ('noeating', 0.45290127396583557),\n",
       " ('tactfully', 0.45005521178245544),\n",
       " ('predicament', 0.4497770667076111),\n",
       " ('someone', 0.44975724816322327),\n",
       " ('advice', 0.4496304988861084),\n",
       " ('claire', 0.4494669735431671),\n",
       " ('hope', 0.4491004943847656),\n",
       " ('what', 0.4489423334598541),\n",
       " ('lothugluck', 0.4478560984134674),\n",
       " ('monstersome', 0.4474938213825226),\n",
       " ('you', 0.4465712308883667),\n",
       " ('mind', 0.4434119760990143),\n",
       " ('op', 0.4432552456855774),\n",
       " ('follow', 0.44266384840011597),\n",
       " ('invest', 0.4422004818916321),\n",
       " ('highjack', 0.4413907527923584)]"
      ]
     },
     "execution_count": 86,
     "metadata": {},
     "output_type": "execute_result"
    }
   ],
   "source": [
    "model.wv.most_similar(['baby_food'], negative=['homemade'], topn=70)"
   ]
  },
  {
   "cell_type": "code",
   "execution_count": 88,
   "metadata": {},
   "outputs": [
    {
     "data": {
      "text/plain": [
       "[('soup', 0.9427034258842468),\n",
       " ('apple', 0.9331918954849243),\n",
       " ('cheese', 0.927249550819397),\n",
       " ('tomato', 0.9262970685958862),\n",
       " ('rice', 0.9251180291175842),\n",
       " ('cereal', 0.9225842952728271),\n",
       " ('yogurt', 0.9215800762176514),\n",
       " ('egg', 0.9213607907295227),\n",
       " ('pasta', 0.9198905229568481),\n",
       " ('berries', 0.9196426868438721),\n",
       " ('chicken', 0.9180183410644531),\n",
       " ('banana', 0.9177352786064148),\n",
       " ('salad', 0.9130582809448242),\n",
       " ('slice_of', 0.9124873280525208),\n",
       " ('nuts', 0.9104272127151489),\n",
       " ('tomatoes', 0.9099122285842896),\n",
       " ('puree', 0.9072428345680237),\n",
       " ('fish', 0.9029405117034912),\n",
       " ('butter', 0.9024571776390076),\n",
       " ('potato', 0.9016027450561523),\n",
       " ('bacon', 0.9004813432693481),\n",
       " ('ham', 0.9001263976097107),\n",
       " ('cake', 0.8992815017700195),\n",
       " ('homemade', 0.8990651369094849),\n",
       " ('squash', 0.8972511291503906),\n",
       " ('sandwich', 0.897059440612793),\n",
       " ('vegetables', 0.8957829475402832),\n",
       " ('carrots', 0.8950196504592896),\n",
       " ('choc', 0.894852876663208),\n",
       " ('chips', 0.8942900896072388),\n",
       " ('blueberries', 0.8938632011413574),\n",
       " ('oats', 0.8934867978096008),\n",
       " ('mince', 0.8913254737854004),\n",
       " ('biscuits', 0.8912144899368286),\n",
       " ('peas', 0.8905760049819946),\n",
       " ('sausages', 0.8905287384986877),\n",
       " ('toast', 0.8903294205665588),\n",
       " ('sweet_potato', 0.8900650143623352),\n",
       " ('chocolate', 0.8898922204971313),\n",
       " ('crackers', 0.8879724144935608),\n",
       " ('sauce', 0.8870712518692017),\n",
       " ('veg', 0.8869141340255737),\n",
       " ('mushrooms', 0.8865908980369568),\n",
       " ('beans', 0.8863645792007446),\n",
       " ('slices', 0.8857821822166443),\n",
       " ('greek_yoghurt', 0.8842589259147644),\n",
       " ('mixed', 0.8838211297988892),\n",
       " ('flour', 0.88238126039505),\n",
       " ('pizza', 0.8818259835243225),\n",
       " ('potatoes', 0.881463348865509),\n",
       " ('broccoli', 0.880298376083374),\n",
       " ('peanut_butter', 0.8801388144493103),\n",
       " ('raw', 0.8797703385353088),\n",
       " ('grapes', 0.8795446753501892),\n",
       " ('plain', 0.8783066868782043),\n",
       " ('pepper', 0.8777202367782593),\n",
       " ('salmon_fillet', 0.8775997757911682),\n",
       " ('sliced', 0.8769944310188293),\n",
       " ('bread', 0.8768128752708435),\n",
       " ('cucumber', 0.8758545517921448),\n",
       " ('celery', 0.8747738003730774),\n",
       " ('carrot', 0.8746219873428345),\n",
       " ('green_veg', 0.8745629191398621),\n",
       " ('fruits', 0.874380350112915),\n",
       " ('fruit_veg', 0.8743680119514465),\n",
       " ('pure', 0.8741023540496826),\n",
       " ('scrambled_egg', 0.873888373374939),\n",
       " ('green', 0.873798668384552),\n",
       " ('sized', 0.8737732768058777),\n",
       " ('onions', 0.8737007975578308)]"
      ]
     },
     "execution_count": 88,
     "metadata": {},
     "output_type": "execute_result"
    }
   ],
   "source": [
    "model.wv.most_similar(['yoghurt'], topn=70)"
   ]
  },
  {
   "cell_type": "code",
   "execution_count": 90,
   "metadata": {},
   "outputs": [
    {
     "data": {
      "text/plain": [
       "[('sterilising', 0.8328830599784851),\n",
       " ('guide', 0.8258848190307617),\n",
       " ('company', 0.7817451357841492),\n",
       " ('slaughter', 0.7766173481941223),\n",
       " ('buy_other', 0.7759057283401489),\n",
       " ('brands', 0.7754129767417908),\n",
       " ('serve_halal', 0.7750930786132812),\n",
       " ('dermexa_range', 0.7738021016120911),\n",
       " ('aveeno_baby', 0.7690919041633606),\n",
       " ('copy', 0.7684815526008606),\n",
       " ('other_retailers', 0.7679007053375244),\n",
       " ('label', 0.7678582072257996),\n",
       " ('pump', 0.7678112387657166),\n",
       " ('remedy', 0.7665497064590454),\n",
       " ('win', 0.7653217315673828),\n",
       " ('medicines', 0.764909029006958),\n",
       " ('meal_plan', 0.7648950815200806),\n",
       " ('migrate', 0.7637519240379333),\n",
       " ('jewellery', 0.763024091720581),\n",
       " ('roam', 0.7607174515724182),\n",
       " ('google', 0.7606288194656372),\n",
       " ('mail', 0.7593492865562439),\n",
       " ('hipp_organic', 0.7590063214302063),\n",
       " ('warning', 0.7586080431938171),\n",
       " ('reuse', 0.7585139870643616),\n",
       " ('halt', 0.7580937743186951),\n",
       " ('potable', 0.7578948140144348),\n",
       " ('offending', 0.7574496269226074),\n",
       " ('offers', 0.7569690346717834),\n",
       " ('selecting_baby', 0.7568956017494202),\n",
       " ('cat_owners', 0.7567615509033203),\n",
       " ('solely', 0.7536349296569824),\n",
       " ('companies', 0.7533059120178223),\n",
       " ('possibly', 0.7527700662612915),\n",
       " ('vary', 0.7522678375244141),\n",
       " ('booklet', 0.7497363686561584),\n",
       " ('withstand', 0.7493716478347778),\n",
       " ('religious', 0.7490988969802856),\n",
       " ('solution', 0.7490109801292419),\n",
       " ('most_often', 0.7481326460838318),\n",
       " ('aldi_organic', 0.7473611235618591),\n",
       " ('individual', 0.7472934126853943),\n",
       " ('stores', 0.7471813559532166),\n",
       " ('breed', 0.7463704943656921),\n",
       " ('cater_for', 0.7448660731315613),\n",
       " ('facilities', 0.7440828680992126),\n",
       " ('output', 0.7435117363929749),\n",
       " ('prepare', 0.7431387305259705),\n",
       " ('shain', 0.7424596548080444),\n",
       " ('born_free', 0.7422611713409424),\n",
       " ('ladder', 0.742238461971283),\n",
       " ('state', 0.7419813275337219),\n",
       " ('purchasing_when', 0.7419604659080505),\n",
       " ('primary', 0.7418700456619263),\n",
       " ('action', 0.7416024804115295),\n",
       " ('bulk', 0.7414688467979431),\n",
       " ('what_brand', 0.7406849265098572),\n",
       " ('citric_acid', 0.7404584288597107),\n",
       " ('nutritional', 0.7402198910713196),\n",
       " ('choosing', 0.7389633059501648),\n",
       " ('tying', 0.7389230728149414),\n",
       " ('tommy_tippee', 0.738714873790741),\n",
       " ('fromx', 0.7383548617362976),\n",
       " ('batch_cook', 0.7382896542549133),\n",
       " ('securely', 0.738202691078186),\n",
       " ('feel_comfortable', 0.7376396059989929),\n",
       " ('direct', 0.7372153997421265),\n",
       " ('eliminate', 0.7371250987052917),\n",
       " ('measure', 0.7361818552017212),\n",
       " ('fish_oil', 0.7359468936920166)]"
      ]
     },
     "execution_count": 90,
     "metadata": {},
     "output_type": "execute_result"
    }
   ],
   "source": [
    "model.wv.most_similar(['baby_food', 'premade'], topn=70)"
   ]
  },
  {
   "cell_type": "code",
   "execution_count": 92,
   "metadata": {},
   "outputs": [
    {
     "data": {
      "text/plain": [
       "[('follow', 0.7423295378684998),\n",
       " ('web_site', 0.7219550609588623),\n",
       " ('decide', 0.6875738501548767),\n",
       " ('question', 0.6831241846084595),\n",
       " ('understand', 0.6791288256645203),\n",
       " ('aveeno_baby', 0.6725314855575562),\n",
       " ('write', 0.6683441996574402),\n",
       " ('livebut', 0.6682726144790649),\n",
       " ('whats', 0.660494327545166),\n",
       " ('advise', 0.6599637866020203),\n",
       " ('look_at', 0.6588088870048523),\n",
       " ('solution', 0.6587648391723633),\n",
       " ('phases', 0.6502673029899597),\n",
       " ('link', 0.6482031941413879),\n",
       " ('temporary_housing', 0.6481582522392273),\n",
       " ('answer', 0.6439734697341919),\n",
       " ('feel_comfortable', 0.6417751312255859),\n",
       " ('manage', 0.6407522559165955),\n",
       " ('solve', 0.6406257152557373),\n",
       " ('lashes', 0.6395214796066284),\n",
       " ('childyou', 0.6388802528381348),\n",
       " ('suggest', 0.6388155817985535),\n",
       " ('enzimes', 0.6376416087150574),\n",
       " ('important_thing', 0.6357167363166809),\n",
       " ('wrongwhat', 0.6342867016792297),\n",
       " ('probotics', 0.6326111555099487),\n",
       " ('practitioner', 0.6297556757926941),\n",
       " ('threadwhat', 0.6295520067214966),\n",
       " ('dermexa_range', 0.6291709542274475),\n",
       " ('optician', 0.6283196210861206),\n",
       " ('google', 0.6281464695930481),\n",
       " ('ignore', 0.6274091601371765),\n",
       " ('nag', 0.6272023916244507),\n",
       " ('pinpoint', 0.6251680850982666),\n",
       " ('understand_how', 0.6215035319328308),\n",
       " ('feel_guilty', 0.6193731427192688),\n",
       " ('delete', 0.6133900284767151),\n",
       " ('adjust', 0.6115049719810486),\n",
       " ('check', 0.6090478897094727),\n",
       " ('best_way', 0.608564555644989),\n",
       " ('yourself', 0.6074470281600952),\n",
       " ('hype', 0.6062206029891968),\n",
       " ('post', 0.6049867868423462),\n",
       " ('learn', 0.6036530137062073),\n",
       " ('symptomatology', 0.6035110950469971),\n",
       " ('switch', 0.6031695008277893),\n",
       " ('else', 0.6014938950538635),\n",
       " ('mean', 0.5994725227355957),\n",
       " ('lose_pounds', 0.598940908908844),\n",
       " ('op', 0.5965886116027832),\n",
       " ('deserve', 0.5958818197250366),\n",
       " ('choose', 0.5956043601036072),\n",
       " ('outcome', 0.5953407883644104),\n",
       " ('vitamisn', 0.5951762199401855),\n",
       " ('nhs', 0.5943630337715149),\n",
       " ('send_me', 0.5937365889549255),\n",
       " ('ingredients_list', 0.5932525992393494),\n",
       " ('backside', 0.5921553373336792),\n",
       " ('nat', 0.5920498967170715),\n",
       " ('discuss', 0.59146648645401),\n",
       " ('topcashback', 0.59012371301651),\n",
       " ('chiara', 0.5899905562400818),\n",
       " ('edit', 0.5895681977272034),\n",
       " ('bully', 0.5874490737915039),\n",
       " ('continue', 0.5868905782699585),\n",
       " ('legallly', 0.5862641334533691),\n",
       " ('join', 0.5862554907798767),\n",
       " ('claire_s', 0.5854593515396118),\n",
       " ('ask', 0.5853304266929626),\n",
       " ('motivate', 0.5852296948432922)]"
      ]
     },
     "execution_count": 92,
     "metadata": {},
     "output_type": "execute_result"
    }
   ],
   "source": [
    "model.wv.most_similar(['baby_food', 'premade'], negative=['homemade'], topn=70)"
   ]
  },
  {
   "cell_type": "code",
   "execution_count": 93,
   "metadata": {},
   "outputs": [
    {
     "data": {
      "text/plain": [
       "[('offending', 0.8767739534378052),\n",
       " ('ordinary', 0.8618350028991699),\n",
       " ('bottled_water', 0.8613597750663757),\n",
       " ('supermarket_own', 0.8609319925308228),\n",
       " ('buying_branded', 0.8584685325622559),\n",
       " ('companies', 0.8569406867027283),\n",
       " ('currently_buy', 0.8518701791763306),\n",
       " ('mamia_food', 0.84846431016922),\n",
       " ('appledore', 0.847379744052887),\n",
       " ('fish_oil', 0.8466570973396301),\n",
       " ('gelatin', 0.8426364064216614),\n",
       " ('gal', 0.836393415927887),\n",
       " ('object', 0.8332284092903137),\n",
       " ('implement', 0.8325846195220947),\n",
       " ('hipp_organic', 0.8317365646362305),\n",
       " ('sourced', 0.8313223123550415),\n",
       " ('plastics', 0.8299975395202637),\n",
       " ('buy_other', 0.8286651968955994),\n",
       " ('organix', 0.8284889459609985),\n",
       " ('specifically', 0.828406572341919),\n",
       " ('aldi_mamia', 0.8266980051994324),\n",
       " ('fruit_pots', 0.8266264200210571),\n",
       " ('another_mum', 0.8259619474411011),\n",
       " ('cif_anti', 0.8257240653038025),\n",
       " ('avaliable', 0.825161874294281),\n",
       " ('activity', 0.8250676393508911),\n",
       " ('graze_super', 0.8244447708129883),\n",
       " ('shain', 0.8241621851921082),\n",
       " ('advised_against', 0.8239095211029053),\n",
       " ('herbal', 0.8238239288330078),\n",
       " ('direct', 0.8237560987472534),\n",
       " ('eliminate', 0.823746383190155),\n",
       " ('foxes', 0.8236129879951477),\n",
       " ('underground', 0.8231881260871887),\n",
       " ('support_groups', 0.8229433298110962),\n",
       " ('latex', 0.8218593597412109),\n",
       " ('medicines', 0.8206438422203064),\n",
       " ('entering', 0.8188643455505371),\n",
       " ('ellas', 0.8183624148368835),\n",
       " ('locally', 0.8181183934211731),\n",
       " ('animal_welfare', 0.8178427815437317),\n",
       " ('cow_gate', 0.8169108629226685),\n",
       " ('helpline', 0.8149634003639221),\n",
       " ('chosen', 0.8149083852767944),\n",
       " ('mamia_baby', 0.8147530555725098),\n",
       " ('religous', 0.814606249332428),\n",
       " ('mamia', 0.8145056366920471),\n",
       " ('sweeten', 0.8143386244773865),\n",
       " ('canadian', 0.8142613768577576),\n",
       " ('weve_tried', 0.8141816258430481),\n",
       " ('agency', 0.8141460418701172),\n",
       " ('ingredient', 0.8141125440597534),\n",
       " ('independent', 0.8138453364372253),\n",
       " ('christian', 0.8138012290000916),\n",
       " ('certified', 0.8137333393096924),\n",
       " ('immune', 0.8134124279022217),\n",
       " ('cadbury', 0.81333327293396),\n",
       " ('requirements', 0.812988817691803),\n",
       " ('differ', 0.8128117918968201),\n",
       " ('changing_from', 0.8127616047859192),\n",
       " ('cereus', 0.8126211166381836),\n",
       " ('industry', 0.8125794529914856),\n",
       " ('standard', 0.8123166561126709),\n",
       " ('oaty_bars', 0.8122246265411377),\n",
       " ('barrett', 0.8121815919876099),\n",
       " ('humans', 0.8120821118354797),\n",
       " ('aldimamiaand', 0.8120638728141785),\n",
       " ('seek', 0.8120115399360657),\n",
       " ('insights', 0.8120095729827881),\n",
       " ('according', 0.811546802520752)]"
      ]
     },
     "execution_count": 93,
     "metadata": {},
     "output_type": "execute_result"
    }
   ],
   "source": [
    "model.wv.most_similar(['aldi_organic'], topn=70)"
   ]
  },
  {
   "cell_type": "code",
   "execution_count": 95,
   "metadata": {},
   "outputs": [
    {
     "data": {
      "text/plain": [
       "-17.60221526607272"
      ]
     },
     "execution_count": 95,
     "metadata": {},
     "output_type": "execute_result"
    }
   ],
   "source": [
    "bigram_transformer.scoring(\n",
    "            worda_count=bigram_transformer.vocab.get('jarred'),\n",
    "            wordb_count=bigram_transformer.vocab.get('food'),\n",
    "            bigram_count=bigram_transformer.vocab.get('jarred_food'),\n",
    "            len_vocab=len(bigram_transformer.vocab),\n",
    "            min_count=bigram_transformer.min_count,\n",
    "            corpus_word_count=bigram_transformer.corpus_word_count,\n",
    "        )"
   ]
  },
  {
   "cell_type": "code",
   "execution_count": 97,
   "metadata": {},
   "outputs": [
    {
     "data": {
      "text/plain": [
       "11"
      ]
     },
     "execution_count": 97,
     "metadata": {},
     "output_type": "execute_result"
    }
   ],
   "source": [
    "bigram_transformer.vocab.get('jarred')"
   ]
  }
 ],
 "metadata": {
  "kernelspec": {
   "display_name": "Python 3",
   "language": "python",
   "name": "python3"
  },
  "language_info": {
   "codemirror_mode": {
    "name": "ipython",
    "version": 3
   },
   "file_extension": ".py",
   "mimetype": "text/x-python",
   "name": "python",
   "nbconvert_exporter": "python",
   "pygments_lexer": "ipython3",
   "version": "3.8.5"
  }
 },
 "nbformat": 4,
 "nbformat_minor": 4
}
