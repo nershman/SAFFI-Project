{
 "cells": [
  {
   "cell_type": "markdown",
   "metadata": {},
   "source": [
    "In this notebook, we:\n",
    "* select a subset based on indicators derived from the text and related data\n",
    "    * we do not process the text as thorougly at this step because we are only working with entire threads at this point, so it should be expected that the vocabulary we are searching for appear at least once in each thread.\n",
    "* process text so that it can be better evaluated in further steps."
   ]
  },
  {
   "cell_type": "code",
   "execution_count": 1,
   "metadata": {},
   "outputs": [
    {
     "data": {
      "application/javascript": [
       "if (!(\"Notification\" in window)) {\n",
       "    alert(\"This browser does not support desktop notifications, so the %%notify magic will not work.\");\n",
       "} else if (Notification.permission !== 'granted' && Notification.permission !== 'denied') {\n",
       "    Notification.requestPermission(function (permission) {\n",
       "        if(!('permission' in Notification)) {\n",
       "            Notification.permission = permission;\n",
       "        }\n",
       "    })\n",
       "}\n"
      ],
      "text/plain": [
       "<IPython.core.display.Javascript object>"
      ]
     },
     "metadata": {},
     "output_type": "display_data"
    }
   ],
   "source": [
    "#if jupyternotify is installed, we can add %notify to a cell to get an alert when it ifnished running\n",
    "%load_ext jupyternotify"
   ]
  },
  {
   "cell_type": "code",
   "execution_count": 2,
   "metadata": {},
   "outputs": [],
   "source": [
    "import metrics_helpers as indicators\n",
    "import pickle as pk\n",
    "import gc\n",
    "import numpy as np\n",
    "from matplotlib import pyplot as plt\n",
    "import seaborn as sns\n",
    "import pandas as pd"
   ]
  },
  {
   "cell_type": "markdown",
   "metadata": {},
   "source": [
    "# Create Indicators"
   ]
  },
  {
   "cell_type": "code",
   "execution_count": 3,
   "metadata": {},
   "outputs": [],
   "source": [
    "def dt_to_int(dt): #datetime to integer\n",
    "    return dt.astype('int')/(10**9)"
   ]
  },
  {
   "cell_type": "code",
   "execution_count": 4,
   "metadata": {},
   "outputs": [
    {
     "name": "stderr",
     "output_type": "stream",
     "text": [
      "/usr/local/lib/python3.8/site-packages/numpy/core/fromnumeric.py:3334: RuntimeWarning: Mean of empty slice.\n",
      "  return _methods._mean(a, axis=axis, dtype=dtype,\n",
      "/usr/local/lib/python3.8/site-packages/numpy/core/_methods.py:161: RuntimeWarning: invalid value encountered in double_scalars\n",
      "  ret = ret.dtype.type(ret / rcount)\n"
     ]
    }
   ],
   "source": [
    "#netmums\n",
    "\n",
    "\n",
    "with open('/Users/sma/Documents/INRAE internship/scrape-git/netmums/allposts_rerun.pkl', 'rb') as f:\n",
    "    netmums = pk.load(f)\n",
    "\n",
    "    \n",
    "nm_ind = indicators.indicators(netmums, fb=False)\n",
    "#this one takes long, around 20 seconds I think.\n",
    "\n",
    "nm_ind.add_term_counts()\n",
    "nm_ind.add_url_term_counts()\n",
    "nm_ind.add_total_likes()\n",
    "nm_ind.add_available_comments()\n",
    "nm_ind.add_comment_activity()\n",
    "nm_ind.add_num_unique_posters()\n",
    "nm_ind.add_num_urls()\n",
    "nm_ind.add_avg_post_length()\n",
    "nm_ind.add_post_time()\n",
    "nm_ind.add_lexical_richness()\n",
    "nm_ind.add_term_distance_simple()\n",
    "\n",
    "netmums = nm_ind.results_dict"
   ]
  },
  {
   "cell_type": "code",
   "execution_count": 5,
   "metadata": {},
   "outputs": [
    {
     "data": {
      "text/plain": [
       "False    3904\n",
       "True     2619\n",
       "dtype: int64"
      ]
     },
     "execution_count": 5,
     "metadata": {},
     "output_type": "execute_result"
    }
   ],
   "source": [
    "distance_data = [item.get('term_distance_simple') for item in netmums.values()]\n",
    "pd.Series([item is not None for item in distance_data]).value_counts()"
   ]
  },
  {
   "cell_type": "code",
   "execution_count": 6,
   "metadata": {},
   "outputs": [
    {
     "data": {
      "image/png": "[encoded data removed]",
      "text/plain": [
       "<Figure size 432x288 with 1 Axes>"
      ]
     },
     "metadata": {
      "needs_background": "light"
     },
     "output_type": "display_data"
    }
   ],
   "source": [
    "#now plot distributino of values.\n",
    "plt.hist([item for item in distance_data if item is not None], bins=500)\n",
    "plt.title('min distance of product and hazard terms by document')\n",
    "plt.xscale('log')"
   ]
  },
  {
   "cell_type": "code",
   "execution_count": 7,
   "metadata": {},
   "outputs": [
    {
     "data": {
      "text/plain": [
       "1.0       115\n",
       "2.0        10\n",
       "3.0        26\n",
       "4.0        14\n",
       "5.0        16\n",
       "         ... \n",
       "583.0       2\n",
       "1523.0      1\n",
       "669.0       1\n",
       "827.0       1\n",
       "4232.0      1\n",
       "Length: 884, dtype: int64"
      ]
     },
     "execution_count": 7,
     "metadata": {},
     "output_type": "execute_result"
    }
   ],
   "source": [
    "pd.Series(distance_data).sort_values().value_counts(sort=False)"
   ]
  },
  {
   "cell_type": "code",
   "execution_count": 8,
   "metadata": {},
   "outputs": [
    {
     "data": {
      "text/plain": [
       "Text(0.5, 1.0, 'min distance of product and hazard terms by document')"
      ]
     },
     "execution_count": 8,
     "metadata": {},
     "output_type": "execute_result"
    },
    {
     "data": {
      "image/png": "[encoded data removed]",
      "text/plain": [
       "<Figure size 432x288 with 1 Axes>"
      ]
     },
     "metadata": {
      "needs_background": "light"
     },
     "output_type": "display_data"
    }
   ],
   "source": [
    "#now plot distributino of values.\n",
    "plt.hist([item for item in distance_data if item is not None], bins=200)\n",
    "plt.title('min distance of product and hazard terms by document')\n",
    "#plt.xscale('log')"
   ]
  },
  {
   "cell_type": "code",
   "execution_count": 9,
   "metadata": {},
   "outputs": [],
   "source": [
    "import pandas as pd"
   ]
  },
  {
   "cell_type": "code",
   "execution_count": 10,
   "metadata": {},
   "outputs": [],
   "source": [
    "nmdf = pd.DataFrame.from_dict(netmums).transpose()\n",
    "nmdf = nmdf.drop(columns=['posts', 'term_counts', 'url_term_counts', 'query'])"
   ]
  },
  {
   "cell_type": "markdown",
   "metadata": {},
   "source": [
    "# Pre-processing\n"
   ]
  },
  {
   "cell_type": "markdown",
   "metadata": {},
   "source": [
    "## move term counts to separate columns"
   ]
  },
  {
   "cell_type": "markdown",
   "metadata": {},
   "source": [
    "### netmums"
   ]
  },
  {
   "cell_type": "code",
   "execution_count": 11,
   "metadata": {},
   "outputs": [],
   "source": [
    "terms = list([n for n in netmums.values()][0]['term_counts'].keys())\n",
    "\n",
    "for term_key in terms:\n",
    "    d = {url_key: value['term_counts'][term_key] for url_key, value in netmums.items()}\n",
    "    nmdf['term_counts_' + term_key] = nmdf.index.map(d)\n",
    "    \n",
    "for term_key in terms:\n",
    "    d = {url_key: value['url_term_counts'][term_key] for url_key, value in netmums.items()}\n",
    "    nmdf['url_term_counts_'+ term_key] = nmdf.index.map(d)"
   ]
  },
  {
   "cell_type": "code",
   "execution_count": 12,
   "metadata": {},
   "outputs": [
    {
     "data": {
      "text/html": [
       "<div>\n",
       "<style scoped>\n",
       "    .dataframe tbody tr th:only-of-type {\n",
       "        vertical-align: middle;\n",
       "    }\n",
       "\n",
       "    .dataframe tbody tr th {\n",
       "        vertical-align: top;\n",
       "    }\n",
       "\n",
       "    .dataframe thead th {\n",
       "        text-align: right;\n",
       "    }\n",
       "</style>\n",
       "<table border=\"1\" class=\"dataframe\">\n",
       "  <thead>\n",
       "    <tr style=\"text-align: right;\">\n",
       "      <th></th>\n",
       "      <th>url</th>\n",
       "      <th>title</th>\n",
       "      <th>total_likes</th>\n",
       "      <th>available_comments</th>\n",
       "      <th>comment_activity</th>\n",
       "      <th>num_unique_posters</th>\n",
       "      <th>num_urls</th>\n",
       "      <th>avg_post_length</th>\n",
       "      <th>post_time</th>\n",
       "      <th>lexical_richness</th>\n",
       "      <th>...</th>\n",
       "      <th>url_term_counts_toxic</th>\n",
       "      <th>url_term_counts_toxin</th>\n",
       "      <th>url_term_counts_veg</th>\n",
       "      <th>url_term_counts_vegetable</th>\n",
       "      <th>url_term_counts_veggie</th>\n",
       "      <th>url_term_counts_vet</th>\n",
       "      <th>url_term_counts_veterinary</th>\n",
       "      <th>url_term_counts_virus</th>\n",
       "      <th>url_term_counts_vomitoxin</th>\n",
       "      <th>url_term_counts_yoghurt</th>\n",
       "    </tr>\n",
       "  </thead>\n",
       "  <tbody>\n",
       "    <tr>\n",
       "      <th>0</th>\n",
       "      <td>https://www.netmums.com/coffeehouse/drop-clini...</td>\n",
       "      <td>Aptamil Hungry Baby making LO sick??</td>\n",
       "      <td>0</td>\n",
       "      <td>20</td>\n",
       "      <td>20</td>\n",
       "      <td>2</td>\n",
       "      <td>4</td>\n",
       "      <td>929.1</td>\n",
       "      <td>2011-10-30 08:56:00</td>\n",
       "      <td>141.759</td>\n",
       "      <td>...</td>\n",
       "      <td>0</td>\n",
       "      <td>0</td>\n",
       "      <td>0</td>\n",
       "      <td>0</td>\n",
       "      <td>0</td>\n",
       "      <td>0</td>\n",
       "      <td>0</td>\n",
       "      <td>0</td>\n",
       "      <td>0</td>\n",
       "      <td>0</td>\n",
       "    </tr>\n",
       "    <tr>\n",
       "      <th>1</th>\n",
       "      <td>https://www.netmums.com/coffeehouse/becoming-m...</td>\n",
       "      <td>Mam bottles</td>\n",
       "      <td>0</td>\n",
       "      <td>17</td>\n",
       "      <td>17</td>\n",
       "      <td>5</td>\n",
       "      <td>0</td>\n",
       "      <td>200.353</td>\n",
       "      <td>2016-01-20 12:41:00</td>\n",
       "      <td>120.208</td>\n",
       "      <td>...</td>\n",
       "      <td>0</td>\n",
       "      <td>0</td>\n",
       "      <td>0</td>\n",
       "      <td>0</td>\n",
       "      <td>0</td>\n",
       "      <td>0</td>\n",
       "      <td>0</td>\n",
       "      <td>0</td>\n",
       "      <td>0</td>\n",
       "      <td>0</td>\n",
       "    </tr>\n",
       "    <tr>\n",
       "      <th>2</th>\n",
       "      <td>https://www.netmums.com/coffeehouse/other-chat...</td>\n",
       "      <td>DEAD INSECT IN SAINSBURYS FOOD!</td>\n",
       "      <td>0</td>\n",
       "      <td>30</td>\n",
       "      <td>30</td>\n",
       "      <td>9</td>\n",
       "      <td>0</td>\n",
       "      <td>213.8</td>\n",
       "      <td>2012-02-19 19:55:00</td>\n",
       "      <td>190.436</td>\n",
       "      <td>...</td>\n",
       "      <td>0</td>\n",
       "      <td>0</td>\n",
       "      <td>0</td>\n",
       "      <td>0</td>\n",
       "      <td>0</td>\n",
       "      <td>0</td>\n",
       "      <td>0</td>\n",
       "      <td>0</td>\n",
       "      <td>0</td>\n",
       "      <td>0</td>\n",
       "    </tr>\n",
       "    <tr>\n",
       "      <th>3</th>\n",
       "      <td>https://www.netmums.com/coffeehouse/home-garde...</td>\n",
       "      <td>buying a house near a factory is it a bad idea?</td>\n",
       "      <td>0</td>\n",
       "      <td>5</td>\n",
       "      <td>5</td>\n",
       "      <td>3</td>\n",
       "      <td>1</td>\n",
       "      <td>534</td>\n",
       "      <td>2017-09-04 21:13:00</td>\n",
       "      <td>133.82</td>\n",
       "      <td>...</td>\n",
       "      <td>0</td>\n",
       "      <td>0</td>\n",
       "      <td>0</td>\n",
       "      <td>0</td>\n",
       "      <td>0</td>\n",
       "      <td>0</td>\n",
       "      <td>0</td>\n",
       "      <td>0</td>\n",
       "      <td>0</td>\n",
       "      <td>0</td>\n",
       "    </tr>\n",
       "    <tr>\n",
       "      <th>4</th>\n",
       "      <td>https://www.netmums.com/coffeehouse/home-garde...</td>\n",
       "      <td>URGENT ADVISE NEEDED PLEASE - oven cleaner fumes</td>\n",
       "      <td>0</td>\n",
       "      <td>5</td>\n",
       "      <td>5</td>\n",
       "      <td>1</td>\n",
       "      <td>0</td>\n",
       "      <td>228.8</td>\n",
       "      <td>2007-11-18 22:51:00</td>\n",
       "      <td>99.834</td>\n",
       "      <td>...</td>\n",
       "      <td>0</td>\n",
       "      <td>0</td>\n",
       "      <td>0</td>\n",
       "      <td>0</td>\n",
       "      <td>0</td>\n",
       "      <td>0</td>\n",
       "      <td>0</td>\n",
       "      <td>0</td>\n",
       "      <td>0</td>\n",
       "      <td>0</td>\n",
       "    </tr>\n",
       "    <tr>\n",
       "      <th>...</th>\n",
       "      <td>...</td>\n",
       "      <td>...</td>\n",
       "      <td>...</td>\n",
       "      <td>...</td>\n",
       "      <td>...</td>\n",
       "      <td>...</td>\n",
       "      <td>...</td>\n",
       "      <td>...</td>\n",
       "      <td>...</td>\n",
       "      <td>...</td>\n",
       "      <td>...</td>\n",
       "      <td>...</td>\n",
       "      <td>...</td>\n",
       "      <td>...</td>\n",
       "      <td>...</td>\n",
       "      <td>...</td>\n",
       "      <td>...</td>\n",
       "      <td>...</td>\n",
       "      <td>...</td>\n",
       "      <td>...</td>\n",
       "      <td>...</td>\n",
       "    </tr>\n",
       "    <tr>\n",
       "      <th>6518</th>\n",
       "      <td>https://www.netmums.com/coffeehouse/becoming-m...</td>\n",
       "      <td>Thrush treatment in late pregnancy</td>\n",
       "      <td>0</td>\n",
       "      <td>14</td>\n",
       "      <td>14</td>\n",
       "      <td>2</td>\n",
       "      <td>0</td>\n",
       "      <td>337.071</td>\n",
       "      <td>2011-05-02 19:12:00</td>\n",
       "      <td>112.864</td>\n",
       "      <td>...</td>\n",
       "      <td>0</td>\n",
       "      <td>0</td>\n",
       "      <td>0</td>\n",
       "      <td>0</td>\n",
       "      <td>0</td>\n",
       "      <td>0</td>\n",
       "      <td>0</td>\n",
       "      <td>0</td>\n",
       "      <td>0</td>\n",
       "      <td>0</td>\n",
       "    </tr>\n",
       "    <tr>\n",
       "      <th>6519</th>\n",
       "      <td>https://www.netmums.com/coffeehouse/becoming-m...</td>\n",
       "      <td>Does anyone know .............</td>\n",
       "      <td>0</td>\n",
       "      <td>12</td>\n",
       "      <td>12</td>\n",
       "      <td>2</td>\n",
       "      <td>0</td>\n",
       "      <td>260.583</td>\n",
       "      <td>2014-07-29 22:25:00</td>\n",
       "      <td>155.432</td>\n",
       "      <td>...</td>\n",
       "      <td>0</td>\n",
       "      <td>0</td>\n",
       "      <td>0</td>\n",
       "      <td>0</td>\n",
       "      <td>0</td>\n",
       "      <td>0</td>\n",
       "      <td>0</td>\n",
       "      <td>0</td>\n",
       "      <td>0</td>\n",
       "      <td>0</td>\n",
       "    </tr>\n",
       "    <tr>\n",
       "      <th>6520</th>\n",
       "      <td>https://www.netmums.com/coffeehouse/being-mum-...</td>\n",
       "      <td>kids shopping trolleys</td>\n",
       "      <td>0</td>\n",
       "      <td>7</td>\n",
       "      <td>7</td>\n",
       "      <td>1</td>\n",
       "      <td>0</td>\n",
       "      <td>327</td>\n",
       "      <td>2012-04-13 18:47:00</td>\n",
       "      <td>141.132</td>\n",
       "      <td>...</td>\n",
       "      <td>0</td>\n",
       "      <td>0</td>\n",
       "      <td>0</td>\n",
       "      <td>0</td>\n",
       "      <td>0</td>\n",
       "      <td>0</td>\n",
       "      <td>0</td>\n",
       "      <td>0</td>\n",
       "      <td>0</td>\n",
       "      <td>0</td>\n",
       "    </tr>\n",
       "    <tr>\n",
       "      <th>6521</th>\n",
       "      <td>https://www.netmums.com/coffeehouse/other-chat...</td>\n",
       "      <td>Halloween food ideas</td>\n",
       "      <td>0</td>\n",
       "      <td>12</td>\n",
       "      <td>12</td>\n",
       "      <td>9</td>\n",
       "      <td>6</td>\n",
       "      <td>483.083</td>\n",
       "      <td>2016-10-31 20:20:00</td>\n",
       "      <td>138.818</td>\n",
       "      <td>...</td>\n",
       "      <td>0</td>\n",
       "      <td>0</td>\n",
       "      <td>0</td>\n",
       "      <td>0</td>\n",
       "      <td>0</td>\n",
       "      <td>0</td>\n",
       "      <td>0</td>\n",
       "      <td>0</td>\n",
       "      <td>0</td>\n",
       "      <td>0</td>\n",
       "    </tr>\n",
       "    <tr>\n",
       "      <th>6522</th>\n",
       "      <td>https://www.netmums.com/coffeehouse/other-chat...</td>\n",
       "      <td>Party food quantities</td>\n",
       "      <td>0</td>\n",
       "      <td>6</td>\n",
       "      <td>6</td>\n",
       "      <td>3</td>\n",
       "      <td>0</td>\n",
       "      <td>714.833</td>\n",
       "      <td>2013-12-04 22:01:00</td>\n",
       "      <td>170.224</td>\n",
       "      <td>...</td>\n",
       "      <td>0</td>\n",
       "      <td>0</td>\n",
       "      <td>0</td>\n",
       "      <td>0</td>\n",
       "      <td>0</td>\n",
       "      <td>0</td>\n",
       "      <td>0</td>\n",
       "      <td>0</td>\n",
       "      <td>0</td>\n",
       "      <td>0</td>\n",
       "    </tr>\n",
       "  </tbody>\n",
       "</table>\n",
       "<p>6523 rows × 183 columns</p>\n",
       "</div>"
      ],
      "text/plain": [
       "                                                    url  \\\n",
       "0     https://www.netmums.com/coffeehouse/drop-clini...   \n",
       "1     https://www.netmums.com/coffeehouse/becoming-m...   \n",
       "2     https://www.netmums.com/coffeehouse/other-chat...   \n",
       "3     https://www.netmums.com/coffeehouse/home-garde...   \n",
       "4     https://www.netmums.com/coffeehouse/home-garde...   \n",
       "...                                                 ...   \n",
       "6518  https://www.netmums.com/coffeehouse/becoming-m...   \n",
       "6519  https://www.netmums.com/coffeehouse/becoming-m...   \n",
       "6520  https://www.netmums.com/coffeehouse/being-mum-...   \n",
       "6521  https://www.netmums.com/coffeehouse/other-chat...   \n",
       "6522  https://www.netmums.com/coffeehouse/other-chat...   \n",
       "\n",
       "                                                 title total_likes  \\\n",
       "0                 Aptamil Hungry Baby making LO sick??           0   \n",
       "1                                          Mam bottles           0   \n",
       "2                      DEAD INSECT IN SAINSBURYS FOOD!           0   \n",
       "3      buying a house near a factory is it a bad idea?           0   \n",
       "4     URGENT ADVISE NEEDED PLEASE - oven cleaner fumes           0   \n",
       "...                                                ...         ...   \n",
       "6518                Thrush treatment in late pregnancy           0   \n",
       "6519                    Does anyone know .............           0   \n",
       "6520                            kids shopping trolleys           0   \n",
       "6521                              Halloween food ideas           0   \n",
       "6522                             Party food quantities           0   \n",
       "\n",
       "     available_comments comment_activity num_unique_posters num_urls  \\\n",
       "0                    20               20                  2        4   \n",
       "1                    17               17                  5        0   \n",
       "2                    30               30                  9        0   \n",
       "3                     5                5                  3        1   \n",
       "4                     5                5                  1        0   \n",
       "...                 ...              ...                ...      ...   \n",
       "6518                 14               14                  2        0   \n",
       "6519                 12               12                  2        0   \n",
       "6520                  7                7                  1        0   \n",
       "6521                 12               12                  9        6   \n",
       "6522                  6                6                  3        0   \n",
       "\n",
       "     avg_post_length           post_time lexical_richness  ...  \\\n",
       "0              929.1 2011-10-30 08:56:00          141.759  ...   \n",
       "1            200.353 2016-01-20 12:41:00          120.208  ...   \n",
       "2              213.8 2012-02-19 19:55:00          190.436  ...   \n",
       "3                534 2017-09-04 21:13:00           133.82  ...   \n",
       "4              228.8 2007-11-18 22:51:00           99.834  ...   \n",
       "...              ...                 ...              ...  ...   \n",
       "6518         337.071 2011-05-02 19:12:00          112.864  ...   \n",
       "6519         260.583 2014-07-29 22:25:00          155.432  ...   \n",
       "6520             327 2012-04-13 18:47:00          141.132  ...   \n",
       "6521         483.083 2016-10-31 20:20:00          138.818  ...   \n",
       "6522         714.833 2013-12-04 22:01:00          170.224  ...   \n",
       "\n",
       "     url_term_counts_toxic  url_term_counts_toxin  url_term_counts_veg  \\\n",
       "0                        0                      0                    0   \n",
       "1                        0                      0                    0   \n",
       "2                        0                      0                    0   \n",
       "3                        0                      0                    0   \n",
       "4                        0                      0                    0   \n",
       "...                    ...                    ...                  ...   \n",
       "6518                     0                      0                    0   \n",
       "6519                     0                      0                    0   \n",
       "6520                     0                      0                    0   \n",
       "6521                     0                      0                    0   \n",
       "6522                     0                      0                    0   \n",
       "\n",
       "      url_term_counts_vegetable  url_term_counts_veggie  url_term_counts_vet  \\\n",
       "0                             0                       0                    0   \n",
       "1                             0                       0                    0   \n",
       "2                             0                       0                    0   \n",
       "3                             0                       0                    0   \n",
       "4                             0                       0                    0   \n",
       "...                         ...                     ...                  ...   \n",
       "6518                          0                       0                    0   \n",
       "6519                          0                       0                    0   \n",
       "6520                          0                       0                    0   \n",
       "6521                          0                       0                    0   \n",
       "6522                          0                       0                    0   \n",
       "\n",
       "      url_term_counts_veterinary  url_term_counts_virus  \\\n",
       "0                              0                      0   \n",
       "1                              0                      0   \n",
       "2                              0                      0   \n",
       "3                              0                      0   \n",
       "4                              0                      0   \n",
       "...                          ...                    ...   \n",
       "6518                           0                      0   \n",
       "6519                           0                      0   \n",
       "6520                           0                      0   \n",
       "6521                           0                      0   \n",
       "6522                           0                      0   \n",
       "\n",
       "      url_term_counts_vomitoxin  url_term_counts_yoghurt  \n",
       "0                             0                        0  \n",
       "1                             0                        0  \n",
       "2                             0                        0  \n",
       "3                             0                        0  \n",
       "4                             0                        0  \n",
       "...                         ...                      ...  \n",
       "6518                          0                        0  \n",
       "6519                          0                        0  \n",
       "6520                          0                        0  \n",
       "6521                          0                        0  \n",
       "6522                          0                        0  \n",
       "\n",
       "[6523 rows x 183 columns]"
      ]
     },
     "execution_count": 12,
     "metadata": {},
     "output_type": "execute_result"
    }
   ],
   "source": [
    "nmdf = nmdf.reset_index()\n",
    "nmdf = nmdf.rename(columns={\"index\":\"url\"})\n",
    "nmdf"
   ]
  },
  {
   "cell_type": "code",
   "execution_count": 13,
   "metadata": {},
   "outputs": [
    {
     "data": {
      "text/plain": [
       "20"
      ]
     },
     "execution_count": 13,
     "metadata": {},
     "output_type": "execute_result"
    }
   ],
   "source": [
    "gc.collect()"
   ]
  },
  {
   "cell_type": "markdown",
   "metadata": {},
   "source": [
    "## Create two term totals\n",
    "combine counts for terms which are hazards and terms which are products."
   ]
  },
  {
   "cell_type": "code",
   "execution_count": 14,
   "metadata": {},
   "outputs": [],
   "source": [
    "#choose terms to count in totals\n",
    "term_count_df = nmdf[nmdf.columns[pd.Series(nmdf.columns).str.startswith('term_counts_')]]\n",
    "\n",
    "products = term_count_df.columns[[5,12,13,17,33, 34, 35, 44,45,57, 58, 65,66,68, 69,70,78, 79,80, 85]]\n",
    "hazards = term_count_df.columns[[1,2,3,9,10,11,14,15,16,18,\n",
    "                                 19,20,21,22,23,24,25,26,27,\n",
    "                                 28,30,31,37,38,39,40,\n",
    "                                 41,42,43,46,47,48,49,50,51,\n",
    "                                 52,53,54,55,56,59,60,61,62,\n",
    "                                 63,64,67,71,72,73,74,75,76,\n",
    "                                 77,81,82,83,84]]\n"
   ]
  },
  {
   "cell_type": "code",
   "execution_count": 15,
   "metadata": {},
   "outputs": [
    {
     "data": {
      "text/plain": [
       "Index(['term_counts_acrylamid', 'term_counts_acrylamide',\n",
       "       'term_counts_additives', 'term_counts_bacteria',\n",
       "       'term_counts_biphenyls', 'term_counts_bisphenol', 'term_counts_bpa',\n",
       "       'term_counts_campylobacter', 'term_counts_carcinogen',\n",
       "       'term_counts_chemical', 'term_counts_chemicals',\n",
       "       'term_counts_contaminants', 'term_counts_contaminated',\n",
       "       'term_counts_cronobacter', 'term_counts_deoxynivalenol',\n",
       "       'term_counts_dioxin', 'term_counts_disruptor', 'term_counts_drugs',\n",
       "       'term_counts_e-coli', 'term_counts_ecoli', 'term_counts_endocrine',\n",
       "       'term_counts_estrogen', 'term_counts_fungus', 'term_counts_genetically',\n",
       "       'term_counts_gm', 'term_counts_gmo', 'term_counts_hazard',\n",
       "       'term_counts_histamine', 'term_counts_hydrocarbons',\n",
       "       'term_counts_listeria', 'term_counts_metals', 'term_counts_microbes',\n",
       "       'term_counts_microbiologic', 'term_counts_moah', 'term_counts_modified',\n",
       "       'term_counts_moh', 'term_counts_mold', 'term_counts_mould',\n",
       "       'term_counts_mycotoxin', 'term_counts_nitrates',\n",
       "       'term_counts_parasites', 'term_counts_pcb', 'term_counts_pesticides',\n",
       "       'term_counts_phthalates', 'term_counts_poisoning',\n",
       "       'term_counts_poisonous', 'term_counts_preservatives',\n",
       "       'term_counts_safety', 'term_counts_salmonella', 'term_counts_saturated',\n",
       "       'term_counts_spores', 'term_counts_sweeteners', 'term_counts_toxic',\n",
       "       'term_counts_toxin', 'term_counts_vet', 'term_counts_veterinary',\n",
       "       'term_counts_virus', 'term_counts_vomitoxin'],\n",
       "      dtype='object')"
      ]
     },
     "execution_count": 15,
     "metadata": {},
     "output_type": "execute_result"
    }
   ],
   "source": [
    "hazards"
   ]
  },
  {
   "cell_type": "code",
   "execution_count": 16,
   "metadata": {},
   "outputs": [
    {
     "data": {
      "text/plain": [
       "Index(['term_counts_applesauce', 'term_counts_bottle',\n",
       "       'term_counts_bottle-fed', 'term_counts_cereal', 'term_counts_food',\n",
       "       'term_counts_for', 'term_counts_formula', 'term_counts_jar',\n",
       "       'term_counts_jarred', 'term_counts_oatmeal', 'term_counts_oats',\n",
       "       'term_counts_porridge', 'term_counts_premade', 'term_counts_pudding',\n",
       "       'term_counts_puree', 'term_counts_purée', 'term_counts_veg',\n",
       "       'term_counts_vegetable', 'term_counts_veggie', 'term_counts_yoghurt'],\n",
       "      dtype='object')"
      ]
     },
     "execution_count": 16,
     "metadata": {},
     "output_type": "execute_result"
    }
   ],
   "source": [
    "products"
   ]
  },
  {
   "cell_type": "markdown",
   "metadata": {},
   "source": [
    "create the totals of terms in two categories."
   ]
  },
  {
   "cell_type": "code",
   "execution_count": 17,
   "metadata": {},
   "outputs": [],
   "source": [
    "#netmums\n",
    "#add totals\n",
    "term_count_df = nmdf[nmdf.columns[pd.Series(nmdf.columns).str.startswith('term_counts_')]]\n",
    "\n",
    "products = term_count_df.columns[[5,12,13,17,33, 34, 35, 44,45,57, 58, 65,66,68, 69,70,78, 79,80, 85]]\n",
    "hazards = term_count_df.columns[[1,2,3,4,6,7,8,9,10,11,14,15,16,18,19,20,21,22,23,24,25,26,27,28,29,30,31,32,36,37,38,39,40,41,42,43,46,47,48,49,50,51,52,53,54,55,56,59,60,61,62,63,64,67,71,72,73,74,75,76,77,81,82,83,84]]\n",
    "\n",
    "\n",
    "term_count_hazard_df = term_count_df[hazards]\n",
    "term_count_product_df = term_count_df[products]\n",
    "\n",
    "url_term_count_df = nmdf[nmdf.columns[pd.Series(nmdf.columns).str.startswith('url_term_counts_')]]\n",
    "\n",
    "url_term_count_hazard_df = url_term_count_df['url_' + hazards]\n",
    "url_term_count_product_df = url_term_count_df['url_' + products] \n",
    "\n",
    "\n",
    "nmdf['total_term_count'] = term_count_df.sum(axis=1) #make sure there's no s because we can easily filter the non totals then with contains.\n",
    "nmdf['total_url_term_count'] = term_count_df.sum(axis=1)\n",
    "\n",
    "nmdf['total_term_count_hazard'] = term_count_hazard_df.sum(axis=1) #make sure there's no s because we can easily filter the non totals then with contains.\n",
    "nmdf['total_url_term_count_hazard'] = url_term_count_hazard_df.sum(axis=1)\n",
    "\n",
    "nmdf['total_term_count_product'] = term_count_product_df.sum(axis=1) #make sure there's no s because we can easily filter the non totals then with contains.\n",
    "nmdf['total_url_term_count_product'] = url_term_count_product_df.sum(axis=1)"
   ]
  },
  {
   "cell_type": "markdown",
   "metadata": {},
   "source": [
    "## Examine the Pandas Dataframes."
   ]
  },
  {
   "cell_type": "code",
   "execution_count": 18,
   "metadata": {},
   "outputs": [
    {
     "data": {
      "text/html": [
       "<div>\n",
       "<style scoped>\n",
       "    .dataframe tbody tr th:only-of-type {\n",
       "        vertical-align: middle;\n",
       "    }\n",
       "\n",
       "    .dataframe tbody tr th {\n",
       "        vertical-align: top;\n",
       "    }\n",
       "\n",
       "    .dataframe thead th {\n",
       "        text-align: right;\n",
       "    }\n",
       "</style>\n",
       "<table border=\"1\" class=\"dataframe\">\n",
       "  <thead>\n",
       "    <tr style=\"text-align: right;\">\n",
       "      <th></th>\n",
       "      <th>total_likes</th>\n",
       "      <th>available_comments</th>\n",
       "      <th>comment_activity</th>\n",
       "      <th>num_unique_posters</th>\n",
       "      <th>num_urls</th>\n",
       "      <th>avg_post_length</th>\n",
       "      <th>post_time</th>\n",
       "      <th>lexical_richness</th>\n",
       "      <th>term_distance_simple</th>\n",
       "      <th>total_term_count</th>\n",
       "      <th>total_url_term_count</th>\n",
       "      <th>total_term_count_hazard</th>\n",
       "      <th>total_url_term_count_hazard</th>\n",
       "      <th>total_term_count_product</th>\n",
       "      <th>total_url_term_count_product</th>\n",
       "    </tr>\n",
       "  </thead>\n",
       "  <tbody>\n",
       "    <tr>\n",
       "      <th>0</th>\n",
       "      <td>0</td>\n",
       "      <td>20</td>\n",
       "      <td>20</td>\n",
       "      <td>2</td>\n",
       "      <td>4</td>\n",
       "      <td>929.1</td>\n",
       "      <td>2011-10-30 08:56:00</td>\n",
       "      <td>141.759</td>\n",
       "      <td>95</td>\n",
       "      <td>68</td>\n",
       "      <td>68</td>\n",
       "      <td>38</td>\n",
       "      <td>0</td>\n",
       "      <td>30</td>\n",
       "      <td>0</td>\n",
       "    </tr>\n",
       "    <tr>\n",
       "      <th>1</th>\n",
       "      <td>0</td>\n",
       "      <td>17</td>\n",
       "      <td>17</td>\n",
       "      <td>5</td>\n",
       "      <td>0</td>\n",
       "      <td>200.353</td>\n",
       "      <td>2016-01-20 12:41:00</td>\n",
       "      <td>120.208</td>\n",
       "      <td>143</td>\n",
       "      <td>4</td>\n",
       "      <td>4</td>\n",
       "      <td>2</td>\n",
       "      <td>0</td>\n",
       "      <td>2</td>\n",
       "      <td>0</td>\n",
       "    </tr>\n",
       "    <tr>\n",
       "      <th>2</th>\n",
       "      <td>0</td>\n",
       "      <td>30</td>\n",
       "      <td>30</td>\n",
       "      <td>9</td>\n",
       "      <td>0</td>\n",
       "      <td>213.8</td>\n",
       "      <td>2012-02-19 19:55:00</td>\n",
       "      <td>190.436</td>\n",
       "      <td>25</td>\n",
       "      <td>28</td>\n",
       "      <td>28</td>\n",
       "      <td>15</td>\n",
       "      <td>0</td>\n",
       "      <td>13</td>\n",
       "      <td>0</td>\n",
       "    </tr>\n",
       "    <tr>\n",
       "      <th>3</th>\n",
       "      <td>0</td>\n",
       "      <td>5</td>\n",
       "      <td>5</td>\n",
       "      <td>3</td>\n",
       "      <td>1</td>\n",
       "      <td>534</td>\n",
       "      <td>2017-09-04 21:13:00</td>\n",
       "      <td>133.82</td>\n",
       "      <td>None</td>\n",
       "      <td>4</td>\n",
       "      <td>4</td>\n",
       "      <td>4</td>\n",
       "      <td>0</td>\n",
       "      <td>0</td>\n",
       "      <td>0</td>\n",
       "    </tr>\n",
       "    <tr>\n",
       "      <th>4</th>\n",
       "      <td>0</td>\n",
       "      <td>5</td>\n",
       "      <td>5</td>\n",
       "      <td>1</td>\n",
       "      <td>0</td>\n",
       "      <td>228.8</td>\n",
       "      <td>2007-11-18 22:51:00</td>\n",
       "      <td>99.834</td>\n",
       "      <td>None</td>\n",
       "      <td>2</td>\n",
       "      <td>2</td>\n",
       "      <td>0</td>\n",
       "      <td>0</td>\n",
       "      <td>2</td>\n",
       "      <td>0</td>\n",
       "    </tr>\n",
       "    <tr>\n",
       "      <th>...</th>\n",
       "      <td>...</td>\n",
       "      <td>...</td>\n",
       "      <td>...</td>\n",
       "      <td>...</td>\n",
       "      <td>...</td>\n",
       "      <td>...</td>\n",
       "      <td>...</td>\n",
       "      <td>...</td>\n",
       "      <td>...</td>\n",
       "      <td>...</td>\n",
       "      <td>...</td>\n",
       "      <td>...</td>\n",
       "      <td>...</td>\n",
       "      <td>...</td>\n",
       "      <td>...</td>\n",
       "    </tr>\n",
       "    <tr>\n",
       "      <th>6518</th>\n",
       "      <td>0</td>\n",
       "      <td>14</td>\n",
       "      <td>14</td>\n",
       "      <td>2</td>\n",
       "      <td>0</td>\n",
       "      <td>337.071</td>\n",
       "      <td>2011-05-02 19:12:00</td>\n",
       "      <td>112.864</td>\n",
       "      <td>366</td>\n",
       "      <td>4</td>\n",
       "      <td>4</td>\n",
       "      <td>2</td>\n",
       "      <td>0</td>\n",
       "      <td>2</td>\n",
       "      <td>0</td>\n",
       "    </tr>\n",
       "    <tr>\n",
       "      <th>6519</th>\n",
       "      <td>0</td>\n",
       "      <td>12</td>\n",
       "      <td>12</td>\n",
       "      <td>2</td>\n",
       "      <td>0</td>\n",
       "      <td>260.583</td>\n",
       "      <td>2014-07-29 22:25:00</td>\n",
       "      <td>155.432</td>\n",
       "      <td>None</td>\n",
       "      <td>4</td>\n",
       "      <td>4</td>\n",
       "      <td>3</td>\n",
       "      <td>0</td>\n",
       "      <td>1</td>\n",
       "      <td>0</td>\n",
       "    </tr>\n",
       "    <tr>\n",
       "      <th>6520</th>\n",
       "      <td>0</td>\n",
       "      <td>7</td>\n",
       "      <td>7</td>\n",
       "      <td>1</td>\n",
       "      <td>0</td>\n",
       "      <td>327</td>\n",
       "      <td>2012-04-13 18:47:00</td>\n",
       "      <td>141.132</td>\n",
       "      <td>113</td>\n",
       "      <td>2</td>\n",
       "      <td>2</td>\n",
       "      <td>1</td>\n",
       "      <td>0</td>\n",
       "      <td>1</td>\n",
       "      <td>0</td>\n",
       "    </tr>\n",
       "    <tr>\n",
       "      <th>6521</th>\n",
       "      <td>0</td>\n",
       "      <td>12</td>\n",
       "      <td>12</td>\n",
       "      <td>9</td>\n",
       "      <td>6</td>\n",
       "      <td>483.083</td>\n",
       "      <td>2016-10-31 20:20:00</td>\n",
       "      <td>138.818</td>\n",
       "      <td>39</td>\n",
       "      <td>8</td>\n",
       "      <td>8</td>\n",
       "      <td>1</td>\n",
       "      <td>0</td>\n",
       "      <td>7</td>\n",
       "      <td>0</td>\n",
       "    </tr>\n",
       "    <tr>\n",
       "      <th>6522</th>\n",
       "      <td>0</td>\n",
       "      <td>6</td>\n",
       "      <td>6</td>\n",
       "      <td>3</td>\n",
       "      <td>0</td>\n",
       "      <td>714.833</td>\n",
       "      <td>2013-12-04 22:01:00</td>\n",
       "      <td>170.224</td>\n",
       "      <td>None</td>\n",
       "      <td>4</td>\n",
       "      <td>4</td>\n",
       "      <td>2</td>\n",
       "      <td>0</td>\n",
       "      <td>2</td>\n",
       "      <td>0</td>\n",
       "    </tr>\n",
       "  </tbody>\n",
       "</table>\n",
       "<p>6523 rows × 15 columns</p>\n",
       "</div>"
      ],
      "text/plain": [
       "     total_likes available_comments comment_activity num_unique_posters  \\\n",
       "0              0                 20               20                  2   \n",
       "1              0                 17               17                  5   \n",
       "2              0                 30               30                  9   \n",
       "3              0                  5                5                  3   \n",
       "4              0                  5                5                  1   \n",
       "...          ...                ...              ...                ...   \n",
       "6518           0                 14               14                  2   \n",
       "6519           0                 12               12                  2   \n",
       "6520           0                  7                7                  1   \n",
       "6521           0                 12               12                  9   \n",
       "6522           0                  6                6                  3   \n",
       "\n",
       "     num_urls avg_post_length           post_time lexical_richness  \\\n",
       "0           4           929.1 2011-10-30 08:56:00          141.759   \n",
       "1           0         200.353 2016-01-20 12:41:00          120.208   \n",
       "2           0           213.8 2012-02-19 19:55:00          190.436   \n",
       "3           1             534 2017-09-04 21:13:00           133.82   \n",
       "4           0           228.8 2007-11-18 22:51:00           99.834   \n",
       "...       ...             ...                 ...              ...   \n",
       "6518        0         337.071 2011-05-02 19:12:00          112.864   \n",
       "6519        0         260.583 2014-07-29 22:25:00          155.432   \n",
       "6520        0             327 2012-04-13 18:47:00          141.132   \n",
       "6521        6         483.083 2016-10-31 20:20:00          138.818   \n",
       "6522        0         714.833 2013-12-04 22:01:00          170.224   \n",
       "\n",
       "     term_distance_simple  total_term_count  total_url_term_count  \\\n",
       "0                      95                68                    68   \n",
       "1                     143                 4                     4   \n",
       "2                      25                28                    28   \n",
       "3                    None                 4                     4   \n",
       "4                    None                 2                     2   \n",
       "...                   ...               ...                   ...   \n",
       "6518                  366                 4                     4   \n",
       "6519                 None                 4                     4   \n",
       "6520                  113                 2                     2   \n",
       "6521                   39                 8                     8   \n",
       "6522                 None                 4                     4   \n",
       "\n",
       "      total_term_count_hazard  total_url_term_count_hazard  \\\n",
       "0                          38                            0   \n",
       "1                           2                            0   \n",
       "2                          15                            0   \n",
       "3                           4                            0   \n",
       "4                           0                            0   \n",
       "...                       ...                          ...   \n",
       "6518                        2                            0   \n",
       "6519                        3                            0   \n",
       "6520                        1                            0   \n",
       "6521                        1                            0   \n",
       "6522                        2                            0   \n",
       "\n",
       "      total_term_count_product  total_url_term_count_product  \n",
       "0                           30                             0  \n",
       "1                            2                             0  \n",
       "2                           13                             0  \n",
       "3                            0                             0  \n",
       "4                            2                             0  \n",
       "...                        ...                           ...  \n",
       "6518                         2                             0  \n",
       "6519                         1                             0  \n",
       "6520                         1                             0  \n",
       "6521                         7                             0  \n",
       "6522                         2                             0  \n",
       "\n",
       "[6523 rows x 15 columns]"
      ]
     },
     "execution_count": 18,
     "metadata": {},
     "output_type": "execute_result"
    }
   ],
   "source": [
    "#we want to plot these\n",
    "nmdf[nmdf.columns[pd.Series(nmdf.columns).str.contains('term_counts_') == 0]].drop(['url','title'],axis=1)"
   ]
  },
  {
   "cell_type": "code",
   "execution_count": 19,
   "metadata": {},
   "outputs": [
    {
     "data": {
      "text/plain": [
       "52"
      ]
     },
     "execution_count": 19,
     "metadata": {},
     "output_type": "execute_result"
    }
   ],
   "source": [
    "gc.collect()"
   ]
  },
  {
   "cell_type": "markdown",
   "metadata": {},
   "source": [
    "## Post-2016 Subset"
   ]
  },
  {
   "cell_type": "code",
   "execution_count": 20,
   "metadata": {},
   "outputs": [],
   "source": [
    "from datetime import datetime"
   ]
  },
  {
   "cell_type": "code",
   "execution_count": 21,
   "metadata": {},
   "outputs": [],
   "source": [
    "time_cutoff = datetime(2016,1,1, 0, 0, 0, 0)"
   ]
  },
  {
   "cell_type": "code",
   "execution_count": 22,
   "metadata": {},
   "outputs": [],
   "source": [
    "nmdf = nmdf.loc[nmdf.post_time >= time_cutoff]"
   ]
  },
  {
   "cell_type": "markdown",
   "metadata": {},
   "source": [
    "# Make Indicators Relative so More Easily Interpreted."
   ]
  },
  {
   "cell_type": "code",
   "execution_count": 23,
   "metadata": {},
   "outputs": [],
   "source": [
    "#TODO adjust this for the new indicators...\n",
    "#will involve some playing around / investigating I guess.\n",
    "\n",
    "nmdf = nmdf.copy()\n",
    "#so we don't get an error for operating on a slice or sth"
   ]
  },
  {
   "cell_type": "code",
   "execution_count": 24,
   "metadata": {},
   "outputs": [],
   "source": [
    "nmdf['total_term_count'] = nmdf['total_term_count'] / (nmdf['avg_post_length'] + 1)\n",
    "nmdf['total_term_count_hazard'] = nmdf['total_term_count_hazard'] / (nmdf['avg_post_length'] + 1)\n",
    "nmdf['total_term_count_product'] = nmdf['total_term_count_product'] / (nmdf['avg_post_length'] + 1)\n",
    "#FIXME divide by available comments insteand of average post length (for netmums only.)\n",
    "\n",
    "nmdf['num_unique_posters'] = nmdf['num_unique_posters'] / (nmdf['available_comments'] + 1)"
   ]
  },
  {
   "cell_type": "markdown",
   "metadata": {},
   "source": [
    "## Modify Time so We can Graph It."
   ]
  },
  {
   "cell_type": "code",
   "execution_count": 25,
   "metadata": {},
   "outputs": [],
   "source": [
    "from datetime import datetime\n",
    "nmdf['int_post_time'] = dt_to_int(nmdf.post_time.dropna()) "
   ]
  },
  {
   "cell_type": "markdown",
   "metadata": {},
   "source": [
    "# Pair Plots\n",
    "\n",
    "Take a sample of 500 points and plot the pair plots of our indicators.\n",
    "Datetime could not be plotted, so it's converted to int. We can estimate on the graph what the corresponding date is by looking at quantiles.\n",
    "Lexical richness uses a measure called MTLD, which should be less biased for short documents than the most common TTR (Type-Token Ratio)\n"
   ]
  },
  {
   "cell_type": "code",
   "execution_count": 26,
   "metadata": {},
   "outputs": [],
   "source": [
    "nm_indicators = \\\n",
    "['total_term_count',\n",
    "'total_term_count_hazard',\n",
    "'total_term_count_product',\n",
    "'num_unique_posters',\n",
    "'avg_post_length',\n",
    "'lexical_richness', \n",
    "'term_distance_simple']\n",
    "\n"
   ]
  },
  {
   "cell_type": "markdown",
   "metadata": {},
   "source": [
    "## Netmums"
   ]
  },
  {
   "cell_type": "code",
   "execution_count": 27,
   "metadata": {},
   "outputs": [
    {
     "data": {
      "text/html": [
       "<div>\n",
       "<style scoped>\n",
       "    .dataframe tbody tr th:only-of-type {\n",
       "        vertical-align: middle;\n",
       "    }\n",
       "\n",
       "    .dataframe tbody tr th {\n",
       "        vertical-align: top;\n",
       "    }\n",
       "\n",
       "    .dataframe thead th {\n",
       "        text-align: right;\n",
       "    }\n",
       "</style>\n",
       "<table border=\"1\" class=\"dataframe\">\n",
       "  <thead>\n",
       "    <tr style=\"text-align: right;\">\n",
       "      <th></th>\n",
       "      <th>num_unique_posters</th>\n",
       "      <th>avg_post_length</th>\n",
       "      <th>lexical_richness</th>\n",
       "      <th>term_distance_simple</th>\n",
       "      <th>total_term_count</th>\n",
       "      <th>total_term_count_hazard</th>\n",
       "      <th>total_term_count_product</th>\n",
       "    </tr>\n",
       "  </thead>\n",
       "  <tbody>\n",
       "    <tr>\n",
       "      <th>3</th>\n",
       "      <td>0.5</td>\n",
       "      <td>534</td>\n",
       "      <td>133.82</td>\n",
       "      <td>None</td>\n",
       "      <td>0.00747664</td>\n",
       "      <td>0.00747664</td>\n",
       "      <td>0</td>\n",
       "    </tr>\n",
       "    <tr>\n",
       "      <th>5</th>\n",
       "      <td>0.285714</td>\n",
       "      <td>396.231</td>\n",
       "      <td>143.273</td>\n",
       "      <td>None</td>\n",
       "      <td>0.0201394</td>\n",
       "      <td>0.017622</td>\n",
       "      <td>0.00251743</td>\n",
       "    </tr>\n",
       "    <tr>\n",
       "      <th>10</th>\n",
       "      <td>0.48</td>\n",
       "      <td>329.082</td>\n",
       "      <td>123.96</td>\n",
       "      <td>None</td>\n",
       "      <td>0.00908866</td>\n",
       "      <td>0.00605911</td>\n",
       "      <td>0.00302955</td>\n",
       "    </tr>\n",
       "    <tr>\n",
       "      <th>12</th>\n",
       "      <td>0.7</td>\n",
       "      <td>383.889</td>\n",
       "      <td>155.024</td>\n",
       "      <td>None</td>\n",
       "      <td>0.00259815</td>\n",
       "      <td>0.00259815</td>\n",
       "      <td>0</td>\n",
       "    </tr>\n",
       "    <tr>\n",
       "      <th>19</th>\n",
       "      <td>0.333333</td>\n",
       "      <td>921.643</td>\n",
       "      <td>149.068</td>\n",
       "      <td>None</td>\n",
       "      <td>0.00216769</td>\n",
       "      <td>0.00216769</td>\n",
       "      <td>0</td>\n",
       "    </tr>\n",
       "    <tr>\n",
       "      <th>...</th>\n",
       "      <td>...</td>\n",
       "      <td>...</td>\n",
       "      <td>...</td>\n",
       "      <td>...</td>\n",
       "      <td>...</td>\n",
       "      <td>...</td>\n",
       "      <td>...</td>\n",
       "    </tr>\n",
       "    <tr>\n",
       "      <th>6480</th>\n",
       "      <td>0.44</td>\n",
       "      <td>241.708</td>\n",
       "      <td>138.199</td>\n",
       "      <td>None</td>\n",
       "      <td>0.148326</td>\n",
       "      <td>0.0618026</td>\n",
       "      <td>0.0865236</td>\n",
       "    </tr>\n",
       "    <tr>\n",
       "      <th>6487</th>\n",
       "      <td>0.375</td>\n",
       "      <td>413.867</td>\n",
       "      <td>135.984</td>\n",
       "      <td>None</td>\n",
       "      <td>0.0361562</td>\n",
       "      <td>0.00964165</td>\n",
       "      <td>0.0265145</td>\n",
       "    </tr>\n",
       "    <tr>\n",
       "      <th>6509</th>\n",
       "      <td>0.277778</td>\n",
       "      <td>466.647</td>\n",
       "      <td>193.298</td>\n",
       "      <td>None</td>\n",
       "      <td>0.0983648</td>\n",
       "      <td>0.0491824</td>\n",
       "      <td>0.0491824</td>\n",
       "    </tr>\n",
       "    <tr>\n",
       "      <th>6513</th>\n",
       "      <td>0.277778</td>\n",
       "      <td>777.471</td>\n",
       "      <td>140.825</td>\n",
       "      <td>None</td>\n",
       "      <td>0.00128457</td>\n",
       "      <td>0</td>\n",
       "      <td>0.00128457</td>\n",
       "    </tr>\n",
       "    <tr>\n",
       "      <th>6515</th>\n",
       "      <td>0.333333</td>\n",
       "      <td>336.6</td>\n",
       "      <td>149.748</td>\n",
       "      <td>None</td>\n",
       "      <td>0.0562796</td>\n",
       "      <td>0.0236967</td>\n",
       "      <td>0.0325829</td>\n",
       "    </tr>\n",
       "  </tbody>\n",
       "</table>\n",
       "<p>1042 rows × 7 columns</p>\n",
       "</div>"
      ],
      "text/plain": [
       "     num_unique_posters avg_post_length lexical_richness term_distance_simple  \\\n",
       "3                   0.5             534           133.82                 None   \n",
       "5              0.285714         396.231          143.273                 None   \n",
       "10                 0.48         329.082           123.96                 None   \n",
       "12                  0.7         383.889          155.024                 None   \n",
       "19             0.333333         921.643          149.068                 None   \n",
       "...                 ...             ...              ...                  ...   \n",
       "6480               0.44         241.708          138.199                 None   \n",
       "6487              0.375         413.867          135.984                 None   \n",
       "6509           0.277778         466.647          193.298                 None   \n",
       "6513           0.277778         777.471          140.825                 None   \n",
       "6515           0.333333           336.6          149.748                 None   \n",
       "\n",
       "     total_term_count total_term_count_hazard total_term_count_product  \n",
       "3          0.00747664              0.00747664                        0  \n",
       "5           0.0201394                0.017622               0.00251743  \n",
       "10         0.00908866              0.00605911               0.00302955  \n",
       "12         0.00259815              0.00259815                        0  \n",
       "19         0.00216769              0.00216769                        0  \n",
       "...               ...                     ...                      ...  \n",
       "6480         0.148326               0.0618026                0.0865236  \n",
       "6487        0.0361562              0.00964165                0.0265145  \n",
       "6509        0.0983648               0.0491824                0.0491824  \n",
       "6513       0.00128457                       0               0.00128457  \n",
       "6515        0.0562796               0.0236967                0.0325829  \n",
       "\n",
       "[1042 rows x 7 columns]"
      ]
     },
     "execution_count": 27,
     "metadata": {},
     "output_type": "execute_result"
    }
   ],
   "source": [
    "nmdf[nmdf.columns[nmdf.columns.isin(nm_indicators)]].loc[nmdf.term_distance_simple.isnull()]"
   ]
  },
  {
   "cell_type": "code",
   "execution_count": 28,
   "metadata": {},
   "outputs": [
    {
     "data": {
      "text/html": [
       "<div>\n",
       "<style scoped>\n",
       "    .dataframe tbody tr th:only-of-type {\n",
       "        vertical-align: middle;\n",
       "    }\n",
       "\n",
       "    .dataframe tbody tr th {\n",
       "        vertical-align: top;\n",
       "    }\n",
       "\n",
       "    .dataframe thead th {\n",
       "        text-align: right;\n",
       "    }\n",
       "</style>\n",
       "<table border=\"1\" class=\"dataframe\">\n",
       "  <thead>\n",
       "    <tr style=\"text-align: right;\">\n",
       "      <th></th>\n",
       "      <th>num_unique_posters</th>\n",
       "      <th>avg_post_length</th>\n",
       "      <th>lexical_richness</th>\n",
       "      <th>term_distance_simple</th>\n",
       "      <th>total_term_count</th>\n",
       "      <th>total_term_count_hazard</th>\n",
       "      <th>total_term_count_product</th>\n",
       "    </tr>\n",
       "  </thead>\n",
       "  <tbody>\n",
       "    <tr>\n",
       "      <th>1</th>\n",
       "      <td>0.277778</td>\n",
       "      <td>200.353</td>\n",
       "      <td>120.208</td>\n",
       "      <td>143</td>\n",
       "      <td>0.0198656</td>\n",
       "      <td>0.00993281</td>\n",
       "      <td>0.00993281</td>\n",
       "    </tr>\n",
       "    <tr>\n",
       "      <th>7</th>\n",
       "      <td>0.1875</td>\n",
       "      <td>493.667</td>\n",
       "      <td>107.033</td>\n",
       "      <td>104</td>\n",
       "      <td>0.0202156</td>\n",
       "      <td>0.00808625</td>\n",
       "      <td>0.0121294</td>\n",
       "    </tr>\n",
       "    <tr>\n",
       "      <th>27</th>\n",
       "      <td>0.222222</td>\n",
       "      <td>523.75</td>\n",
       "      <td>170.738</td>\n",
       "      <td>48</td>\n",
       "      <td>0.034302</td>\n",
       "      <td>0.017151</td>\n",
       "      <td>0.017151</td>\n",
       "    </tr>\n",
       "    <tr>\n",
       "      <th>38</th>\n",
       "      <td>0.8</td>\n",
       "      <td>928.75</td>\n",
       "      <td>197.805</td>\n",
       "      <td>153</td>\n",
       "      <td>0.00322667</td>\n",
       "      <td>0.00215112</td>\n",
       "      <td>0.00107556</td>\n",
       "    </tr>\n",
       "    <tr>\n",
       "      <th>40</th>\n",
       "      <td>0.735294</td>\n",
       "      <td>223.939</td>\n",
       "      <td>182.328</td>\n",
       "      <td>87</td>\n",
       "      <td>0.0666846</td>\n",
       "      <td>0.00889128</td>\n",
       "      <td>0.0577933</td>\n",
       "    </tr>\n",
       "    <tr>\n",
       "      <th>...</th>\n",
       "      <td>...</td>\n",
       "      <td>...</td>\n",
       "      <td>...</td>\n",
       "      <td>...</td>\n",
       "      <td>...</td>\n",
       "      <td>...</td>\n",
       "      <td>...</td>\n",
       "    </tr>\n",
       "    <tr>\n",
       "      <th>6428</th>\n",
       "      <td>0.14433</td>\n",
       "      <td>343.42</td>\n",
       "      <td>164.697</td>\n",
       "      <td>211</td>\n",
       "      <td>0.65908</td>\n",
       "      <td>0.409384</td>\n",
       "      <td>0.249695</td>\n",
       "    </tr>\n",
       "    <tr>\n",
       "      <th>6444</th>\n",
       "      <td>0.211009</td>\n",
       "      <td>421.657</td>\n",
       "      <td>145.405</td>\n",
       "      <td>327</td>\n",
       "      <td>0.30048</td>\n",
       "      <td>0.191645</td>\n",
       "      <td>0.108835</td>\n",
       "    </tr>\n",
       "    <tr>\n",
       "      <th>6498</th>\n",
       "      <td>0.636364</td>\n",
       "      <td>467.333</td>\n",
       "      <td>188.526</td>\n",
       "      <td>7</td>\n",
       "      <td>0.0448399</td>\n",
       "      <td>0.0256228</td>\n",
       "      <td>0.0192171</td>\n",
       "    </tr>\n",
       "    <tr>\n",
       "      <th>6502</th>\n",
       "      <td>0.875</td>\n",
       "      <td>426.143</td>\n",
       "      <td>146.963</td>\n",
       "      <td>74</td>\n",
       "      <td>0.0327759</td>\n",
       "      <td>0.0187291</td>\n",
       "      <td>0.0140468</td>\n",
       "    </tr>\n",
       "    <tr>\n",
       "      <th>6521</th>\n",
       "      <td>0.692308</td>\n",
       "      <td>483.083</td>\n",
       "      <td>138.818</td>\n",
       "      <td>39</td>\n",
       "      <td>0.0165261</td>\n",
       "      <td>0.00206576</td>\n",
       "      <td>0.0144603</td>\n",
       "    </tr>\n",
       "  </tbody>\n",
       "</table>\n",
       "<p>686 rows × 7 columns</p>\n",
       "</div>"
      ],
      "text/plain": [
       "     num_unique_posters avg_post_length lexical_richness term_distance_simple  \\\n",
       "1              0.277778         200.353          120.208                  143   \n",
       "7                0.1875         493.667          107.033                  104   \n",
       "27             0.222222          523.75          170.738                   48   \n",
       "38                  0.8          928.75          197.805                  153   \n",
       "40             0.735294         223.939          182.328                   87   \n",
       "...                 ...             ...              ...                  ...   \n",
       "6428            0.14433          343.42          164.697                  211   \n",
       "6444           0.211009         421.657          145.405                  327   \n",
       "6498           0.636364         467.333          188.526                    7   \n",
       "6502              0.875         426.143          146.963                   74   \n",
       "6521           0.692308         483.083          138.818                   39   \n",
       "\n",
       "     total_term_count total_term_count_hazard total_term_count_product  \n",
       "1           0.0198656              0.00993281               0.00993281  \n",
       "7           0.0202156              0.00808625                0.0121294  \n",
       "27           0.034302                0.017151                 0.017151  \n",
       "38         0.00322667              0.00215112               0.00107556  \n",
       "40          0.0666846              0.00889128                0.0577933  \n",
       "...               ...                     ...                      ...  \n",
       "6428          0.65908                0.409384                 0.249695  \n",
       "6444          0.30048                0.191645                 0.108835  \n",
       "6498        0.0448399               0.0256228                0.0192171  \n",
       "6502        0.0327759               0.0187291                0.0140468  \n",
       "6521        0.0165261              0.00206576                0.0144603  \n",
       "\n",
       "[686 rows x 7 columns]"
      ]
     },
     "execution_count": 28,
     "metadata": {},
     "output_type": "execute_result"
    }
   ],
   "source": [
    "nmdf[nmdf.columns[nmdf.columns.isin(nm_indicators)]].loc[nmdf.term_distance_simple.notnull()]"
   ]
  },
  {
   "cell_type": "markdown",
   "metadata": {},
   "source": [
    "### Graph of Only Term Counts"
   ]
  },
  {
   "cell_type": "code",
   "execution_count": 29,
   "metadata": {},
   "outputs": [
    {
     "data": {
      "text/plain": [
       "<matplotlib.collections.PathCollection at 0x12a9b0790>"
      ]
     },
     "execution_count": 29,
     "metadata": {},
     "output_type": "execute_result"
    },
    {
     "data": {
      "image/png": "[encoded data removed]",
      "text/plain": [
       "<Figure size 432x288 with 1 Axes>"
      ]
     },
     "metadata": {
      "needs_background": "light"
     },
     "output_type": "display_data"
    }
   ],
   "source": [
    "view = nmdf.loc[nmdf.total_term_count_hazard <1].loc[nmdf.total_term_count_product <1]\n",
    "plt.scatter(view.total_term_count_hazard, view.total_term_count_product)"
   ]
  },
  {
   "cell_type": "code",
   "execution_count": 30,
   "metadata": {},
   "outputs": [],
   "source": [
    "a = nmdf.dropna()['term_distance_simple']\n",
    "b = nmdf.dropna()['lexical_richness']"
   ]
  },
  {
   "cell_type": "code",
   "execution_count": 31,
   "metadata": {},
   "outputs": [],
   "source": [
    "tempdf = pd.DataFrame([list(a),list(b)]).transpose()\n",
    "tempdf = tempdf.rename(columns={0:'term', 1:'lex'})"
   ]
  },
  {
   "cell_type": "code",
   "execution_count": 32,
   "metadata": {},
   "outputs": [],
   "source": [
    "blah = nmdf.term_distance_simple / ( nmdf.avg_post_length * nmdf.available_comments)"
   ]
  },
  {
   "cell_type": "code",
   "execution_count": 33,
   "metadata": {},
   "outputs": [],
   "source": [
    "a = blah.dropna()\n",
    "\n",
    "tempdf = pd.DataFrame([list(a),list(b)]).transpose()\n",
    "tempdf = tempdf.rename(columns={0:'term', 1:'lex'})"
   ]
  },
  {
   "cell_type": "markdown",
   "metadata": {},
   "source": [
    "# Final Set of Criterion\n",
    "\n",
    " * year >= 2016\n",
    " * non-zero occurences of both a product and a hazard term\n",
    " * distance between product and hazard is below the 95th percentile.\n",
    " \n",
    " * if this approach proves not to yield results, we can instead attempt to take a subset based on the subforum which results occur in !"
   ]
  },
  {
   "cell_type": "markdown",
   "metadata": {},
   "source": [
    "# Basic Descriptive Statistics\n"
   ]
  },
  {
   "cell_type": "markdown",
   "metadata": {},
   "source": [
    "## Netmums"
   ]
  },
  {
   "cell_type": "code",
   "execution_count": 34,
   "metadata": {},
   "outputs": [],
   "source": [
    "#get the sub foruma nd sub sub forum that results are in \n",
    "site_area = view.url.str.extract('netmums.com\\/coffeehouse\\/(?P<subforum>[^\\/]+)\\/(?P<subsubforum>[^\\/]+)')"
   ]
  },
  {
   "cell_type": "code",
   "execution_count": 35,
   "metadata": {},
   "outputs": [
    {
     "data": {
      "text/plain": [
       "<AxesSubplot:>"
      ]
     },
     "execution_count": 35,
     "metadata": {},
     "output_type": "execute_result"
    },
    {
     "data": {
      "image/png": "[encoded data removed]",
      "text/plain": [
       "<Figure size 432x288 with 1 Axes>"
      ]
     },
     "metadata": {
      "needs_background": "light"
     },
     "output_type": "display_data"
    }
   ],
   "source": [
    "site_area['subforum'].value_counts().plot.barh()"
   ]
  },
  {
   "cell_type": "code",
   "execution_count": 36,
   "metadata": {},
   "outputs": [
    {
     "data": {
      "text/plain": [
       "<AxesSubplot:>"
      ]
     },
     "execution_count": 36,
     "metadata": {},
     "output_type": "execute_result"
    },
    {
     "data": {
      "image/png": "[encoded data removed]",
      "text/plain": [
       "<Figure size 360x1080 with 1 Axes>"
      ]
     },
     "metadata": {
      "needs_background": "light"
     },
     "output_type": "display_data"
    }
   ],
   "source": [
    "site_area['subsubforum'].value_counts().plot.barh(figsize=(5,15))"
   ]
  },
  {
   "cell_type": "code",
   "execution_count": 37,
   "metadata": {},
   "outputs": [
    {
     "data": {
      "image/png": "[encoded data removed]",
      "text/plain": [
       "<Figure size 432x288 with 1 Axes>"
      ]
     },
     "metadata": {
      "needs_background": "light"
     },
     "output_type": "display_data"
    }
   ],
   "source": [
    "plt.hist([i for i in view.term_distance_simple if i], bins=200)\n",
    "plt.yscale('log')"
   ]
  },
  {
   "cell_type": "code",
   "execution_count": 38,
   "metadata": {},
   "outputs": [
    {
     "data": {
      "text/plain": [
       "array([  43.  ,  169.  ,  480.75, 1784.6 ])"
      ]
     },
     "execution_count": 38,
     "metadata": {},
     "output_type": "execute_result"
    }
   ],
   "source": [
    "np.quantile([i for i in view.term_distance_simple if i], [0.25,0.5,0.75, 0.95])"
   ]
  },
  {
   "cell_type": "markdown",
   "metadata": {},
   "source": [
    "### Export the Keys for our Desired Subset."
   ]
  },
  {
   "cell_type": "code",
   "execution_count": 39,
   "metadata": {},
   "outputs": [],
   "source": [
    "#export the keys #TODO\n",
    "temp = nmdf.loc[nmdf.total_term_count_hazard > 0].loc[nmdf.total_term_count_product > 0].loc[nmdf.post_time >= time_cutoff].loc[nmdf.term_distance_simple <= 491]"
   ]
  },
  {
   "cell_type": "code",
   "execution_count": 40,
   "metadata": {},
   "outputs": [],
   "source": [
    "with open('netmums_subset_keys.txt','w') as f:\n",
    "\tf.writelines([i + \"\\n\" for i in list(temp.url)])"
   ]
  },
  {
   "cell_type": "markdown",
   "metadata": {},
   "source": [
    "# Clean Text\n",
    "We now construct our subset form the desired keys and then process the text.\n",
    "* remove typos of relevant words using Levenshtein Distances\n",
    "* replace tokens for specific foods and brands with their category, after compiling lists of these terms using word2vec\n",
    "    * replace tokens for all types of fruits with fruit\n",
    "    * replace tokens for all types of vegetable with vegetable\n",
    "    * replace tokens for all types of grains with \"cereal\" (???) should I??"
   ]
  },
  {
   "cell_type": "markdown",
   "metadata": {},
   "source": [
    "### Setup: Create Lists for Revelant Terms"
   ]
  },
  {
   "cell_type": "code",
   "execution_count": 41,
   "metadata": {},
   "outputs": [],
   "source": [
    "baby_formula = \\\n",
    "['nutramigen',\n",
    " 'neocate',\n",
    " 'powdered milk',\n",
    " 'infasoy',\n",
    " 'comfort milk', #brand name which people dont write formula alongside\n",
    " 'sma' \n",
    "]\n",
    "\n",
    "baby_cereal = \\\n",
    "['baby rice '#this one is really useful / important. idk how exactly to handle it.\n",
    "'rusks' #a cereal food for babies to teethe with\n",
    "]\n",
    "\n",
    "cereal = \\\n",
    "['cornflakes',\n",
    "'muesli',\n",
    "'bran flakes',\n",
    "'cheerios',\n",
    "'shreddies',\n",
    "'weetabix',\n",
    "'ready brek',\n",
    "'rice pudding',\n",
    "'rice'\n",
    "]\n",
    "\n",
    "fruit = \\\n",
    "['banana',\n",
    "'berries',\n",
    "'blueberries',\n",
    "'raisins',\n",
    "'apples',\n",
    "'pear',\n",
    "'strawberries',\n",
    "'pineapple', \n",
    "'raspberries',\n",
    "'mango', \n",
    "'prunes', \n",
    "'grapefruit']\n",
    "\n",
    "veg = \\\n",
    "['mushroom', \n",
    "'red_pepper',\n",
    "'green_beans', \n",
    "'courgette', \n",
    "'broccoli', \n",
    "'tomato',\n",
    "'parsnips', \n",
    "'greens', \n",
    "'potato', \n",
    "'carrots',\n",
    "'broccoli',\n",
    "'cucumber', \n",
    "'peas', \n",
    "'tomatoes', \n",
    "'sweet_potato',\n",
    "'sweetcorn', \n",
    "'corn', \n",
    "'spinach', \n",
    "'cauliflower',\n",
    "'butternut squash', \n",
    "'beetroot',\n",
    "'squash']"
   ]
  },
  {
   "cell_type": "code",
   "execution_count": 42,
   "metadata": {},
   "outputs": [],
   "source": [
    "foodwords = [\n",
    "#infant formula\n",
    "\"formula\",\"baby formula\", \"bottle-fed\", \"bottle\",\n",
    "#sterizlized vegetable mixed with fish\n",
    "\"veggie baby food\",\"vegetable baby food\",\n",
    "\"veg puree\", \"veg purée\",\n",
    "#fresh fruit puree mildly processed\n",
    "\"fruit puree\",\"fruit baby food\", \"fruit purée\", \"applesauce\",\n",
    "#infant cereals\n",
    "\"cereal for baby\", \"cereal\", \"porridge\", \"oats\", \"oatmeal\",\n",
    "#other\n",
    "\"jar food\", \"baby food\", \"jarred\", \"premade food\", \"puree\", \"purée\", \"jarred food\"\n",
    ",\"yoghurt\", \"pudding\"]\n",
    "\n",
    "hazardwords = [\"Chemical contaminants\",#ENDOCRINE DISRUPTOR\n",
    "\"Endocrine disruptor\",\"endocrine\",\"estrogen\",#end\n",
    "#FOOD PRESERVATIVES, SWEETENERS AND ADDITIVES\n",
    "\"preservatives\",\"sweeteners\",\"additives\", #end\n",
    "\"Pesticides\",#VETERINARY DRUGS\n",
    "\"Veterinary drugs\",\"animal drugs\",\"vet drugs\", #end\n",
    "#GMO\n",
    "\"GMO\", \"genetically modified\",#end\n",
    "\"Metals\",\"Mycotoxin\",#BISPHENOL A\n",
    "\"Bisphenol\",\"BPA\", #end\n",
    "#FURAN - removed because nothing related to this returns results\n",
    "#DON (note that this acronym nobody uses and all results are from words like \"don't\")\n",
    "\"deoxynivalenol\",\"vomitoxin\",#end\n",
    "#DIOXIN AND PCB\n",
    "\"Dioxin\",\"PCB\",\"biphenyls\",#end\n",
    "#MOH\n",
    "\"MOH\",\"hydrocarbons\",\"saturated hydrocarbons\",\"MOAH\",\"aromatic hydrocarbons\",#end\n",
    "\"Nitrates\",\n",
    "#ACRYLAMID\n",
    "\"Acrylamide\",\n",
    "\"phthalates\",\n",
    "#MICROBIOLOGIC CONTAMINANTS\n",
    "\"Microbiologic contaminants\",\"spores\",\"mold\",\"mould\",\"virus\",\"microbes\",\"contaminated\",#end\n",
    "\"Salmonella\",\"Campylobacter\",\"Listeria\",\n",
    "#ECOLI\n",
    "\"EColi\",\n",
    "\"Cronobacter\",\n",
    "\"Histamine\",\n",
    "#other bacteria\n",
    "\"bacteria\",#end\n",
    "\"Virus\",\n",
    "\"Parasites\",\n",
    "#UNRELATED BUT MAYBE USEFUL?\n",
    "\"carcinogen\",\"chemicals\", \"toxic\", \"toxin\", \"poisonous\", \"fungus\", \"food poisoning\", \"hazard\",\"EFSA\",\"European Food Safety Authority\"]"
   ]
  },
  {
   "cell_type": "markdown",
   "metadata": {},
   "source": [
    "### Setup: Define Functions"
   ]
  },
  {
   "cell_type": "code",
   "execution_count": 52,
   "metadata": {},
   "outputs": [],
   "source": [
    "import fuzzy_typos"
   ]
  },
  {
   "cell_type": "code",
   "execution_count": 53,
   "metadata": {},
   "outputs": [],
   "source": [
    "typos_to_fix_or_replace = veg + fruit + cereal + baby_formula + baby_cereal\n",
    "typos_to_fix_or_replace = {word for phrase in typos_to_fix_or_replace for word in phrase.split()} #typos to fix and single tokens to replace\n",
    "\n",
    "replacements_dictionary = {'vegetable':veg, 'fruit':fruit, 'cereal':cereal, 'baby cereal':baby_cereal, 'baby formula': baby_formula}\n",
    "\n",
    "remaining_words_to_replace = {key:[item for item in value if ' ' in item] for key, value in replacements_dictionary.items()}"
   ]
  },
  {
   "cell_type": "code",
   "execution_count": 54,
   "metadata": {},
   "outputs": [],
   "source": [
    "fix_and_replace_tokens = fuzzy_typos.fuzzy_typos(typos_to_fix_or_replace, replacements_dictionary)\n",
    "replace_phrases = fuzzy_typos.replacements(remaining_words_to_replace)"
   ]
  },
  {
   "cell_type": "markdown",
   "metadata": {},
   "source": [
    "### Setup: Parallel Processing"
   ]
  },
  {
   "cell_type": "code",
   "execution_count": 55,
   "metadata": {},
   "outputs": [],
   "source": [
    "from joblib import Parallel, delayed\n",
    "import time"
   ]
  },
  {
   "cell_type": "code",
   "execution_count": 56,
   "metadata": {},
   "outputs": [],
   "source": [
    "keys = list(nm_ind.text_dict.keys())\n",
    "num_keys = len(keys)\n",
    "num_lists = 20 #how many instances will be split for parallel processing\n",
    "list_of_list_of_keys = [keys[slice(i,num_keys,num_lists)] for i in range(num_lists)]\n",
    "\n",
    "def get_small_dict(list_of_keys): #we give process small dicts because o.w. the whole dict (a global) will get duplicated in each instance\n",
    "    return {key: netmums[key] for key in list_of_keys}\n",
    "\n",
    "def process(typofixer,replacer,small_dict): #now process takes two objects\n",
    "    #approx 1.5x slower than the text_dict way.\n",
    "    #THE RELEVANT THINGS:\n",
    "    #netmums[blah]['title']\n",
    "    #netmums[blah]['posts'][n]['body']\n",
    "    #netmums[blah]['posts'][n]['quotes_w']\n",
    "    #netmums[blah]['posts'][n]['quotes_y']['text']\n",
    "    for key, value in small_dict.items():\n",
    "        small_dict[key]['title'] = typofixer.fix_typos(small_dict[key]['title'])\n",
    "        for ind, item in enumerate(small_dict[key]['posts']): #a list of dicts\n",
    "            if item['body']:\n",
    "                small_dict[key]['posts'][ind]['body'] = replacer.replace_all(typofixer.fix_typos(item['body']))\n",
    "            if item['quotes_w']:\n",
    "                for qind, quote in enumerate(item['quotes_w']):\n",
    "                    small_dict[key]['posts'][ind]['quotes_w'][qind] = replacer.replace_all(typofixer.fix_typos(quote))\n",
    "            if item['quotes_y']:\n",
    "                for qind, quote in enumerate(item['quotes_y']):\n",
    "                    small_dict[key]['posts'][ind]['quotes_y'][qind]['text'] = replacer.replace_all(typofixer.fix_typos(quote['text']))     \n",
    "    return small_dict"
   ]
  },
  {
   "cell_type": "code",
   "execution_count": 57,
   "metadata": {},
   "outputs": [],
   "source": [
    "list_of_small_dict = [get_small_dict(i) for i in list_of_list_of_keys]"
   ]
  },
  {
   "cell_type": "markdown",
   "metadata": {},
   "source": [
    "### Finally Running It"
   ]
  },
  {
   "cell_type": "code",
   "execution_count": null,
   "metadata": {},
   "outputs": [],
   "source": [
    "start = time.time()\n",
    "results = Parallel(n_jobs=-1)(delayed(process)(fix_and_replace_tokens,replace_phrases,i) for i in list_of_small_dict)\n",
    "end = time.time()\n",
    "print('default food words time: ' + str(end - start),)\n",
    "%notify"
   ]
  },
  {
   "cell_type": "code",
   "execution_count": null,
   "metadata": {
    "scrolled": true
   },
   "outputs": [],
   "source": [
    "untypod_dict = {key:value for dictionary in results for key,value in dictionary.items()}"
   ]
  },
  {
   "cell_type": "code",
   "execution_count": null,
   "metadata": {},
   "outputs": [],
   "source": [
    "with open('untypod_dict.pkl', 'wb') as f:\n",
    "    pk.dump(untypod_dict, 'wb')"
   ]
  },
  {
   "cell_type": "code",
   "execution_count": null,
   "metadata": {},
   "outputs": [],
   "source": []
  }
 ],
 "metadata": {
  "kernelspec": {
   "display_name": "Python 3",
   "language": "python",
   "name": "python3"
  },
  "language_info": {
   "codemirror_mode": {
    "name": "ipython",
    "version": 3
   },
   "file_extension": ".py",
   "mimetype": "text/x-python",
   "name": "python",
   "nbconvert_exporter": "python",
   "pygments_lexer": "ipython3",
   "version": "3.8.5"
  }
 },
 "nbformat": 4,
 "nbformat_minor": 4
}
