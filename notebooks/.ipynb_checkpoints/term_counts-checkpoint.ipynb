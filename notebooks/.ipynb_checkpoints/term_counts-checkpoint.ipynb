{
 "cells": [
  {
   "cell_type": "code",
   "execution_count": 1,
   "metadata": {},
   "outputs": [],
   "source": [
    "import os\n",
    "import sys\n",
    "import pickle as pk\n",
    "import numpy as np"
   ]
  },
  {
   "cell_type": "code",
   "execution_count": 2,
   "metadata": {},
   "outputs": [
    {
     "data": {
      "text/plain": [
       "['metrics_helpers.py',\n",
       " 'organized.ipynb',\n",
       " 'debug_netmums_scrape_135results.py',\n",
       " 'Untitled.ipynb',\n",
       " 'term_counts.ipynb',\n",
       " '.ipynb_checkpoints']"
      ]
     },
     "execution_count": 2,
     "metadata": {},
     "output_type": "execute_result"
    }
   ],
   "source": [
    "os.listdir()"
   ]
  },
  {
   "cell_type": "code",
   "execution_count": 3,
   "metadata": {},
   "outputs": [],
   "source": [
    "if 'term_counts.ipynb' in os.listdir():\n",
    "    os.chdir('../')"
   ]
  },
  {
   "cell_type": "code",
   "execution_count": 4,
   "metadata": {},
   "outputs": [],
   "source": [
    "from facebook import facebook_helper as facehelp\n",
    "from netmums import scrapehelpers as scr"
   ]
  },
  {
   "cell_type": "code",
   "execution_count": 5,
   "metadata": {},
   "outputs": [
    {
     "data": {
      "text/plain": [
       "['sp_search_results_temp.pkl',\n",
       " 'fb_data_searchscrape_BACKUP.pkl',\n",
       " 'ddg_search_results_temp.pkl',\n",
       " 'manual_search_resdict.pkl',\n",
       " 'fb_safety.pkl',\n",
       " 'google_search_results.pkl',\n",
       " 'specific_fb_groups.pkl',\n",
       " 'fb_search_results.pkl',\n",
       " 'fb_data_searchscrape.pkl',\n",
       " 'few-google_search_results_temp.pkl',\n",
       " 'google_search_results_temp.pkl',\n",
       " 'specific_fb_pages.pkl']"
      ]
     },
     "execution_count": 5,
     "metadata": {},
     "output_type": "execute_result"
    }
   ],
   "source": [
    "[file for file in os.listdir('facebook/') if file.endswith('.pkl')]"
   ]
  },
  {
   "cell_type": "code",
   "execution_count": 6,
   "metadata": {},
   "outputs": [
    {
     "data": {
      "text/plain": [
       "['basicblurbs.pkl',\n",
       " 'allposts_rerun.pkl',\n",
       " 'allposts2.pkl',\n",
       " 'allposts.pkl',\n",
       " 'basicblurbs2.pkl']"
      ]
     },
     "execution_count": 6,
     "metadata": {},
     "output_type": "execute_result"
    }
   ],
   "source": [
    "[file for file in os.listdir('netmums/') if file.endswith('.pkl')]"
   ]
  },
  {
   "cell_type": "code",
   "execution_count": 7,
   "metadata": {},
   "outputs": [],
   "source": [
    "#Load Datasets\n",
    "with open('facebook/fb_data_searchscrape.pkl', 'rb') as f:\n",
    "    fb_search = pk.load(f)\n",
    "with open('facebook/specific_fb_pages.pkl', 'rb') as f:\n",
    "    pages = pk.load(f)\n",
    "with open('facebook/specific_fb_groups.pkl', 'rb') as f:\n",
    "    groups = pk.load(f)\n",
    "with open('netmums/allposts_rerun.pkl', 'rb') as f:\n",
    "    netmums = pk.load(f)"
   ]
  },
  {
   "cell_type": "code",
   "execution_count": 8,
   "metadata": {},
   "outputs": [],
   "source": [
    "with open('facebook/manual_search_resdict.pkl', 'rb') as f:\n",
    "    fb_resultdict = pk.load(f)"
   ]
  },
  {
   "cell_type": "code",
   "execution_count": 9,
   "metadata": {},
   "outputs": [],
   "source": [
    "#i made a mistake when creating the facebook data so I need to fix it.\n",
    "fb_urldict = facehelp.resultsdict_to_urldict(fb_resultdict)\n",
    "#we need to add the query backin for each.\n",
    "for key in fb_urldict.keys():\n",
    "    #both dicts should have the exact same keys\n",
    "    if key in fb_search.keys() and type(fb_search[key]) is list:\n",
    "        fb_search[key] = {'query':fb_urldict[key]['query'], 'data':fb_search[key]}"
   ]
  },
  {
   "cell_type": "code",
   "execution_count": 10,
   "metadata": {},
   "outputs": [],
   "source": [
    "#netmums remove 404'd pages\n",
    "nmkeys = list(netmums.keys())\n",
    "emptykeys = []\n",
    "for key in netmums.keys():\n",
    "    if len(netmums[key]['posts']) == 0:\n",
    "        emptykeys.append(key)\n",
    "        \n",
    "for key in emptykeys:   \n",
    "    netmums.pop(key, None)\n",
    "    \n",
    "nmkeys = list(netmums.keys())"
   ]
  },
  {
   "cell_type": "code",
   "execution_count": 11,
   "metadata": {},
   "outputs": [
    {
     "name": "stdout",
     "output_type": "stream",
     "text": [
      "447 5 5 6497\n"
     ]
    }
   ],
   "source": [
    "print(len(fb_search),\n",
    "len(pages),\n",
    "len(groups),\n",
    "len(netmums)\n",
    "     )"
   ]
  },
  {
   "cell_type": "code",
   "execution_count": 12,
   "metadata": {},
   "outputs": [],
   "source": [
    "import re\n",
    "import matplotlib.pyplot as plt"
   ]
  },
  {
   "cell_type": "code",
   "execution_count": 13,
   "metadata": {},
   "outputs": [],
   "source": [
    "search_posts = [key for key in fb_search.keys() if re.search('posts/[^?]+',key)]\n",
    "search_pages = [key for key in fb_search.keys() if not re.search('posts/[^?]+',key)]"
   ]
  },
  {
   "cell_type": "code",
   "execution_count": 14,
   "metadata": {},
   "outputs": [],
   "source": [
    "import pandas as pd"
   ]
  },
  {
   "cell_type": "markdown",
   "metadata": {},
   "source": [
    "## Stats for Number of Word Occurences\n",
    "\n",
    "we generate counts for out terms of interest per document. Where a document is considered as all the text of a given facebook post (incl comments) or netmums thread.\n",
    "\n",
    "\n",
    "TODO: use stemming or some other method to capture instances of words in a cleaner way."
   ]
  },
  {
   "cell_type": "code",
   "execution_count": 15,
   "metadata": {},
   "outputs": [],
   "source": [
    "from sklearn.feature_extraction.text import CountVectorizer"
   ]
  },
  {
   "cell_type": "code",
   "execution_count": 17,
   "metadata": {},
   "outputs": [],
   "source": [
    "def get_counts_from_text_dict(text_dict):\n",
    "\tvocab = scr.get_concerns() + scr.get_foods()\n",
    "\tvocab = {substring.lower().strip() for item in vocab for substring in item.split()}\n",
    "\tterm_counter = CountVectorizer(vocabulary = vocab, stop_words = 'english')\n",
    "\treturn term_counter.fit_transform(text_dict.values()), term_counter"
   ]
  },
  {
   "cell_type": "markdown",
   "metadata": {},
   "source": [
    "## Facebook"
   ]
  },
  {
   "cell_type": "code",
   "execution_count": 96,
   "metadata": {},
   "outputs": [],
   "source": [
    "#make a dict of just the strings\n",
    "#HOW:\n",
    "#get a list of all posts in the value\n",
    "#from that extract post_text, text, and a flattened string from lsit of comments_full\n",
    "#join all those into one large string so we have ONE DOCUMENT PER PAGE/POST (whichever query we had.)\n",
    "\n",
    "textdict = {key: ' '.join([str(item['post_text']) for item in value['data']] + \\\n",
    "\t[str(item['text']) for item in value['data']] + \\\n",
    "\t[' '.join([str(c['comment_text']) for c in item['comments_full']]) for item in value['data'] if item['comments_full']]\n",
    "\t) for key, value in fb_search.items()}\n"
   ]
  },
  {
   "cell_type": "code",
   "execution_count": 113,
   "metadata": {},
   "outputs": [],
   "source": [
    "fb_spars, term_counter = get_counts_from_text_dict(textdict)"
   ]
  },
  {
   "cell_type": "code",
   "execution_count": 114,
   "metadata": {},
   "outputs": [
    {
     "data": {
      "text/plain": [
       "array([    0,     0,     3,   596,  1249,    15,     6,   151, 48485,\n",
       "        2165,     6,    17, 14642,     0,   324,    31,    23,  2508,\n",
       "         947,  1205,    11,   177,    11,     0,    10,     5,   984,\n",
       "           0,    29,    10,    40,    16,   111, 35618,     0, 10351,\n",
       "       15617,    70,    54,    67,    29,   370,   217,     1,  1641,\n",
       "         157,   332,    44,    15,     0,     0,    77,    16,   131,\n",
       "        1058,     1,    20,   108,  1031,    84,    14,   137,     9,\n",
       "         864,   105,  2614,    76,   420,  1894,  1483,   328,   924,\n",
       "         319,   191,   110,   559,   663,    49,  8613,   617,  1304,\n",
       "         782,    46,  1150,     0,  2700])"
      ]
     },
     "execution_count": 114,
     "metadata": {},
     "output_type": "execute_result"
    }
   ],
   "source": [
    "#examine result\n",
    "term_counter.vocabulary_ #dict of index numbers for different features\n",
    "\n",
    "total_term_frequency = np.sum(fb_spars.toarray(), axis=0)\n",
    "tf_per_doc = np.sum(fb_spars.toarray(), axis=1)\n",
    "\n",
    "\n",
    "total_results = {key: total_term_frequency[value] for key, value in term_counter.vocabulary_.items()}\n",
    "total_per_doc = {key: tf_per_doc[num] for num, key in enumerate(textdict.keys())}\n",
    "\n",
    "##create a dataframe of it??\n",
    "##TODO\n",
    "#count_results = {key: }\n",
    "\n",
    "total_term_frequency"
   ]
  },
  {
   "cell_type": "code",
   "execution_count": 100,
   "metadata": {},
   "outputs": [
    {
     "data": {
      "text/plain": [
       "Text(0.5, 1.0, 'total number of occurences of terms per post (log scale)')"
      ]
     },
     "execution_count": 100,
     "metadata": {},
     "output_type": "execute_result"
    },
    {
     "data": {
      "image/png": "[encoded data removed]",
      "text/plain": [
       "<Figure size 576x1008 with 1 Axes>"
      ]
     },
     "metadata": {
      "needs_background": "light"
     },
     "output_type": "display_data"
    }
   ],
   "source": [
    "temp_items = list(zip(*sorted(total_results.items())))\n",
    "\n",
    "plt.figure(figsize=(8,14))\n",
    "plt.xscale('log')\n",
    "plt.grid(axis='x')\n",
    "plt.barh(temp_items[0], temp_items[1])\n",
    "plt.title('total number of occurences of terms per post (log scale)')"
   ]
  },
  {
   "cell_type": "code",
   "execution_count": 101,
   "metadata": {},
   "outputs": [
    {
     "data": {
      "text/plain": [
       "Text(0.5, 1.0, 'total number of occurences of terms per post')"
      ]
     },
     "execution_count": 101,
     "metadata": {},
     "output_type": "execute_result"
    },
    {
     "data": {
      "image/png": "[encoded data removed]",
      "text/plain": [
       "<Figure size 432x288 with 1 Axes>"
      ]
     },
     "metadata": {
      "needs_background": "light"
     },
     "output_type": "display_data"
    }
   ],
   "source": [
    "plt.hist(tf_per_doc, bins=100)\n",
    "plt.yscale('log')\n",
    "plt.title('total number of occurences of terms per post')"
   ]
  },
  {
   "cell_type": "markdown",
   "metadata": {},
   "source": [
    "## Netmums"
   ]
  },
  {
   "cell_type": "code",
   "execution_count": 18,
   "metadata": {},
   "outputs": [],
   "source": [
    "textdict = {key: value['title'] + ' ' + \\\n",
    "\t' '.join([str(item['body']) for item in value['posts']]) for key, value in netmums.items()}\n",
    "\n",
    "urltextdict = {key: ' '.join([' '.join([subitem for subitem in item['body_urls']]) for item in value['posts']]) for key, value in netmums.items()}"
   ]
  },
  {
   "cell_type": "code",
   "execution_count": 19,
   "metadata": {},
   "outputs": [],
   "source": [
    "nm_spars, term_counter = get_counts_from_text_dict(textdict)"
   ]
  },
  {
   "cell_type": "code",
   "execution_count": 20,
   "metadata": {},
   "outputs": [
    {
     "data": {
      "text/plain": [
       "array([    0,     0,     3,   596,  1249,    15,     6,   151, 48485,\n",
       "        2165,     6,    17, 14642,     0,   324,    31,    23,  2508,\n",
       "         947,  1205,    11,   177,    11,     0,    10,     5,   984,\n",
       "           0,    29,    10,    40,    16,   111, 35618,     0, 10351,\n",
       "       15617,    70,    54,    67,    29,   370,   217,     1,  1641,\n",
       "         157,   332,    44,    15,     0,     0,    77,    16,   131,\n",
       "        1058,     1,    20,   108,  1031,    84,    14,   137,     9,\n",
       "         864,   105,  2614,    76,   420,  1894,  1483,   328,   924,\n",
       "         319,   191,   110,   559,   663,    49,  8613,   617,  1304,\n",
       "         782,    46,  1150,     0,  2700])"
      ]
     },
     "execution_count": 20,
     "metadata": {},
     "output_type": "execute_result"
    }
   ],
   "source": [
    "#examine result\n",
    "term_counter.vocabulary_ #dict of index numbers for different features\n",
    "\n",
    "total_term_frequency = np.sum(nm_spars.toarray(), axis=0)\n",
    "tf_per_doc = np.sum(nm_spars.toarray(), axis=1)\n",
    "\n",
    "\n",
    "total_results = {key: total_term_frequency[value] for key, value in term_counter.vocabulary_.items()}\n",
    "total_per_doc = {key: tf_per_doc[num] for num, key in enumerate(textdict.keys())}\n",
    "\n",
    "\n",
    "total_term_frequency"
   ]
  },
  {
   "cell_type": "code",
   "execution_count": 22,
   "metadata": {},
   "outputs": [
    {
     "data": {
      "text/plain": [
       "array([68,  4, 28, ...,  2,  8,  4])"
      ]
     },
     "execution_count": 22,
     "metadata": {},
     "output_type": "execute_result"
    }
   ],
   "source": [
    "tf_per_doc"
   ]
  },
  {
   "cell_type": "code",
   "execution_count": 23,
   "metadata": {},
   "outputs": [
    {
     "data": {
      "text/plain": [
       "Text(0.5, 1.0, 'total number of occurences of terms per post (log scale)')"
      ]
     },
     "execution_count": 23,
     "metadata": {},
     "output_type": "execute_result"
    },
    {
     "data": {
      "image/png": "[encoded data removed]",
      "text/plain": [
       "<Figure size 576x1008 with 1 Axes>"
      ]
     },
     "metadata": {
      "needs_background": "light"
     },
     "output_type": "display_data"
    }
   ],
   "source": [
    "temp_items = list(zip(*sorted(total_results.items())))\n",
    "\n",
    "plt.figure(figsize=(8,14))\n",
    "plt.xscale('log')\n",
    "plt.grid(axis='x')\n",
    "plt.barh(temp_items[0], temp_items[1])\n",
    "plt.title('total number of occurences of terms per post (log scale)')"
   ]
  },
  {
   "cell_type": "code",
   "execution_count": 24,
   "metadata": {},
   "outputs": [
    {
     "ename": "NameError",
     "evalue": "name 'nmurl_spars' is not defined",
     "output_type": "error",
     "traceback": [
      "\u001b[0;31m---------------------------------------------------------------------------\u001b[0m",
      "\u001b[0;31mNameError\u001b[0m                                 Traceback (most recent call last)",
      "\u001b[0;32m<ipython-input-24-c5d08e12eda4>\u001b[0m in \u001b[0;36m<module>\u001b[0;34m\u001b[0m\n\u001b[0;32m----> 1\u001b[0;31m \u001b[0;32mdel\u001b[0m \u001b[0mnmurl_spars\u001b[0m\u001b[0;34m\u001b[0m\u001b[0;34m\u001b[0m\u001b[0m\n\u001b[0m\u001b[1;32m      2\u001b[0m \u001b[0;32mdel\u001b[0m \u001b[0mnm_spars\u001b[0m\u001b[0;34m\u001b[0m\u001b[0;34m\u001b[0m\u001b[0m\n\u001b[1;32m      3\u001b[0m \u001b[0;32mdel\u001b[0m \u001b[0murlterm_counter\u001b[0m\u001b[0;34m\u001b[0m\u001b[0;34m\u001b[0m\u001b[0m\n\u001b[1;32m      4\u001b[0m \u001b[0;32mdel\u001b[0m \u001b[0mterm_counter\u001b[0m\u001b[0;34m\u001b[0m\u001b[0;34m\u001b[0m\u001b[0m\n",
      "\u001b[0;31mNameError\u001b[0m: name 'nmurl_spars' is not defined"
     ]
    }
   ],
   "source": [
    "del nmurl_spars\n",
    "del nm_spars\n",
    "del urlterm_counter\n",
    "del term_counter"
   ]
  },
  {
   "cell_type": "code",
   "execution_count": 25,
   "metadata": {},
   "outputs": [
    {
     "data": {
      "text/plain": [
       "array([   0,    0,    0,    5,    8,    1,    0,    2, 4543,    3,    0,\n",
       "          1,  107,    0,    9,    0,    0,    8,    6,    3,    1,    2,\n",
       "          3,    0,    1,    0,   13,    0,    0,    6,    0,    0,    1,\n",
       "       2572,    0,  139,   28,    0,    0,    2,   12,    1,    1,    0,\n",
       "          7,    0,    2,    1,    0,    0,    0,    0,    0,    2,    9,\n",
       "          0,    1,    1,    1,    1,    2,    1,    0,    6,    0,    2,\n",
       "          0,    0,   10,    0,    0,   61,    4,    0,    0,    7,    9,\n",
       "          0,    7,    8,    7,    0,    1,    1,    0,   12])"
      ]
     },
     "execution_count": 25,
     "metadata": {},
     "output_type": "execute_result"
    }
   ],
   "source": [
    "#URL stuff\n",
    "\n",
    "nmurl_spars, urlterm_counter = get_counts_from_text_dict(urltextdict)\n",
    "\n",
    "#examine result\n",
    "urlterm_counter.vocabulary_ #dict of index numbers for different features\n",
    "\n",
    "total_term_frequency = np.sum(nmurl_spars.toarray(), axis=0)\n",
    "tf_per_doc = np.sum(nmurl_spars.toarray(), axis=1)\n",
    "\n",
    "\n",
    "total_results = {key: total_term_frequency[value] for key, value in urlterm_counter.vocabulary_.items()}\n",
    "total_per_doc = {key: tf_per_doc[num] for num, key in enumerate(urltextdict.keys())}\n",
    "\n",
    "\n",
    "total_term_frequency"
   ]
  },
  {
   "cell_type": "code",
   "execution_count": 129,
   "metadata": {},
   "outputs": [
    {
     "data": {
      "text/plain": [
       "Text(0.5, 1.0, 'total number of occurences of terms per post (log scale)')"
      ]
     },
     "execution_count": 129,
     "metadata": {},
     "output_type": "execute_result"
    },
    {
     "data": {
      "image/png": "[encoded data removed]",
      "text/plain": [
       "<Figure size 576x1008 with 1 Axes>"
      ]
     },
     "metadata": {
      "needs_background": "light"
     },
     "output_type": "display_data"
    }
   ],
   "source": [
    "temp_items = list(zip(*sorted(total_results.items())))\n",
    "\n",
    "plt.figure(figsize=(8,14))\n",
    "plt.xscale('log')\n",
    "plt.grid(axis='x')\n",
    "plt.barh(temp_items[0], temp_items[1])\n",
    "plt.title('total number of occurences of terms per post (log scale)')"
   ]
  },
  {
   "cell_type": "code",
   "execution_count": 130,
   "metadata": {},
   "outputs": [
    {
     "data": {
      "text/plain": [
       "array([68,  4, 28, ...,  2,  8,  4])"
      ]
     },
     "execution_count": 130,
     "metadata": {},
     "output_type": "execute_result"
    }
   ],
   "source": [
    "tf_per_doc"
   ]
  },
  {
   "cell_type": "markdown",
   "metadata": {},
   "source": [
    "# Create Dataframes"
   ]
  },
  {
   "cell_type": "code",
   "execution_count": 74,
   "metadata": {},
   "outputs": [],
   "source": [
    "from pprint import pprint\n"
   ]
  },
  {
   "cell_type": "code",
   "execution_count": 437,
   "metadata": {},
   "outputs": [
    {
     "name": "stdout",
     "output_type": "stream",
     "text": [
      "{'posts': [{'body': \"Hi all, I've been giving my LO Aptamil Hungry Baby as she \"\n",
      "                    \"is always starving! \\xa0Since I started her on it she's \"\n",
      "                    \"she's had a runny tummy - has Hungry Baby had this affect \"\n",
      "                    \"on any one else's LO? \\n\"\n",
      "                    \" I hope it isn't the way I'm making the formula - I boil \"\n",
      "                    'the water and put it in the bottles and then put them in '\n",
      "                    'the fridge and then add formula when she starts yelling '\n",
      "                    \"for food and warm it up. \\xa0Can't see how you would \"\n",
      "                    'anticipate half an hour before your baby is hungry so you '\n",
      "                    'can make it up like they say on the packet!?? \\n'\n",
      "                    ' Thinking of making up formula like they say and then '\n",
      "                    \"putting it in the fridge ready for when she's hungry - \"\n",
      "                    'saw that some other mums do it that way on another '\n",
      "                    'thread. \\n'\n",
      "                    ' Help! \\xa0Not sure what to do!',\n",
      "            'body_urls': [],\n",
      "            'date': '8/20/2008 at 10:25 AM',\n",
      "            'likes': '0',\n",
      "            'quotes_w': [],\n",
      "            'quotes_y': [],\n",
      "            'username': 'Mel H(6)'},\n",
      "           {'body': 'yes its possible that a certain formula makes a child '\n",
      "                    'sick, hive him diarrhea etc. \\n'\n",
      "                    ' both of mine had (one still does) aptamil 2 and never '\n",
      "                    'had problems. \\n'\n",
      "                    ' i wouldnt make her bottles like that, i would much '\n",
      "                    'rather (since she is still so young) buy good quality '\n",
      "                    'bottled water, warm it up in the microwave for 20, 30 '\n",
      "                    'secs (depending on how much she eats and strenght of '\n",
      "                    'micr.) and give her it straight away. \\n'\n",
      "                    ' when she gets a bit older you can do the same with tap '\n",
      "                    'water. \\n'\n",
      "                    ' i wouldnt boil, cool down and then reheat. not even for '\n",
      "                    'an older child. \\n'\n",
      "                    ' if you dont want to use bottled water or cant or '\n",
      "                    'whatever, you can boil a small amount approx 1/2 hr '\n",
      "                    'before she will eat, pour it in her bottle, put the lid '\n",
      "                    'on and leave to cool. if she gets hungry earlier - cool '\n",
      "                    'it down faster in a bowl of cold water or under running '\n",
      "                    'water.',\n",
      "            'body_urls': [],\n",
      "            'date': '8/20/2008 at 11:01 AM',\n",
      "            'likes': '0',\n",
      "            'quotes_w': [],\n",
      "            'quotes_y': [],\n",
      "            'username': 'Anonymous'},\n",
      "           {'body': \"I wouldn't advise using bottled water as the sodium \"\n",
      "                    'levels in it can be too much for such a young baby. \\n'\n",
      "                    \" If I was you, I'd take her off the hungry baby milk as \"\n",
      "                    \"she's still very young. It is much more difficult for \"\n",
      "                    'babies digestive systems to cope with and can cause a lot '\n",
      "                    \"of tummy and digestive problems if your baby's system \"\n",
      "                    \"isn't mature enough to cope with it. Although it says \"\n",
      "                    'from birth on the tin, many health professionals do not '\n",
      "                    'recommend it is given for the above reasons. \\n'\n",
      "                    ' Why not just go back to the first stage Aptamil and just '\n",
      "                    'give her more? The guides on the tins are just that, '\n",
      "                    'guides, and if your little one needs more then feed her '\n",
      "                    \"more. As long as she isn't bringing the extra back up \"\n",
      "                    \"then you know she isn't being overfed. Bear in mind that \"\n",
      "                    'babies go through growth spurts where they do take more '\n",
      "                    'milk and feed much more often but it then evens itself '\n",
      "                    'out again.  \\n'\n",
      "                    ' How much and how often is she feeding?',\n",
      "            'body_urls': [],\n",
      "            'date': '8/20/2008 at 11:12 AM',\n",
      "            'likes': '0',\n",
      "            'quotes_w': [],\n",
      "            'quotes_y': [],\n",
      "            'username': 'Anonymous'},\n",
      "           {'body': 'high sodium level in bottled water?!?!  \\n'\n",
      "                    ' where have you heard that?!',\n",
      "            'body_urls': [],\n",
      "            'date': '8/20/2008 at 11:23 AM',\n",
      "            'likes': '0',\n",
      "            'quotes_w': [\"Quote:I wouldn't advise using bottled water as the \"\n",
      "                         'sodium levels in it can be too much for such a young '\n",
      "                         'baby.'],\n",
      "            'quotes_y': [],\n",
      "            'username': 'Anonymous'},\n",
      "           {'body': \"It's quite common knowledge. As well as the sodium \"\n",
      "                    'levels, there are also issues with the amount or uranium '\n",
      "                    'etc in bottled water which can be dangerous for '\n",
      "                    'babies.  \\n'\n",
      "                    ' Babies and young children should not be allowed to drink '\n",
      "                    'mineral water, and baby formula feed should not be made '\n",
      "                    'up with natural mineral water. Some have high salt or '\n",
      "                    'high sulphur content and, in particular, a high uranium '\n",
      "                    'content. Uranium is a heavy metal that is toxic to the '\n",
      "                    'kidneys and liver. \\n'\n",
      "                    '  \\xa0 \\n'\n",
      "                    ' http://www.bbc.co.uk/dna/h2g2/A13745991 \\n'\n",
      "                    ' Water babies - tap or bottled?  \\n'\n",
      "                    ' Dentists, health visitors and doctors all recommend that '\n",
      "                    \"the best 'between meal' dink for children is water and \"\n",
      "                    'the early introduction will encourage this good habit. '\n",
      "                    'But when it comes to water, is bottled your best option '\n",
      "                    'or should you opt for tap?  \\n'\n",
      "                    ' There are three different types of bottled water, '\n",
      "                    'Natural Mineral Water (NMW), Spring Water and Table '\n",
      "                    'Water.  \\n'\n",
      "                    ' Natural Mineral Water - This comes from a ground water '\n",
      "                    'source which is protected from all pollution and by law '\n",
      "                    'cannot be treated in any way. It undergoes two years of '\n",
      "                    'stringent analysis before it can be classed as an NMW. It '\n",
      "                    'is the purest form of water. However, NMWs contain high '\n",
      "                    'levels of minerals, some of which can be dangerous for '\n",
      "                    'your toddler. For example, the calcium levels in some '\n",
      "                    \"mineral waters can be too high for a baby's kidneys to \"\n",
      "                    'cope with. Similarly, the sodium levels in many NMWs are '\n",
      "                    'much higher than the recommended 350mg a day for year old '\n",
      "                    'babies. Since December 2003, NMWs suitable for making up '\n",
      "                    'formula will be labelled as such.  \\n'\n",
      "                    ' Spring Water - Comes from a single non-polluted ground '\n",
      "                    'water source but unlike NMWs it can undergo some '\n",
      "                    'permitted treatments, although it must comply with the '\n",
      "                    'Drinking Water Regulations. Unlike NMWs, there is no '\n",
      "                    'legislation requiring the mineral content to be printed '\n",
      "                    \"on the bottle and because of this it's probably best \"\n",
      "                    'avoided for your baby as there is no way of determining '\n",
      "                    'the sodium or mineral content.  \\n'\n",
      "                    ' Table Water - Is the trade name applied to other bottled '\n",
      "                    'drinking waters. It applies to water which may come from '\n",
      "                    'more than one source and may include the public water '\n",
      "                    'supply. You should treat this water in the same way that '\n",
      "                    'you would treat normal tap water if using it to prepare '\n",
      "                    'feeds for your baby.  \\n'\n",
      "                    '  \\xa0 \\n'\n",
      "                    ' http://www.babyworld.co.uk/inf [...] /drink.asp \\n'\n",
      "                    ' Parents who use bottled water to make up baby milk could '\n",
      "                    'be poisoning their children. \\n'\n",
      "                    ' Some brands contain levels of uranium that could harm a '\n",
      "                    'developing child, a shock official study has found. \\n'\n",
      "                    \" They are Buxton - one of the UK's top sellers - Caffe \"\n",
      "                    'Nero, Radnor Hills, Rocwell, St Yorre and San '\n",
      "                    'Pellegrino. \\n'\n",
      "                    ' Some have four times the amount of uranium considered '\n",
      "                    'the safe limit for a baby. \\n'\n",
      "                    ' Many families have switched from tap water to bottled '\n",
      "                    'varieties, believing them to be better and healthier. \\n'\n",
      "                    ' Sales have doubled in five years to around two billion '\n",
      "                    'litres (480million gallons), worth an estimated '\n",
      "                    '£1.2billion. \\n'\n",
      "                    ' But bottled waters pick up minerals from the rock they '\n",
      "                    'pass through. These can include uranium, a heavy metal '\n",
      "                    'which is particularly toxic to the kidneys. \\n'\n",
      "                    \" Details of the contamination came from the Government's \"\n",
      "                    'Committee on Toxicity. \\n'\n",
      "                    ' It said the Food Standards Agency has estimated that '\n",
      "                    'using some natural mineral waters to reconstitute baby '\n",
      "                    'formula could mean infants receiving more uranium than '\n",
      "                    'the daily limit set by the World Health Organisation. The '\n",
      "                    'report says uranium is generally found in \\n'\n",
      "                    ' water from a granite source. It is weakly radioactive, '\n",
      "                    'but radioactivity levels are considered too low to be a '\n",
      "                    'health risk. \\n'\n",
      "                    ' The real concern is the damage uranium can cause to the '\n",
      "                    'kidneys. \\n'\n",
      "                    ' The Department of Health and the National Childbirth '\n",
      "                    'Trust already advise mothers to use tap water - boiled '\n",
      "                    'and then cooled - to make up bottle feed. \\n'\n",
      "                    ' Research has consistently shown that breast milk is best '\n",
      "                    'for babies, but some women cannot breastfeed, or choose '\n",
      "                    'not to, while others combine it with formula milk. The '\n",
      "                    'FSA tested 170 samples of bottled water from 15 brands. '\n",
      "                    'All met the WHO guideline level for adults, which is 15 '\n",
      "                    'micrograms of uranium per litre. \\n'\n",
      "                    ' But 23 samples from six brands exceeded the recommended '\n",
      "                    'limit for babies of 3.2 micrograms. \\n'\n",
      "                    ' The highest level was in water sold at Caffe Nero coffee '\n",
      "                    'shops, although it seems unlikely that mothers would use '\n",
      "                    'this to make up baby formula. \\n'\n",
      "                    ' A spokesman for the firm said its water comes from a '\n",
      "                    'guaranteed and respected source in Italy. He insisted it '\n",
      "                    'met WHO standards on uranium. \\n'\n",
      "                    ' The owners of Buxton, Parisbased Nestle Waters, '\n",
      "                    'challenged the findings of the study. A spokesman said: '\n",
      "                    \"'We are the world leader in bottled water and experts in \"\n",
      "                    'the field. Buxton is in line with WHO guidelines and '\n",
      "                    \"European directives in terms of uranium.' \\n\"\n",
      "                    ' The company does not recommend Buxton for baby formula, '\n",
      "                    'but this is due to the high mineral and sodium content, '\n",
      "                    'not uranium levels. \\n'\n",
      "                    \" Buxton is the UK's fifth biggest-selling brand, behind \"\n",
      "                    'Volvic, Vittel, Highland Spring and Evian. Brian Quinn, '\n",
      "                    'boss of Northern Ireland-based Rocwell, also challenged '\n",
      "                    'accuracy of the FSA research. \\n'\n",
      "                    \" He said: 'I am surprised by these findings. We test for \"\n",
      "                    'uranium and it has never shown up as an issue. I can '\n",
      "                    'assure you that our water is very suitable to be used for '\n",
      "                    \"making up baby formula and in baby foods.' \\n\"\n",
      "                    ' Radnor Hills said it does not recommend its water for '\n",
      "                    'babies. \\n'\n",
      "                    ' Experts said the FSA study gives only a snapshot of the '\n",
      "                    'uranium in the water at a particular time. Levels could '\n",
      "                    'be higher or lower if the same survey was done today. \\n'\n",
      "                    '  \\xa0 \\n'\n",
      "                    ' http://www.dailymail.co.uk/hea [...] water.html',\n",
      "            'body_urls': ['http://www.bbc.co.uk/dna/h2g2/A13745991',\n",
      "                          'http://www.babyworld.co.uk/information/books_food/drink.asp',\n",
      "                          'http://www.dailymail.co.uk/health/article-366212/Could-babies-poisoned-bottled-water.html'],\n",
      "            'date': '8/20/2008 at 11:36 AM',\n",
      "            'likes': '0',\n",
      "            'quotes_w': ['Quote:high sodium level in bottled water?!?! where '\n",
      "                         'have you heard that?!'],\n",
      "            'quotes_y': [],\n",
      "            'username': 'Anonymous'},\n",
      "           {'body': 'your first quote says: \\n'\n",
      "                    ' i wasnt talking about mineral water. \\n'\n",
      "                    ' the second source says: \\n'\n",
      "                    ' in other words: they are only guessing. \\n'\n",
      "                    ' however: \\n'\n",
      "                    '   \\n'\n",
      "                    ' so your second quote is not true. \\n'\n",
      "                    ' as to the third quote...yes, a lot of shocking studies '\n",
      "                    'can be found. \\n'\n",
      "                    ' it is, really, a personal choice. thats why i offered a '\n",
      "                    'second solution as well.',\n",
      "            'body_urls': [],\n",
      "            'date': '8/20/2008 at 6:17 PM',\n",
      "            'likes': '0',\n",
      "            'quotes_w': ['Quote:Babies and young children should not be '\n",
      "                         'allowed to drink mineral water',\n",
      "                         'Quote:there is no legislation requiring the mineral '\n",
      "                         'content to be printed on the bottle and because of '\n",
      "                         \"this it's probably best avoided for your baby as \"\n",
      "                         'there is no way of determining the sodium or mineral '\n",
      "                         'content. ',\n",
      "                         'Quote:UK Legislation covering waterAlthough there is '\n",
      "                         'no binding legislation relating to the composition '\n",
      "                         'and use of bottled water, the Department of Health '\n",
      "                         'has indicated that (Ref.5):\"Bottled waters, other '\n",
      "                         \"than those labelled 'natural mineral water', are \"\n",
      "                         'expected to conform to essentially the same '\n",
      "                         'standards as the public water supply and they are '\n",
      "                         'therefore suitable for giving to infants or for '\n",
      "                         'preparing feeds.'],\n",
      "            'quotes_y': [],\n",
      "            'username': 'Anonymous'},\n",
      "           {'body': 'nhs recommends tap water but also says this: \\n'\n",
      "                    ' do you think they would say that if it was poisoning the '\n",
      "                    'babies?',\n",
      "            'body_urls': [],\n",
      "            'date': '8/20/2008 at 6:27 PM',\n",
      "            'likes': '0',\n",
      "            'quotes_w': ['Quote:In the event of an interruption to your supply '\n",
      "                         'of tap water - for example, if the water supply is '\n",
      "                         'interrupted, or contaminated, by a flood - you '\n",
      "                         'should ideally use the water from your water tank, '\n",
      "                         'that should be supplied by the water company. '\n",
      "                         'However, if this is not available, you should use '\n",
      "                         'bottled water to prepare a formula feed.'],\n",
      "            'quotes_y': [],\n",
      "            'username': 'Anonymous'},\n",
      "           {'body': \"If tap water isn't available then yes, bottled water is \"\n",
      "                    'the next best option. However, in that situation and when '\n",
      "                    'on holiday for example, it is a temporary measure and as '\n",
      "                    \"a very irregular thing probably wouldn't do too much \"\n",
      "                    'harm. Using it for every feed is a different matter '\n",
      "                    'though. \\n'\n",
      "                    ' Obviously the choice is yours but as I said in my post, '\n",
      "                    \"this is actually pretty common knowledge. I didn't have \"\n",
      "                    'time to find lots of studies or reports earlier so to be '\n",
      "                    'honest, I just posted the first few examples I could find '\n",
      "                    \"but if you do your own research you'll find plenty of \"\n",
      "                    'information pertaining to this subject. There have been '\n",
      "                    'plenty of threads on the subject on here as well.',\n",
      "            'body_urls': [],\n",
      "            'date': '8/20/2008 at 8:23 PM',\n",
      "            'likes': '0',\n",
      "            'quotes_w': ['Quote:nhs recommends tap water but also says this:do '\n",
      "                         'you think they would say that if it was poisoning '\n",
      "                         'the babies?'],\n",
      "            'quotes_y': [],\n",
      "            'username': 'Anonymous'},\n",
      "           {'body': 'Mel, \\n'\n",
      "                    \" Can't comment on the bottled water aspect, but I think \"\n",
      "                    \"the way you're making your bottles up sounds fine. \\xa0\"\n",
      "                    \"It's how I've done my son's for almost 10 months, and how \"\n",
      "                    'most people I know do that. \\n'\n",
      "                    \" If you've always done it that way (and really, I agree - \"\n",
      "                    \"it's almost impossible to make up bottles on demand - \"\n",
      "                    \"you'd never be able to go out!) and it's never caused a \"\n",
      "                    'problem before, it could just be the change in '\n",
      "                    'formula. \\xa0I put my son onto Aptamil Hungry formula, '\n",
      "                    'and he became constipated! \\xa0I stuck with it and his '\n",
      "                    'issue settled down, so you could stick with it and it '\n",
      "                    \"will probably settle down. \\xa0If you think it's \"\n",
      "                    'uncomfortable for your baby, maybe the best thing to do '\n",
      "                    'is as previously suggested and go back to Aptamil 1 but '\n",
      "                    'give bigger bottles if possible. \\n'\n",
      "                    \" If you're worried though, I'd speak to your HV, or even \"\n",
      "                    'get in touch with Aptamil - they have a brilliant '\n",
      "                    'website, and a great helpline you can ring for '\n",
      "                    'advice. \\xa0 \\n'\n",
      "                    ' Good luck!',\n",
      "            'body_urls': [],\n",
      "            'date': '8/20/2008 at 8:54 PM',\n",
      "            'likes': '0',\n",
      "            'quotes_w': [],\n",
      "            'quotes_y': [],\n",
      "            'username': 'Anonymous'},\n",
      "           {'body': 'i use aptamil but the blue one not hungry baby i empty my '\n",
      "                    'kettle fill with fresh boil and leave it to stand for '\n",
      "                    'half hour then make the bottles and put in the fridge i '\n",
      "                    'know they say to make one at a time but thats bull you '\n",
      "                    'cant,are you ment to leave the baby to cry for half hour '\n",
      "                    'while you wait?? so i make 2 bottles at a time once leah '\n"
     ]
    },
    {
     "name": "stdout",
     "output_type": "stream",
     "text": [
      "                    'has had her second one i will give it about a hour and '\n",
      "                    'make 2 more.all my mates use to make a days worth in the '\n",
      "                    'morning so they would make about 6 ish and there baby '\n",
      "                    'would drink them thu out the day and they are all ok,leah '\n",
      "                    'was crying alot when she was about 6/8 weeks old and i '\n",
      "                    'thought that was cos she was hungry when i asked h/v bout '\n",
      "                    'putting her on hungry milk she said no as it can upset '\n",
      "                    'her tummy so i have stuck with the blue and give leah a '\n",
      "                    'extra bottle if she needs it \\xa0xx',\n",
      "            'body_urls': [],\n",
      "            'date': '8/20/2008 at 9:08 PM',\n",
      "            'likes': '0',\n",
      "            'quotes_w': [],\n",
      "            'quotes_y': [],\n",
      "            'username': 'Anonymous'},\n",
      "           {'body': \"I too thought it was common knowledge that you're not to \"\n",
      "                    'give babies bottled water.... \\n'\n",
      "                    ' Mel, \\n'\n",
      "                    ' My DD was put on Aptimil Extra Hungry at 6 weeks old. \\n'\n",
      "                    ' She suffers from reflux, and was being sick after every '\n",
      "                    'feed. \\xa0The doc prescribed Gaviscon, and it was my '\n",
      "                    'choice to put her on the Hungry Baby milk. \\xa0She '\n",
      "                    'stopped being sick within a week of taking the gaviscon '\n",
      "                    '(she still has bouts of heartburn, maybe once or twice a '\n",
      "                    'week) and everything about her behaviour/feeding pattern '\n",
      "                    'was better after switching to the Hungry Baby milk. \\xa0'\n",
      "                    'She now takes regular feeds (every 3 hours) and has not '\n",
      "                    'been sick at all on it. \\xa0The only problem we did have '\n",
      "                    'was a change in her poo, it went from sunshine yellow '\n",
      "                    '(sma gold) to green and runny on Aptimil for about a '\n",
      "                    'fortnight, but has settled down now and is a mix between '\n",
      "                    'the two! (sorry if tmi!)  \\n'\n",
      "                    ' Have you spoken to your HV? \\xa0Was she being sick '\n",
      "                    'before you changed her milk? \\n'\n",
      "                    \" It may be that it's too rich for her little tummy at the \"\n",
      "                    \"moment, it's a curd based milk which means it's made from \"\n",
      "                    'the creamier, thicker part \\xa0whereas sma gold is a whey '\n",
      "                    'based formula so its the opposite (quoted from HV!)  \\n'\n",
      "                    \" If she's being sick I'd say try to give her some cooled \"\n",
      "                    \"boiled water during the day, just to make sure she's not \"\n",
      "                    'getting dehydrated. \\n'\n",
      "                    ' Oh, and I make her milk by boiling the kettle, then '\n",
      "                    'putting the boiling water into her bottle to cool by '\n",
      "                    \"itself, then add the powder. (she's as regular as \"\n",
      "                    'clockwork so its easy for me this way!) \\xa0if she wants '\n",
      "                    'it sooner, I cool the water by running it under the tap, '\n",
      "                    'then add the powder.',\n",
      "            'body_urls': [],\n",
      "            'date': '8/20/2008 at 9:12 PM',\n",
      "            'likes': '0',\n",
      "            'quotes_w': [],\n",
      "            'quotes_y': [],\n",
      "            'username': 'Anonymous'},\n",
      "           {'body': \"so you've just skipped the department of health \"\n",
      "                    'recommendation then? \\n'\n",
      "                    \" i'll repeat: \\n\"\n",
      "                    ' and as far as \"common knowledge\" is concerned, its '\n",
      "                    'common knowledge that tap water is full of chemicals and '\n",
      "                    \"god forbid if you've got old pipes - you could be \"\n",
      "                    'drinking all sorts. \\n'\n",
      "                    ' and its also common knowledge that you are not,  \\n'\n",
      "                    ' under any circumstances \\n'\n",
      "                    ' , supposed to warm up an already made bottle.',\n",
      "            'body_urls': [],\n",
      "            'date': '8/20/2008 at 11:10 PM',\n",
      "            'likes': '0',\n",
      "            'quotes_w': ['Quote:UK Legislation covering waterAlthough there is '\n",
      "                         'no binding legislation relating to the composition '\n",
      "                         'and use of bottled water, the Department of Health '\n",
      "                         'has indicated that (Ref.5):\"Bottled waters, other '\n",
      "                         \"than those labelled 'natural mineral water', are \"\n",
      "                         'expected to conform to essentially the same '\n",
      "                         'standards as the public water supply and they are '\n",
      "                         'therefore suitable for giving to infants or for '\n",
      "                         'preparing feeds. '],\n",
      "            'quotes_y': [],\n",
      "            'username': 'Anonymous'},\n",
      "           {'body': \"That's why you have to boil the water first?!\",\n",
      "            'body_urls': [],\n",
      "            'date': '8/20/2008 at 11:22 PM',\n",
      "            'likes': '0',\n",
      "            'quotes_w': [\"Quote:so you've just skipped the department of \"\n",
      "                         \"health recommendation then?i'll repeat:and as far as \"\n",
      "                         '\"common knowledge\" is concerned, its common '\n",
      "                         'knowledge that tap water is full of chemicals and '\n",
      "                         \"god forbid if you've got old pipes - you could be \"\n",
      "                         'drinking all sorts.and its also common knowledge '\n",
      "                         'that you are not, under any circumstances, supposed '\n",
      "                         'to warm up an already made bottle.'],\n",
      "            'quotes_y': [],\n",
      "            'username': 'Anonymous'},\n",
      "           {'body': 'Hey Mel, \\n'\n",
      "                    ' When my LO was about three months was going to put him '\n",
      "                    \"on the 'hungrier baby' type milks, but my HV advised me \"\n",
      "                    \"against it as apparently they aren't very good for LO's \"\n",
      "                    'tummies in general and can cause digestive problems '\n",
      "                    '(according to my HV) -  \\n'\n",
      "                    \" She said to me that they shouldn't really be on the \"\n",
      "                    'market, but for some reason they are allowed to be!?!  \\n'\n",
      "                    \" Hope I'm not confusing you, but basically it may be \"\n",
      "                    'because her tummy is too immature to cope with this kind '\n",
      "                    'of milk - could you go back to the original milk you were '\n",
      "                    'giving her, and see if her tummy gets better? And if it '\n",
      "                    \"does, maybe just up and up her feed's lots? \\n\"\n",
      "                    \" Also, boiled water (haven't read the debate going on \"\n",
      "                    \"properly) cooled a bit (so obv. it's drinkeable for LO) \"\n",
      "                    \"did world of wonders in keeping my LO's tummy fine, as \"\n",
      "                    \"he'd get constipated and cranky if he didn't have it - \"\n",
      "                    'just as we would!!  \\n'\n",
      "                    ' Hope your LO gets better soon, and take care x:hug:',\n",
      "            'body_urls': [],\n",
      "            'date': '8/20/2008 at 11:31 PM',\n",
      "            'likes': '0',\n",
      "            'quotes_w': [],\n",
      "            'quotes_y': [],\n",
      "            'username': 'Anonymous'},\n",
      "           {'body': 'Thanks all! \\n'\n",
      "                    ' Kellie H - that is exactly wot my LOs poos look like now '\n",
      "                    'and was worried! \\xa0Last night tried mixing half hungry '\n",
      "                    'baby and half normal and worked a treat!  \\n'\n",
      "                    ' \\xa0Went to doc (for repeat perscription for reflux as '\n",
      "                    'LO has that too) and she said baby being sick could just '\n",
      "                    'be coz she is eating too fast as she is a piggy. \\xa0Does '\n",
      "                    '1 bottle in 10 mins at night - that it is why I put her '\n",
      "                    'on Hungry Baby ... she is REALLY hungry! \\xa0 \\n'\n",
      "                    ' Tried making up the feed last night as per back of '\n",
      "                    'packet then cooled it under tap then popped it in fridge '\n",
      "                    'ready for next feed and it worked a treat - looked like '\n",
      "                    'it mixed better and I reckon making up a bottle a couple '\n",
      "                    'of hours before but putting it in the fridge must be '\n",
      "                    \"ok. \\xa0LO seemed happy enough and it hasn't had any \"\n",
      "                    'adverse effects so far!',\n",
      "            'body_urls': [],\n",
      "            'date': '8/21/2008 at 10:36 AM',\n",
      "            'likes': '0',\n",
      "            'quotes_w': [],\n",
      "            'quotes_y': [],\n",
      "            'username': 'Mel H(6)'},\n",
      "           {'body': 'Ive been reading this post as my LO is 8 weeks and '\n",
      "                    'suffering with reflux. She is left upright for over an '\n",
      "                    'hour after a feed but whenever she is laid down she is '\n",
      "                    \"constantly sick. She's currently on C&G 1 formula and not \"\n",
      "                    'sure if to change her as we moved her from SMA gold '\n",
      "                    'originally as she had problems digesting that! \\n'\n",
      "                    ' I would just like to comment on the below: \\n'\n",
      "                    ' Thw World Health Organisation states the correct way to '\n",
      "                    'make bottles and I think that you will find they do '\n",
      "                    'suggest bottles should be made using boiled water (that '\n",
      "                    'has been left to cool down for 30 mins) to make a bottle. '\n",
      "                    'The reason for doing so is that formula powder has been '\n",
      "                    'proven to contain bacteria that only boiled water can '\n",
      "                    'kill, that is why adding powder to water in bottles that '\n",
      "                    'where boiled earlier in the day is not recommended as the '\n",
      "                    'water doesnt kill the bacteria in the powder. \\n'\n",
      "                    ' The WHO say that bottles should be made up for each feed '\n",
      "                    'as and when but they do recognise that this may not '\n",
      "                    'always be possible or practical therefore bottles may be '\n",
      "                    'made in advance but must be made with boiled water '\n",
      "                    '(cooled for 30 mins) immediately cooled and kept in the '\n",
      "                    'rear of the fridge for no more than 24 hours. Therefore '\n",
      "                    'your above comment is incorrect, your are able to warm up '\n",
      "                    'a bottle already made.  \\n'\n",
      "                    ' http://www.who.int/foodsafety/ [...] elines.pdf \\n'\n",
      "                    ' This is the link to the WHO guidleines preparation of '\n",
      "                    'the formula starts on page 13. \\n'\n",
      "                    ' It does also state that bottled water should be boiled '\n",
      "                    'first as it is not sterile. \\n'\n",
      "                    ' I found the WHO guidlines really helpful and I now make '\n",
      "                    'up 3 bottles in advance by way of the recommended '\n",
      "                    'guidleines!!!!',\n",
      "            'body_urls': ['http://www.who.int/foodsafety/publications/micro/pif_guidelines.pdf'],\n",
      "            'date': '8/21/2008 at 12:16 PM',\n",
      "            'likes': '0',\n",
      "            'quotes_w': [\"Quote:so you've just skipped the department of \"\n",
      "                         \"health recommendation then?i'll repeat:and as far as \"\n",
      "                         '\"common knowledge\" is concerned, its common '\n",
      "                         'knowledge that tap water is full of chemicals and '\n",
      "                         \"god forbid if you've got old pipes - you could be \"\n",
      "                         'drinking all sorts.and its also common knowledge '\n",
      "                         'that you are not, under any circumstances, supposed '\n",
      "                         'to warm up an already made bottle.'],\n",
      "            'quotes_y': [],\n",
      "            'username': 'Anonymous'},\n",
      "           {'body': 'I am always bit worried about making up the milk my self '\n",
      "                    '.so i m still using aptamil \"ready to use \" cartons for '\n",
      "                    'my 6 weeks old boy.I am thinking to stick with it until '\n",
      "                    'he is 3 months.i know its expensive.but i have a feeling '\n",
      "                    'that it is more safer than making the feed myself using '\n",
      "                    'powder.what do u think?do u think it is a good idea.',\n",
      "            'body_urls': [],\n",
      "            'date': '12/16/2010 at 6:36 PM',\n",
      "            'likes': '0',\n",
      "            'quotes_w': [],\n",
      "            'quotes_y': [],\n",
      "            'username': 'Anonymous'},\n",
      "           {'body': 'hi, my LO was always hungry- by 5 days was told to use '\n",
      "                    'size 2 teats by midwife and went onto 3 by 2 \\xa0months- '\n",
      "                    'have you changed that? \\n'\n",
      "                    ' LO was also really sick on aptamil hungry baby and after '\n",
      "                    'a lot of angst OH convinced me to change milk to SMA- LO '\n",
      "                    'was able to go back onto normal type not hungry and was '\n",
      "                    'much happier ( so was i as the state of my carpet was '\n",
      "                    'embarrassing!) \\n'\n",
      "                    ' good luck with whatever you decide- it is very '\n",
      "                    'stressful \\n'\n",
      "                    ' To the lady who asked about the cartons- i met someone '\n",
      "                    'who would only use the throwaway bottles and made up '\n",
      "                    'milk- the cost made me gasp, but then i thought- who '\n",
      "                    'cares if thats what it takes for her to feel happy why '\n",
      "                    'not? Do what you feel secure with:)',\n",
      "            'body_urls': [],\n",
      "            'date': '12/16/2010 at 8:25 PM',\n",
      "            'likes': '0',\n",
      "            'quotes_w': [],\n",
      "            'quotes_y': [],\n",
      "            'username': 'Anonymous'},\n",
      "           {'body': 'My daughter used to projectile vomit her milk after at '\n",
      "                    'least one of her feeds every day. \\xa0When she was about '\n",
      "                    '3 - 4 months we went on holiday so I took the Aptamil '\n",
      "                    \"cartons (ready made) with us as I didn't know what the \"\n",
      "                    'facilities might be like for making bottles up. \\xa0She '\n",
      "                    'never looked back! \\xa0I have no ideas on what the '\n",
      "                    'difference between the powder and the cartons might be '\n",
      "                    'but it was like flicking a switch. \\xa0She was never sick '\n",
      "                    'again! \\xa0It was a bit more expensive but much cheaper '\n",
      "                    'than constantly getting the carpet cleaned and did '\n",
      "                    'wonders for my nerves about her being sick!',\n",
      "            'body_urls': [],\n",
      "            'date': '12/16/2010 at 8:43 PM',\n",
      "            'likes': '0',\n",
      "            'quotes_w': [],\n",
      "            'quotes_y': [],\n",
      "            'username': 'Anonymous'},\n",
      "           {'body': 'hello, \\n'\n",
      "                    ' i started weaning my son about 3months old and he loved '\n",
      "                    'it and at the start it helped he started sleeping '\n",
      "                    'straight through the night but he wanted a lot of food '\n",
      "                    'though and it was still every 2 hours so i moved him on '\n",
      "                    'to hungrier milk aswel. he was fine for a bit but now he '\n",
      "                    'is suffering with diarrhoea really bad through the day '\n",
      "                    'and night and has really bad nappy rash. i know it is not '\n",
      "                    'because i have weaned him as he stayed on solids and his '\n",
      "                    'tummy was fine its only now i have moved him on to '\n",
      "                    \"hungrier milk he has a bad tummy. he doesn't cry or \"\n",
      "                    \"anything it's just not very nice for him.  \\n\"\n",
      "                    ' Is there many more people having the same problem he is '\n",
      "                    'on aptamil hungrier baby?',\n",
      "            'body_urls': [],\n",
      "            'date': '10/30/2011 at 8:56 AM',\n",
      "            'likes': '0',\n",
      "            'quotes_w': [],\n",
      "            'quotes_y': [],\n",
      "            'username': 'Anonymous'}],\n",
      " 'query': {'https://www.netmums.com/search/chat/Chemical contaminants baby '\n",
      "           'food',\n",
      "           'https://www.netmums.com/search/chat/Chemical contaminants baby '\n",
      "           'formula',\n",
      "           'https://www.netmums.com/search/chat/Chemical contaminants bottle',\n",
      "           'https://www.netmums.com/search/chat/Chemical contaminants '\n",
      "           'bottle-fed',\n",
      "           'https://www.netmums.com/search/chat/Chemical contaminants cereal '\n",
      "           'for baby',\n",
      "           'https://www.netmums.com/search/chat/Chemical contaminants formula',\n",
      "           'https://www.netmums.com/search/chat/Chemical contaminants jar food',\n",
      "           'https://www.netmums.com/search/chat/Chemical contaminants yoghurt',\n",
      "           'https://www.netmums.com/search/chat/MOH bottle-fed',\n",
      "           'https://www.netmums.com/search/chat/Metals baby food',\n",
      "           'https://www.netmums.com/search/chat/Metals baby formula',\n",
      "           'https://www.netmums.com/search/chat/Metals bottle',\n",
      "           'https://www.netmums.com/search/chat/Metals bottle-fed',\n",
      "           'https://www.netmums.com/search/chat/Metals formula',\n",
      "           'https://www.netmums.com/search/chat/chemicals baby formula',\n",
      "           'https://www.netmums.com/search/chat/chemicals bottle',\n",
      "           'https://www.netmums.com/search/chat/chemicals bottle-fed',\n",
      "           'https://www.netmums.com/search/chat/chemicals formula',\n",
      "           'https://www.netmums.com/search/chat/contaminated baby food',\n",
      "           'https://www.netmums.com/search/chat/contaminated baby formula',\n",
      "           'https://www.netmums.com/search/chat/contaminated bottle',\n",
      "           'https://www.netmums.com/search/chat/contaminated bottle-fed',\n",
      "           'https://www.netmums.com/search/chat/contaminated formula',\n",
      "           'https://www.netmums.com/search/chat/food poisoning baby formula',\n",
      "           'https://www.netmums.com/search/chat/food poisoning bottle',\n",
      "           'https://www.netmums.com/search/chat/food poisoning bottle-fed',\n",
      "           'https://www.netmums.com/search/chat/food poisoning formula',\n",
      "           'https://www.netmums.com/search/chat/toxic baby formula',\n",
      "           'https://www.netmums.com/search/chat/toxic bottle',\n",
      "           'https://www.netmums.com/search/chat/toxic bottle-fed',\n",
      "           'https://www.netmums.com/search/chat/toxic formula',\n",
      "           'https://www.netmums.com/search/chat/toxin bottle-fed'},\n",
      " 'title': 'Aptamil Hungry Baby making LO sick??'}\n"
     ]
    }
   ],
   "source": [
    "pprint(netmums[nmkeys[0]])"
   ]
  },
  {
   "cell_type": "code",
   "execution_count": null,
   "metadata": {},
   "outputs": [],
   "source": []
  }
 ],
 "metadata": {
  "kernelspec": {
   "display_name": "Python 3",
   "language": "python",
   "name": "python3"
  },
  "language_info": {
   "codemirror_mode": {
    "name": "ipython",
    "version": 3
   },
   "file_extension": ".py",
   "mimetype": "text/x-python",
   "name": "python",
   "nbconvert_exporter": "python",
   "pygments_lexer": "ipython3",
   "version": "3.8.5"
  }
 },
 "nbformat": 4,
 "nbformat_minor": 4
}
