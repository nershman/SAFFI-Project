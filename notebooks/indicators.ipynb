{
 "cells": [
  {
   "cell_type": "code",
   "execution_count": null,
   "metadata": {},
   "outputs": [],
   "source": [
    "from facehelpers import *"
   ]
  },
  {
   "cell_type": "code",
   "execution_count": null,
   "metadata": {},
   "outputs": [],
   "source": [
    "import time\n",
    "#open the facebook data\n",
    "with open('fb_merged_cleaned_flat.pkl', 'rb') as f:\n",
    "    fb_search = pk.load(f)\n",
    "\n",
    "#facebook\n",
    "\n",
    "\n",
    "add_term_counts(fb_search, fb=True)\n",
    "add_url_term_counts(fb_search, fb=True)\n",
    "\n",
    "\n",
    "add_total_likes(fb_search, fb=True)\n",
    "\n",
    "add_available_comments(fb_search, fb=True)\n",
    "\n",
    "add_comment_activity(fb_search, fb=True)\n",
    "\n",
    "add_num_unique_posters(fb_search, fb=True)\n",
    "\n",
    "add_num_urls(fb_search, fb=True)\n",
    "\n",
    "add_avg_comment_length(fb_search)\n",
    "\n",
    "add_avg_post_length(fb_search, fb=True)\n",
    "\n",
    "add_num_comments(fb_search, fb=True)\n",
    "\n",
    "add_post_time(fb_search, fb=True)\n",
    "\n",
    "add_post_language(fb_search, fb=True)\n",
    "\n",
    "\n",
    "#netmums\n",
    "\n",
    "\n",
    "with open('/Users/sma/Documents/INRAE internship/scrape-git/netmums/allposts_rerun.pkl', 'rb') as f:\n",
    "    netmums = pk.load(f)\n",
    "\n",
    "#this one takes long, around 20 seconds I think.\n",
    "\n",
    "add_term_counts(netmums, fb=False)\n",
    "\n",
    "add_url_term_counts(netmums, fb=False)\n",
    "\n",
    "add_total_likes(netmums, fb=False)\n",
    "\n",
    "add_available_comments(netmums, fb=False)\n",
    "\n",
    "add_comment_activity(netmums, fb=False)\n",
    "\n",
    "add_num_unique_posters(netmums, fb=False)\n",
    "\n",
    "add_num_urls(netmums, fb=False)\n",
    "\n",
    "add_avg_post_length(netmums, fb=False)\n",
    "\n",
    "add_num_comments(netmums, fb=False)\n",
    "\n",
    "add_post_time(netmums, fb=False)\n"
   ]
  },
  {
   "cell_type": "code",
   "execution_count": null,
   "metadata": {},
   "outputs": [],
   "source": [
    "#create dataframes\n",
    "\n",
    "# drop the dicts"
   ]
  },
  {
   "cell_type": "code",
   "execution_count": null,
   "metadata": {},
   "outputs": [],
   "source": [
    "#now to find some ..."
   ]
  }
 ],
 "metadata": {
  "kernelspec": {
   "display_name": "Python 3",
   "language": "python",
   "name": "python3"
  },
  "language_info": {
   "codemirror_mode": {
    "name": "ipython",
    "version": 3
   },
   "file_extension": ".py",
   "mimetype": "text/x-python",
   "name": "python",
   "nbconvert_exporter": "python",
   "pygments_lexer": "ipython3",
   "version": "3.8.5"
  }
 },
 "nbformat": 4,
 "nbformat_minor": 4
}
