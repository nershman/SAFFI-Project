{
 "cells": [
  {
   "cell_type": "code",
   "execution_count": 1,
   "metadata": {},
   "outputs": [],
   "source": [
    "import metrics_helpers as indicators\n",
    "import pickle as pk\n",
    "import gc\n",
    "import numpy as np\n",
    "from matplotlib import pyplot as plt\n",
    "import seaborn as sns\n",
    "import pandas as pd\n",
    "import traceback #needed to store full error tracebacks\n",
    "\n",
    "import plotly\n",
    "\n",
    "#import plotly.plotly as py\n",
    "import plotly.tools as tls"
   ]
  },
  {
   "cell_type": "code",
   "execution_count": 2,
   "metadata": {},
   "outputs": [],
   "source": [
    "import dash\n",
    "from dash import dcc\n",
    "from dash import html\n",
    "import plotly.express as px\n",
    "from dash.dependencies import Input, Output\n",
    "import pandas as pd\n",
    "#import dash_design_kit as ddk"
   ]
  },
  {
   "cell_type": "code",
   "execution_count": 3,
   "metadata": {},
   "outputs": [],
   "source": [
    "import plotly.express as px\n",
    "\n"
   ]
  },
  {
   "cell_type": "code",
   "execution_count": 4,
   "metadata": {},
   "outputs": [],
   "source": [
    "#build text list for use in functions and callbacks.\n",
    "sent_vals = ['pattern', 'nltk', 'mod', 'subj']\n",
    "plot_vals = ['ttest', 'boxplot', 'corr', 'reg']\n",
    "\n",
    "#create each object in dicts.\n",
    "pointless_div = html.Div(children=[html.H3(children='object not implemented')])\n",
    "haz_graphs = {s:{p:pointless_div for p in plot_vals} for s in sent_vals}\n",
    "prod_graphs = {s:{p:pointless_div for p in plot_vals} for s in sent_vals}"
   ]
  },
  {
   "cell_type": "code",
   "execution_count": 5,
   "metadata": {},
   "outputs": [
    {
     "data": {
      "text/plain": [
       "dict_keys(['ttest', 'boxplot', 'corr', 'reg'])"
      ]
     },
     "execution_count": 5,
     "metadata": {},
     "output_type": "execute_result"
    }
   ],
   "source": [
    "haz_graphs['pattern'].keys()"
   ]
  },
  {
   "cell_type": "code",
   "execution_count": 6,
   "metadata": {},
   "outputs": [],
   "source": [
    "def get_table(df):#https://dash.plotly.com/datatable/conditional-formatting\n",
    "    return dash_table.DataTable(\n",
    "            id='table',\n",
    "            columns=[{\"name\": i, \"id\": i} for i in df.columns],\n",
    "            data=df.to_dict('records'),\n",
    "            editable=True,\n",
    "            filter_action=\"native\",\n",
    "            sort_action=\"native\",\n",
    "            sort_mode=\"multi\",\n",
    "            column_selectable=\"single\",\n",
    "            row_selectable=\"multi\",\n",
    "            row_deletable=True,\n",
    "            selected_columns=[],\n",
    "            selected_rows=[],\n",
    "            page_action=\"native\",\n",
    "            page_current= 0,\n",
    "            page_size= 10,\n",
    "        )\n",
    "\n",
    "def add_label(obj, lab):\n",
    "    return html.Div([html.Label(lab, style={'flex-shrink':'2', 'flex-basis':'60%'}),obj])"
   ]
  },
  {
   "cell_type": "code",
   "execution_count": 7,
   "metadata": {},
   "outputs": [],
   "source": [
    "#debug\n",
    "import pandas as pd\n",
    "from dash import dash_table\n",
    "\n",
    "df = pd.read_csv('https://raw.githubusercontent.com/plotly/datasets/master/solar.csv')\n",
    "\n",
    "fig = px.box(df, y=\"Number of Solar Plants\")"
   ]
  },
  {
   "cell_type": "code",
   "execution_count": null,
   "metadata": {},
   "outputs": [],
   "source": []
  },
  {
   "cell_type": "code",
   "execution_count": 8,
   "metadata": {},
   "outputs": [],
   "source": [
    "#add graphs \n",
    "haz_graphs['pattern']['ttest'] = add_label(get_table(pat_haz_t), 'Pattern T-Test')\n",
    "haz_graphs['pattern']['boxplot'] = dcc.Graph(figure=pat_haz_box)\n",
    "haz_graphs['pattern']['reg'] = add_label(get_table(pat_haz_reg), 'Pattern Regression')\n",
    "\n",
    "haz_graphs['nltk']['ttest'] = add_label(get_table(nltk_haz_t), 'NLTK T-Test')\n",
    "haz_graphs['nltk']['boxplot'] = dcc.Graph(figure=nltk_haz_box)\n",
    "haz_graphs['nltk']['reg'] = add_label(get_table(nltk_haz_reg), 'NLTK Regression')\n",
    "\n",
    "haz_graphs['mod']['ttest'] = add_label(get_table(mod_haz_t), 'Modality T-Test')\n",
    "haz_graphs['mod']['boxplot'] = dcc.Graph(figure=mod_haz_box)\n",
    "haz_graphs['mod']['reg'] = add_label(get_table(mod_haz_reg), 'Modality Regression')\n",
    "\n",
    "haz_graphs['subj']['ttest'] = add_label(get_table(subj_haz_t), 'Subjectivity T-Test')\n",
    "haz_graphs['subj']['boxplot'] = dcc.Graph(figure=subj_haz_box)\n",
    "haz_graphs['subj']['reg'] = add_label(get_table(subj_haz_reg), 'Subjectivity Regression')\n",
    "##############################################\n",
    "##############################################\n",
    "prod_graphs['pattern']['ttest'] = add_label(get_table(pat_prod_t), 'Pattern T-Test')\n",
    "prod_graphs['pattern']['boxplot'] = dcc.Graph(figure=pat_prod_box)\n",
    "prod_graphs['pattern']['reg'] = add_label(get_table(pat_prod_reg), 'Pattern Regression')\n",
    "\n",
    "prod_graphs['nltk']['ttest'] = add_label(get_table(nltk_prod_t), 'NLTK T-Test')\n",
    "prod_graphs['nltk']['boxplot'] = dcc.Graph(figure=nltk_prod_box)\n",
    "prod_graphs['nltk']['reg'] = add_label(get_table(nltk_prod_reg), 'NLTK Regression')\n",
    "\n",
    "prod_graphs['mod']['ttest'] = add_label(get_table(mod_prod_t), 'Modality T-Test')\n",
    "prod_graphs['mod']['boxplot'] = dcc.Graph(figure=mod_prod_box)\n",
    "prod_graphs['mod']['reg'] = add_label(get_table(mod_prod_reg), 'Modality Regression')\n",
    "\n",
    "prod_graphs['subj']['ttest'] = add_label(get_table(subj_prod_t), 'Subjectivity T-Test')\n",
    "prod_graphs['subj']['boxplot'] = dcc.Graph(figure=subj_prod_box)\n",
    "prod_graphs['subj']['reg'] = add_label(get_table(subj_prod_reg), 'Subjectivity Regression')\n"
   ]
  },
  {
   "cell_type": "code",
   "execution_count": 9,
   "metadata": {},
   "outputs": [],
   "source": [
    "\n",
    "\n",
    "external_stylesheets = ['/Users/sma/Documents/INRAE internship/scrape-git/notebooks/assets/ugh.css']\n",
    "\n",
    "app = dash.Dash(__name__, external_stylesheets=external_stylesheets)\n",
    "\n",
    "# assume you have a \"long-form\" data frame\n",
    "# see https://plotly.com/python/px-arguments/ for more options\n",
    "\n",
    "\n",
    "\n",
    "app.layout = html.Div([\n",
    "    dcc.Checklist(\n",
    "        id='sent_checklist',\n",
    "    options=[\n",
    "        {'label': 'Pattern Sent', 'value': sent_vals[0]},\n",
    "        {'label': 'NLTK Sent', 'value': sent_vals[1]},\n",
    "        {'label': 'Modality', 'value': sent_vals[2]},\n",
    "        {'label': 'Subjectivity', 'value': sent_vals[3]}\n",
    "    ],\n",
    "    value=['nltk'],\n",
    "    labelStyle={'display': 'inline-block'}\n",
    "),\n",
    "    \n",
    "    dcc.Checklist(\n",
    "        id='prod_checklist',\n",
    "    options=[\n",
    "        {'label': 'T-Test', 'value': plot_vals[0]},\n",
    "        {'label': 'BoxPlot', 'value': plot_vals[1]},\n",
    "        {'label': 'Correlation', 'value': plot_vals[2]},\n",
    "        {'label': 'Regression', 'value': plot_vals[3]}\n",
    "    ],\n",
    "    value=['boxplot','ttest'],\n",
    "    labelStyle={'display': 'inline-block'}\n",
    "),\n",
    "    \n",
    "    dcc.Tabs(id='tabs-example', value='tab-1', children=[\n",
    "        dcc.Tab(label='Hazards', value='tab-1'),\n",
    "        dcc.Tab(label='Products', value='tab-2'),\n",
    "        dcc.Tab(label='Explore', value='tab-3')\n",
    "    ]),\n",
    "    html.Div(id='tabs-example-content') #load in based on the callback function\n",
    "])\n",
    "\n",
    "\n",
    "\n",
    "#NOTE ON LAYOUT\n",
    "#    * each ID must be used only ONCE __per tab__\n",
    "@app.callback(Output('tabs-example-content', 'children'),\n",
    "              Input('tabs-example', 'value'))\n",
    "def render_content(tab):\n",
    "    if tab == 'tab-1': #HAZARD\n",
    "        return html.Div(children=[\n",
    "            html.Div(id='haz-things')])\n",
    "    \n",
    "    \n",
    "    elif tab == 'tab-2': #PRODUCT\n",
    "                return html.Div(children=[\n",
    "            html.Div(id='prod-things')])\n",
    "\n",
    "    elif tab == 'tab-3': #EXPLORE\n",
    "        return html.Div(children=[html.H1(children='''Not Implement :(''')])\n",
    "        #TODO show corrs, show a graph where u choose variables, show counts?\n",
    "        # corrs is most important.\n",
    "        #https://plotly.com/python/heatmaps/\n",
    "\n",
    "#structure: 8 callbacks. first check if the metric should be displayed, then add each plot to children\n",
    "#then send to div.\n",
    "###############ACTUAL GRAPH CONTENT DISPLAYS###############   \n",
    "#HAZARDS TAB\n",
    "@app.callback(Output('haz-things', 'children'),\n",
    "              [Input('prod_checklist', 'value'), Input('sent_checklist', 'value')])\n",
    "def render_content(values_in_plot_checklist, values_in_sent_checklist):\n",
    "    c = []\n",
    "    \n",
    "    for v in sent_vals:\n",
    "        if v in values_in_sent_checklist:\n",
    "            # render the plots which are desired, in pattern section.\n",
    "            \n",
    "            if plot_vals[0] in values_in_plot_checklist:\n",
    "                c.append(haz_graphs[v][plot_vals[0]])\n",
    "            if plot_vals[1] in values_in_plot_checklist:\n",
    "                c.append(haz_graphs[v][plot_vals[1]])\n",
    "            if plot_vals[3] in values_in_plot_checklist:\n",
    "                c.append(haz_graphs[v][plot_vals[3]])                  \n",
    "    if c: #if not empty\n",
    "        return html.Div(children=c, className='flex-container')#, style={'id':'container'}\n",
    "\n",
    "#PRODUCTS TAB\n",
    "@app.callback(Output('prod-things', 'children'),\n",
    "              [Input('prod_checklist', 'value'), Input('sent_checklist', 'value')])\n",
    "def render_content(values_in_plot_checklist, values_in_sent_checklist):\n",
    "    c = []\n",
    "    \n",
    "    for v in sent_vals:\n",
    "        if v in values_in_sent_checklist:\n",
    "            # render the plots which are desired, in pattern section.\n",
    "            \n",
    "            if plot_vals[0] in values_in_plot_checklist:\n",
    "                c.append(prod_graphs[v][plot_vals[0]])\n",
    "            if plot_vals[1] in values_in_plot_checklist:\n",
    "                c.append(prod_graphs[v][plot_vals[1]])\n",
    "            if plot_vals[3] in values_in_plot_checklist:\n",
    "                c.append(prod_graphs[v][plot_vals[3]])                  \n",
    "    if c: #if not empty\n",
    "        return html.Div(children=c, className='flex-container')#https://www.w3schools.com/csS/css3_flexbox_items.asp"
   ]
  },
  {
   "cell_type": "code",
   "execution_count": null,
   "metadata": {},
   "outputs": [
    {
     "name": "stdout",
     "output_type": "stream",
     "text": [
      "Dash is running on http://127.0.0.1:8050/\n",
      "\n",
      " * Serving Flask app '__main__' (lazy loading)\n",
      " * Environment: production\n",
      "\u001b[31m   WARNING: This is a development server. Do not use it in a production deployment.\u001b[0m\n",
      "\u001b[2m   Use a production WSGI server instead.\u001b[0m\n",
      " * Debug mode: on\n"
     ]
    }
   ],
   "source": [
    "if __name__ == '__main__':\n",
    "    app.run_server(debug=True, use_reloader=False)"
   ]
  },
  {
   "cell_type": "code",
   "execution_count": null,
   "metadata": {},
   "outputs": [],
   "source": []
  },
  {
   "cell_type": "code",
   "execution_count": 21,
   "metadata": {},
   "outputs": [],
   "source": []
  },
  {
   "cell_type": "code",
   "execution_count": null,
   "metadata": {},
   "outputs": [],
   "source": [
    "#debug\n",
    "#an example of a dataframe...\n",
    "import pandas as pd\n",
    "from dash import dash_table\n",
    "\n",
    "df = pd.read_csv('https://raw.githubusercontent.com/plotly/datasets/master/solar.csv')\n",
    "\n",
    "blahhh = dash_table.DataTable(\n",
    "    id='table',\n",
    "    columns=[{\"name\": i, \"id\": i} for i in df.columns],\n",
    "    data=df.to_dict('records'),\n",
    ")"
   ]
  }
 ],
 "metadata": {
  "kernelspec": {
   "display_name": "Python 3",
   "language": "python",
   "name": "python3"
  },
  "language_info": {
   "codemirror_mode": {
    "name": "ipython",
    "version": 3
   },
   "file_extension": ".py",
   "mimetype": "text/x-python",
   "name": "python",
   "nbconvert_exporter": "python",
   "pygments_lexer": "ipython3",
   "version": "3.8.5"
  }
 },
 "nbformat": 4,
 "nbformat_minor": 4
}
